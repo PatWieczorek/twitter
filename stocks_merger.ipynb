{
 "cells": [
  {
   "cell_type": "code",
   "execution_count": 1,
   "metadata": {},
   "outputs": [],
   "source": [
    "import numpy as np\n",
    "import pandas as pd"
   ]
  },
  {
   "cell_type": "code",
   "execution_count": 2,
   "metadata": {},
   "outputs": [],
   "source": [
    "def clean_cols(columns):\n",
    "    columns = columns.str.replace('<', '').str.replace('>', '')\n",
    "    columns = columns.str.lower()\n",
    "    return columns"
   ]
  },
  {
   "cell_type": "code",
   "execution_count": 6,
   "metadata": {},
   "outputs": [
    {
     "name": "stdout",
     "output_type": "stream",
     "text": [
      "<class 'pandas.core.frame.DataFrame'>\n",
      "Int64Index: 63373 entries, 0 to 10563\n",
      "Data columns (total 9 columns):\n",
      " #   Column  Non-Null Count  Dtype  \n",
      "---  ------  --------------  -----  \n",
      " 0   ticker  63373 non-null  object \n",
      " 1   per     63373 non-null  int64  \n",
      " 2   date    63373 non-null  int64  \n",
      " 3   time    63373 non-null  int64  \n",
      " 4   open    63373 non-null  float64\n",
      " 5   high    63373 non-null  float64\n",
      " 6   low     63373 non-null  float64\n",
      " 7   close   63373 non-null  float64\n",
      " 8   vol     63373 non-null  int64  \n",
      "dtypes: float64(4), int64(4), object(1)\n",
      "memory usage: 4.8+ MB\n"
     ]
    }
   ],
   "source": [
    "company_names = ['amazon', 'apple', 'goog', 'googl', 'microsoft', 'tesla']\n",
    "stocks = pd.DataFrame()\n",
    "\n",
    "for company in company_names:\n",
    "    stocks_company = pd.read_csv(f'stocks/{company}_stocks.csv')\n",
    "    stocks_company.columns = clean_cols(stocks_company.columns)\n",
    "    stocks = pd.concat([stocks, stocks_company])\n",
    "stocks.info()"
   ]
  },
  {
   "cell_type": "code",
   "execution_count": 7,
   "metadata": {},
   "outputs": [
    {
     "data": {
      "text/html": [
       "<div>\n",
       "<style scoped>\n",
       "    .dataframe tbody tr th:only-of-type {\n",
       "        vertical-align: middle;\n",
       "    }\n",
       "\n",
       "    .dataframe tbody tr th {\n",
       "        vertical-align: top;\n",
       "    }\n",
       "\n",
       "    .dataframe thead th {\n",
       "        text-align: right;\n",
       "    }\n",
       "</style>\n",
       "<table border=\"1\" class=\"dataframe\">\n",
       "  <thead>\n",
       "    <tr style=\"text-align: right;\">\n",
       "      <th></th>\n",
       "      <th>ticker</th>\n",
       "      <th>per</th>\n",
       "      <th>date</th>\n",
       "      <th>time</th>\n",
       "      <th>open</th>\n",
       "      <th>high</th>\n",
       "      <th>low</th>\n",
       "      <th>close</th>\n",
       "      <th>vol</th>\n",
       "    </tr>\n",
       "  </thead>\n",
       "  <tbody>\n",
       "    <tr>\n",
       "      <th>0</th>\n",
       "      <td>US1.AMZN</td>\n",
       "      <td>60</td>\n",
       "      <td>20150102</td>\n",
       "      <td>180000</td>\n",
       "      <td>312.58</td>\n",
       "      <td>314.75</td>\n",
       "      <td>312.1100</td>\n",
       "      <td>313.52</td>\n",
       "      <td>404201</td>\n",
       "    </tr>\n",
       "    <tr>\n",
       "      <th>1</th>\n",
       "      <td>US1.AMZN</td>\n",
       "      <td>60</td>\n",
       "      <td>20150102</td>\n",
       "      <td>190000</td>\n",
       "      <td>313.25</td>\n",
       "      <td>313.59</td>\n",
       "      <td>308.6300</td>\n",
       "      <td>308.96</td>\n",
       "      <td>509208</td>\n",
       "    </tr>\n",
       "    <tr>\n",
       "      <th>2</th>\n",
       "      <td>US1.AMZN</td>\n",
       "      <td>60</td>\n",
       "      <td>20150102</td>\n",
       "      <td>200000</td>\n",
       "      <td>308.84</td>\n",
       "      <td>310.12</td>\n",
       "      <td>306.9601</td>\n",
       "      <td>309.75</td>\n",
       "      <td>427854</td>\n",
       "    </tr>\n",
       "    <tr>\n",
       "      <th>3</th>\n",
       "      <td>US1.AMZN</td>\n",
       "      <td>60</td>\n",
       "      <td>20150102</td>\n",
       "      <td>210000</td>\n",
       "      <td>309.77</td>\n",
       "      <td>309.93</td>\n",
       "      <td>308.0500</td>\n",
       "      <td>308.40</td>\n",
       "      <td>209933</td>\n",
       "    </tr>\n",
       "    <tr>\n",
       "      <th>4</th>\n",
       "      <td>US1.AMZN</td>\n",
       "      <td>60</td>\n",
       "      <td>20150102</td>\n",
       "      <td>220000</td>\n",
       "      <td>308.41</td>\n",
       "      <td>308.48</td>\n",
       "      <td>307.2500</td>\n",
       "      <td>308.35</td>\n",
       "      <td>158209</td>\n",
       "    </tr>\n",
       "  </tbody>\n",
       "</table>\n",
       "</div>"
      ],
      "text/plain": [
       "     ticker  per      date    time    open    high       low   close     vol\n",
       "0  US1.AMZN   60  20150102  180000  312.58  314.75  312.1100  313.52  404201\n",
       "1  US1.AMZN   60  20150102  190000  313.25  313.59  308.6300  308.96  509208\n",
       "2  US1.AMZN   60  20150102  200000  308.84  310.12  306.9601  309.75  427854\n",
       "3  US1.AMZN   60  20150102  210000  309.77  309.93  308.0500  308.40  209933\n",
       "4  US1.AMZN   60  20150102  220000  308.41  308.48  307.2500  308.35  158209"
      ]
     },
     "execution_count": 7,
     "metadata": {},
     "output_type": "execute_result"
    }
   ],
   "source": [
    "stocks.head()"
   ]
  },
  {
   "cell_type": "code",
   "execution_count": 19,
   "metadata": {},
   "outputs": [],
   "source": [
    "stocks['ticker'] = stocks['ticker'].apply(lambda x: x.split('.')[1])"
   ]
  },
  {
   "cell_type": "code",
   "execution_count": 20,
   "metadata": {},
   "outputs": [
    {
     "data": {
      "text/plain": [
       "AAPL     10572\n",
       "MSFT     10569\n",
       "TSLA     10564\n",
       "AMZN     10560\n",
       "GOOGL    10559\n",
       "GOOG     10549\n",
       "Name: ticker, dtype: int64"
      ]
     },
     "execution_count": 20,
     "metadata": {},
     "output_type": "execute_result"
    }
   ],
   "source": [
    "stocks['ticker'].value_counts()"
   ]
  },
  {
   "cell_type": "code",
   "execution_count": 26,
   "metadata": {},
   "outputs": [
    {
     "data": {
      "text/plain": [
       "array(['AMZN', 'AAPL', 'GOOG', 'GOOGL', 'MSFT', 'TSLA'], dtype=object)"
      ]
     },
     "execution_count": 26,
     "metadata": {},
     "output_type": "execute_result"
    }
   ],
   "source": []
  },
  {
   "cell_type": "code",
   "execution_count": 28,
   "metadata": {},
   "outputs": [],
   "source": [
    "for i in stocks['ticker'].unique():\n",
    "    stocks[stocks['ticker'] == i].to_csv(f'stocks_clean/{i}.csv', index=None)"
   ]
  }
 ],
 "metadata": {
  "interpreter": {
   "hash": "5afecddb898814c68502931846f5d995c552467ab2508dfd835e22d9de9f82eb"
  },
  "kernelspec": {
   "display_name": "Python 3.10.0 64-bit",
   "language": "python",
   "name": "python3"
  },
  "language_info": {
   "codemirror_mode": {
    "name": "ipython",
    "version": 3
   },
   "file_extension": ".py",
   "mimetype": "text/x-python",
   "name": "python",
   "nbconvert_exporter": "python",
   "pygments_lexer": "ipython3",
   "version": "3.10.4"
  },
  "orig_nbformat": 4
 },
 "nbformat": 4,
 "nbformat_minor": 2
}
