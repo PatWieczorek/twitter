{
 "cells": [
  {
   "cell_type": "code",
   "execution_count": 44,
   "metadata": {},
   "outputs": [],
   "source": [
    "import numpy as np\n",
    "import pandas as pd"
   ]
  },
  {
   "cell_type": "code",
   "execution_count": 45,
   "metadata": {},
   "outputs": [],
   "source": [
    "def clean_cols(columns):\n",
    "    columns = columns.str.replace('<', '').str.replace('>', '')\n",
    "    columns = columns.str.lower()\n",
    "    return columns"
   ]
  },
  {
   "cell_type": "code",
   "execution_count": 46,
   "metadata": {},
   "outputs": [
    {
     "name": "stdout",
     "output_type": "stream",
     "text": [
      "<class 'pandas.core.frame.DataFrame'>\n",
      "Int64Index: 63373 entries, 0 to 10563\n",
      "Data columns (total 9 columns):\n",
      " #   Column  Non-Null Count  Dtype  \n",
      "---  ------  --------------  -----  \n",
      " 0   ticker  63373 non-null  object \n",
      " 1   per     63373 non-null  int64  \n",
      " 2   date    63373 non-null  int64  \n",
      " 3   time    63373 non-null  int64  \n",
      " 4   open    63373 non-null  float64\n",
      " 5   high    63373 non-null  float64\n",
      " 6   low     63373 non-null  float64\n",
      " 7   close   63373 non-null  float64\n",
      " 8   vol     63373 non-null  int64  \n",
      "dtypes: float64(4), int64(4), object(1)\n",
      "memory usage: 4.8+ MB\n"
     ]
    }
   ],
   "source": [
    "company_names = ['amazon', 'apple', 'goog', 'googl', 'microsoft', 'tesla']\n",
    "stocks = pd.DataFrame()\n",
    "\n",
    "for company in company_names:\n",
    "    stocks_company = pd.read_csv(f'stocks/{company}_stocks.csv')\n",
    "    stocks_company.columns = clean_cols(stocks_company.columns)\n",
    "    stocks = stocks.append(stocks_company)\n",
    "stocks.info()"
   ]
  },
  {
   "cell_type": "code",
   "execution_count": 49,
   "metadata": {},
   "outputs": [
    {
     "name": "stdout",
     "output_type": "stream",
     "text": [
      "['US1.AMZN' 'US1.AAPL' 'US1.GOOG' 'US1.GOOGL' 'US1.MSFT' 'US1.TSLA']\n",
      "['AMZN' 'AAPL' 'GOOG' 'GOOGL' 'MSFT' 'TSLA']\n"
     ]
    }
   ],
   "source": [
    "print(stocks.loc[:, 'ticker'].unique())\n",
    "\n",
    "stocks.loc[:, 'ticker'] = stocks.loc[:, 'ticker'].apply(lambda x: x.split('.')[1])\n",
    "\n",
    "print(stocks.loc[:, 'ticker'].unique())"
   ]
  },
  {
   "cell_type": "code",
   "execution_count": null,
   "metadata": {},
   "outputs": [],
   "source": [
    "# wczytujemy zbior danych z wartoscia sentymentu w okreslonym czasie\n",
    "\n",
    "# lacze 2 zbiory "
   ]
  }
 ],
 "metadata": {
  "interpreter": {
   "hash": "5afecddb898814c68502931846f5d995c552467ab2508dfd835e22d9de9f82eb"
  },
  "kernelspec": {
   "display_name": "Python 3.10.0 64-bit",
   "language": "python",
   "name": "python3"
  },
  "language_info": {
   "codemirror_mode": {
    "name": "ipython",
    "version": 3
   },
   "file_extension": ".py",
   "mimetype": "text/x-python",
   "name": "python",
   "nbconvert_exporter": "python",
   "pygments_lexer": "ipython3",
   "version": "3.10.0"
  },
  "orig_nbformat": 4
 },
 "nbformat": 4,
 "nbformat_minor": 2
}
