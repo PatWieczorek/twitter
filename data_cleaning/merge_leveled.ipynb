{
 "cells": [
  {
   "cell_type": "code",
   "execution_count": 1,
   "metadata": {},
   "outputs": [],
   "source": [
    "import pandas as pd"
   ]
  },
  {
   "cell_type": "code",
   "execution_count": 2,
   "metadata": {},
   "outputs": [],
   "source": [
    "companies = [\"AMZN\", \"AAPL\", \"MSFT\", \"TSLA\", \"GOOG\", \"GOOGL\"]"
   ]
  },
  {
   "cell_type": "code",
   "execution_count": 5,
   "metadata": {},
   "outputs": [],
   "source": [
    "df = pd.read_csv(\"../datasets/sentiment_leveled/AMZN.csv\", parse_dates=[\"post_date\"])"
   ]
  },
  {
   "cell_type": "code",
   "execution_count": 16,
   "metadata": {},
   "outputs": [],
   "source": [
    "pcnt = {}\n",
    "df_len = len(df)\n",
    "for i in df.columns:\n",
    "    pcnt[i] = sum(df[i].isnull())/df_len * 100"
   ]
  },
  {
   "cell_type": "code",
   "execution_count": 17,
   "metadata": {},
   "outputs": [
    {
     "data": {
      "text/plain": [
       "{'post_date': 0.0,\n",
       " 'max_comp_comms': 41.85927567646557,\n",
       " 'max_neg_comms': 41.85927567646557,\n",
       " 'max_neu_comms': 41.85927567646557,\n",
       " 'max_pos_comms': 41.85927567646557,\n",
       " 'min_comp_comms': 41.85927567646557,\n",
       " 'min_neg_comms': 41.85927567646557,\n",
       " 'min_neu_comms': 41.85927567646557,\n",
       " 'min_pos_comms': 41.85927567646557,\n",
       " 'std_comp_comms': 63.810613994495725,\n",
       " 'std_neg_comms': 63.810613994495725,\n",
       " 'std_neu_comms': 63.810613994495725,\n",
       " 'std_pos_comms': 63.810613994495725,\n",
       " 'mean_comp_comms': 41.85927567646557,\n",
       " 'mean_neg_comms': 41.85927567646557,\n",
       " 'mean_neu_comms': 41.85927567646557,\n",
       " 'mean_pos_comms': 41.85927567646557,\n",
       " 'median_comp_comms': 41.85927567646557,\n",
       " 'median_neg_comms': 41.85927567646557,\n",
       " 'median_neu_comms': 41.85927567646557,\n",
       " 'median_pos_comms': 41.85927567646557,\n",
       " 'count_comms': 41.85927567646557,\n",
       " 'max_comp_rtwts': 25.636279500231375,\n",
       " 'max_neg_rtwts': 25.636279500231375,\n",
       " 'max_neu_rtwts': 25.636279500231375,\n",
       " 'max_pos_rtwts': 25.636279500231375,\n",
       " 'min_comp_rtwts': 25.636279500231375,\n",
       " 'min_neg_rtwts': 25.636279500231375,\n",
       " 'min_neu_rtwts': 25.636279500231375,\n",
       " 'min_pos_rtwts': 25.636279500231375,\n",
       " 'std_comp_rtwts': 47.227160914781166,\n",
       " 'std_neg_rtwts': 47.227160914781166,\n",
       " 'std_neu_rtwts': 47.227160914781166,\n",
       " 'std_pos_rtwts': 47.227160914781166,\n",
       " 'mean_comp_rtwts': 25.636279500231375,\n",
       " 'mean_neg_rtwts': 25.636279500231375,\n",
       " 'mean_neu_rtwts': 25.636279500231375,\n",
       " 'mean_pos_rtwts': 25.636279500231375,\n",
       " 'median_comp_rtwts': 25.636279500231375,\n",
       " 'median_neg_rtwts': 25.636279500231375,\n",
       " 'median_neu_rtwts': 25.636279500231375,\n",
       " 'median_pos_rtwts': 25.636279500231375,\n",
       " 'count_rtwts': 25.636279500231375,\n",
       " 'max_comp_likes': 15.409532623785285,\n",
       " 'max_neg_likes': 15.409532623785285,\n",
       " 'max_neu_likes': 15.409532623785285,\n",
       " 'max_pos_likes': 15.409532623785285,\n",
       " 'min_comp_likes': 15.409532623785285,\n",
       " 'min_neg_likes': 15.409532623785285,\n",
       " 'min_neu_likes': 15.409532623785285,\n",
       " 'min_pos_likes': 15.409532623785285,\n",
       " 'std_comp_likes': 32.07335785089749,\n",
       " 'std_neg_likes': 32.07335785089749,\n",
       " 'std_neu_likes': 32.07335785089749,\n",
       " 'std_pos_likes': 32.07335785089749,\n",
       " 'mean_comp_likes': 15.409532623785285,\n",
       " 'mean_neg_likes': 15.409532623785285,\n",
       " 'mean_neu_likes': 15.409532623785285,\n",
       " 'mean_pos_likes': 15.409532623785285,\n",
       " 'median_comp_likes': 15.409532623785285,\n",
       " 'median_neg_likes': 15.409532623785285,\n",
       " 'median_neu_likes': 15.409532623785285,\n",
       " 'median_pos_likes': 15.409532623785285,\n",
       " 'count_likes': 15.409532623785285,\n",
       " 'max_comp_all': 63.45502813025159,\n",
       " 'max_neg_all': 63.45502813025159,\n",
       " 'max_neu_all': 63.45502813025159,\n",
       " 'max_pos_all': 63.45502813025159,\n",
       " 'min_comp_all': 63.45502813025159,\n",
       " 'min_neg_all': 63.45502813025159,\n",
       " 'min_neu_all': 63.45502813025159,\n",
       " 'min_pos_all': 63.45502813025159,\n",
       " 'std_comp_all': 84.59533841545094,\n",
       " 'std_neg_all': 84.59533841545094,\n",
       " 'std_neu_all': 84.59533841545094,\n",
       " 'std_pos_all': 84.59533841545094,\n",
       " 'mean_comp_all': 63.45502813025159,\n",
       " 'mean_neg_all': 63.45502813025159,\n",
       " 'mean_neu_all': 63.45502813025159,\n",
       " 'mean_pos_all': 63.45502813025159,\n",
       " 'median_comp_all': 63.45502813025159,\n",
       " 'median_neg_all': 63.45502813025159,\n",
       " 'median_neu_all': 63.45502813025159,\n",
       " 'median_pos_all': 63.45502813025159,\n",
       " 'count_all': 63.45502813025159,\n",
       " 'max_comp_rest': 0.14856669670474196,\n",
       " 'max_neg_rest': 0.14856669670474196,\n",
       " 'max_neu_rest': 0.14856669670474196,\n",
       " 'max_pos_rest': 0.14856669670474196,\n",
       " 'min_comp_rest': 0.14856669670474196,\n",
       " 'min_neg_rest': 0.14856669670474196,\n",
       " 'min_neu_rest': 0.14856669670474196,\n",
       " 'min_pos_rest': 0.14856669670474196,\n",
       " 'std_comp_rest': 4.016171850264254,\n",
       " 'std_neg_rest': 4.016171850264254,\n",
       " 'std_neu_rest': 4.016171850264254,\n",
       " 'std_pos_rest': 4.016171850264254,\n",
       " 'mean_comp_rest': 0.14856669670474196,\n",
       " 'mean_neg_rest': 0.14856669670474196,\n",
       " 'mean_neu_rest': 0.14856669670474196,\n",
       " 'mean_pos_rest': 0.14856669670474196,\n",
       " 'median_comp_rest': 0.14856669670474196,\n",
       " 'median_neg_rest': 0.14856669670474196,\n",
       " 'median_neu_rest': 0.14856669670474196,\n",
       " 'median_pos_rest': 0.14856669670474196,\n",
       " 'count_rest': 0.14856669670474196}"
      ]
     },
     "execution_count": 17,
     "metadata": {},
     "output_type": "execute_result"
    }
   ],
   "source": [
    "pcnt"
   ]
  }
 ],
 "metadata": {
  "kernelspec": {
   "display_name": "Python 3.10.0 64-bit",
   "language": "python",
   "name": "python3"
  },
  "language_info": {
   "codemirror_mode": {
    "name": "ipython",
    "version": 3
   },
   "file_extension": ".py",
   "mimetype": "text/x-python",
   "name": "python",
   "nbconvert_exporter": "python",
   "pygments_lexer": "ipython3",
   "version": "3.10.0"
  },
  "orig_nbformat": 4,
  "vscode": {
   "interpreter": {
    "hash": "1dd0381d1fc2fb15dda0c9601b2866ce5a466e54b3f253773e8ed097d13694fa"
   }
  }
 },
 "nbformat": 4,
 "nbformat_minor": 2
}
