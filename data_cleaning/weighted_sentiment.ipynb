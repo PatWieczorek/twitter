{
 "cells": [
  {
   "cell_type": "code",
   "execution_count": 3,
   "metadata": {},
   "outputs": [],
   "source": [
    "import pandas as pd\n",
    "import numpy as np\n",
    "from vaderSentiment.vaderSentiment import SentimentIntensityAnalyzer"
   ]
  },
  {
   "cell_type": "code",
   "execution_count": 4,
   "metadata": {},
   "outputs": [],
   "source": [
    "tweets_main = pd.read_csv(f'../datasets/tweets_full.csv')\n",
    "analyzer = SentimentIntensityAnalyzer()"
   ]
  },
  {
   "cell_type": "code",
   "execution_count": 88,
   "metadata": {},
   "outputs": [],
   "source": [
    "company = \"AMZN\"\n",
    "tweets = tweets_main[tweets_main[\"ticker_symbol\"] == company].copy().reset_index(drop=True)"
   ]
  },
  {
   "cell_type": "code",
   "execution_count": 193,
   "metadata": {},
   "outputs": [],
   "source": [
    "def clean_body(col):\n",
    "    import re\n",
    "\n",
    "    # usun urle\n",
    "    # usun hashtagi\n",
    "    pattern_url = r\"https?://[a-z.]+/[?a-z0-9./]+\"\n",
    "    pattern_hash = r\"#\"\n",
    "    col = re.sub(pattern_url, \"\", col, flags=re.I)\n",
    "    col = re.sub(pattern_hash, \"\", col, flags=re.I)\n",
    "\n",
    "    return col\n",
    "\n",
    "\n",
    "def convert_dict_keyval_to_col(dict, key):\n",
    "    new_col = []\n",
    "    for i in dict:\n",
    "        new_col.append(i[key])\n",
    "    return new_col\n",
    "\n",
    "\n",
    "def calc_sentiment(df, other_cols):\n",
    "    df = df.copy()\n",
    "    sent = df[\"body\"].apply(analyzer.polarity_scores)\n",
    "\n",
    "    sentiment_val = pd.DataFrame()\n",
    "    sentiment_val[\"pos\"] = convert_dict_keyval_to_col(sent, \"pos\")\n",
    "    sentiment_val[\"neu\"] = convert_dict_keyval_to_col(sent, \"neu\")\n",
    "    sentiment_val[\"neg\"] = convert_dict_keyval_to_col(sent, \"neg\")\n",
    "    sentiment_val[\"comp\"] = convert_dict_keyval_to_col(sent, \"compound\")\n",
    "\n",
    "    for col in other_cols:\n",
    "        sentiment_val[col] = df[col]\n",
    "\n",
    "    return sentiment_val\n",
    "\n",
    "\n",
    "def create_weight(df):\n",
    "    pass\n",
    "\n",
    "\n",
    "def calc_weight(tweet):\n",
    "    retweets = tweet.retweet_num\n",
    "    likes = tweet.like_num\n",
    "    comms = tweet.comment_num\n",
    "    weight = 0\n",
    "    if tweet.retweet_num == 0:\n",
    "        weight = 1 + 0.05 * likes + 0.2 * comms\n",
    "    else:\n",
    "        weight = retweets * (1 + 0.05 * likes + 0.2 * comms)\n",
    "    return weight\n",
    "\n",
    "\n",
    "def calc_weight_2(tweet):\n",
    "    retweets = tweet.retweet_num\n",
    "    likes = tweet.like_num\n",
    "    comms = tweet.comment_num\n",
    "    weight = 0\n",
    "    if tweet.retweet_num == 0:\n",
    "        weight = 1 + 0.05 * likes + 0.2 * comms\n",
    "    else:\n",
    "        weight = 1 + 0.5 * retweets + 0.05 * likes + 0.2 * comms\n",
    "    return weight\n",
    "\n",
    "\n",
    "def explore_weights(df, col):\n",
    "    print(df[df[col] == max(df[col])].body)\n",
    "    print(tweets[col].describe(percentiles=[0.05 * (i + 1) for i in range(19)]))\n",
    "\n",
    "\n",
    "def percentage_weights(df, col):\n",
    "    base = round(len(df.loc[df[col] == 1]) / len(df), 3) * 100\n",
    "    one_three = len(df.loc[(df[col] > 1) & (df[col] < 3)]) / len(tweets) * 100\n",
    "    three_five = len(df.loc[(df[col] > 3) & (df[col] < 10)]) / len(tweets) * 100\n",
    "\n",
    "    print(\"Worth 1 tweet:\", round(base, 3))\n",
    "    print(\"Worth 1 to 3 tweets:\", round(one_three, 3))\n",
    "    print(\"Worth 3 to 5 tweets:\", round(three_five, 3))\n",
    "    print(\"Total: \", round(base, 3) + round(one_three, 3) + round(three_five, 3))"
   ]
  },
  {
   "cell_type": "code",
   "execution_count": 177,
   "metadata": {},
   "outputs": [],
   "source": [
    "tweets[\"weight\"] = tweets.apply(calc_weight, axis=1)\n",
    "tweets[\"weight2\"] = tweets.apply(calc_weight_2, axis=1)"
   ]
  },
  {
   "cell_type": "code",
   "execution_count": 154,
   "metadata": {},
   "outputs": [
    {
     "name": "stdout",
     "output_type": "stream",
     "text": [
      "64.7 30.7 2.9000000000000004 98.30000000000001\n"
     ]
    }
   ],
   "source": [
    "base = round(len(tweets.loc[tweets[\"weight\"] == 1]) / len(tweets), 3) * 100\n",
    "one_three = (\n",
    "    round(\n",
    "        len(tweets.loc[(tweets[\"weight\"] > 1) & (tweets[\"weight\"] < 3)]) / len(tweets),\n",
    "        3,\n",
    "    )\n",
    "    * 100\n",
    ")\n",
    "three_five = (\n",
    "    round(\n",
    "        len(tweets.loc[(tweets[\"weight\"] > 3) & (tweets[\"weight\"] < 10)]) / len(tweets),\n",
    "        3,\n",
    "    )\n",
    "    * 100\n",
    ")\n",
    "print(base, one_three, three_five, base + one_three + three_five)"
   ]
  },
  {
   "cell_type": "code",
   "execution_count": 188,
   "metadata": {},
   "outputs": [
    {
     "name": "stdout",
     "output_type": "stream",
     "text": [
      "Worth 1 tweet: 64.7\n",
      "Worth 1 to 3 tweets: 30.692\n",
      "Worth 3 to 5 tweets: 2.937\n",
      "Total:  98.329\n"
     ]
    }
   ],
   "source": [
    "percentage_weights(tweets, \"weight\")"
   ]
  },
  {
   "cell_type": "code",
   "execution_count": 189,
   "metadata": {},
   "outputs": [
    {
     "name": "stdout",
     "output_type": "stream",
     "text": [
      "Worth 1 tweet: 61.2\n",
      "Worth 1 to 3 tweets: 35.32\n",
      "Worth 3 to 5 tweets: 2.795\n",
      "Total:  99.31500000000001\n"
     ]
    }
   ],
   "source": [
    "percentage_weights(tweets, \"weight2\")"
   ]
  },
  {
   "cell_type": "code",
   "execution_count": 194,
   "metadata": {},
   "outputs": [
    {
     "name": "stdout",
     "output_type": "stream",
     "text": [
      "297997    Will We Hold It Wednesday - Nasdaq 5,400 Editi...\n",
      "Name: body, dtype: object\n",
      "count    718715.000000\n",
      "mean          1.402858\n",
      "std           3.743355\n",
      "min           1.000000\n",
      "5%            1.000000\n",
      "10%           1.000000\n",
      "15%           1.000000\n",
      "20%           1.000000\n",
      "25%           1.000000\n",
      "30%           1.000000\n",
      "35%           1.000000\n",
      "40%           1.000000\n",
      "45%           1.000000\n",
      "50%           1.000000\n",
      "55%           1.000000\n",
      "60%           1.000000\n",
      "65%           1.050000\n",
      "70%           1.050000\n",
      "75%           1.150000\n",
      "80%           1.300000\n",
      "85%           1.500000\n",
      "90%           1.700000\n",
      "95%           2.400000\n",
      "max         511.500000\n",
      "Name: weight2, dtype: float64\n"
     ]
    }
   ],
   "source": [
    "explore_weights(tweets, \"weight2\")"
   ]
  },
  {
   "cell_type": "code",
   "execution_count": 192,
   "metadata": {},
   "outputs": [
    {
     "name": "stdout",
     "output_type": "stream",
     "text": [
      "255699    Sometimes hard to wrap your head around $AMZN\n",
      "Name: body, dtype: object\n",
      "count    718715.000000\n",
      "mean          3.628926\n",
      "std         114.873287\n",
      "min           1.000000\n",
      "5%            1.000000\n",
      "10%           1.000000\n",
      "15%           1.000000\n",
      "20%           1.000000\n",
      "25%           1.000000\n",
      "30%           1.000000\n",
      "35%           1.000000\n",
      "40%           1.000000\n",
      "45%           1.000000\n",
      "50%           1.000000\n",
      "55%           1.000000\n",
      "60%           1.000000\n",
      "65%           1.050000\n",
      "70%           1.050000\n",
      "75%           1.050000\n",
      "80%           1.100000\n",
      "85%           1.200000\n",
      "90%           1.400000\n",
      "95%           2.600000\n",
      "max       31524.800000\n",
      "Name: weight, dtype: float64\n"
     ]
    }
   ],
   "source": [
    "explore_weights(tweets, \"weight\")"
   ]
  },
  {
   "cell_type": "code",
   "execution_count": 144,
   "metadata": {},
   "outputs": [
    {
     "name": "stdout",
     "output_type": "stream",
     "text": [
      "1.3\n"
     ]
    },
    {
     "data": {
      "text/plain": [
       "<AxesSubplot:>"
      ]
     },
     "execution_count": 144,
     "metadata": {},
     "output_type": "execute_result"
    },
    {
     "data": {
      "image/png": "[encoded data removed]",
      "text/plain": [
       "<Figure size 432x288 with 1 Axes>"
      ]
     },
     "metadata": {
      "needs_background": "light"
     },
     "output_type": "display_data"
    }
   ],
   "source": [
    "x = tweets.loc[(tweets[\"weight\"] > 5) & (tweets[\"weight\"] < 10), \"weight\"]\n",
    "print(round(len(x)/len(tweets), 3)*100)\n",
    "x.hist()"
   ]
  },
  {
   "cell_type": "code",
   "execution_count": 121,
   "metadata": {},
   "outputs": [
    {
     "data": {
      "text/plain": [
       "<AxesSubplot:>"
      ]
     },
     "execution_count": 121,
     "metadata": {},
     "output_type": "execute_result"
    },
    {
     "data": {
      "image/png": "[encoded data removed]",
      "text/plain": [
       "<Figure size 432x288 with 1 Axes>"
      ]
     },
     "metadata": {
      "needs_background": "light"
     },
     "output_type": "display_data"
    }
   ],
   "source": [
    "tweets.loc[tweets[\"weight\"] < 3, \"weight\"].hist()"
   ]
  },
  {
   "cell_type": "code",
   "execution_count": 19,
   "metadata": {},
   "outputs": [
    {
     "data": {
      "text/plain": [
       "2.2"
      ]
     },
     "execution_count": 19,
     "metadata": {},
     "output_type": "execute_result"
    }
   ],
   "source": [
    "calc_weight(tweets.iloc[0])"
   ]
  },
  {
   "cell_type": "code",
   "execution_count": null,
   "metadata": {},
   "outputs": [],
   "source": [
    "tweets_clean = tweets['body'].apply(clean_body)"
   ]
  },
  {
   "cell_type": "code",
   "execution_count": null,
   "metadata": {},
   "outputs": [],
   "source": [
    "weighted_mean = lambda x: np.average()"
   ]
  }
 ],
 "metadata": {
  "kernelspec": {
   "display_name": "Python 3.10.0 64-bit",
   "language": "python",
   "name": "python3"
  },
  "language_info": {
   "codemirror_mode": {
    "name": "ipython",
    "version": 3
   },
   "file_extension": ".py",
   "mimetype": "text/x-python",
   "name": "python",
   "nbconvert_exporter": "python",
   "pygments_lexer": "ipython3",
   "version": "3.10.0"
  },
  "orig_nbformat": 4,
  "vscode": {
   "interpreter": {
    "hash": "1dd0381d1fc2fb15dda0c9601b2866ce5a466e54b3f253773e8ed097d13694fa"
   }
  }
 },
 "nbformat": 4,
 "nbformat_minor": 2
}
