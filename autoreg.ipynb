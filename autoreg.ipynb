{
 "cells": [
  {
   "cell_type": "code",
   "execution_count": 112,
   "metadata": {},
   "outputs": [],
   "source": [
    "import pandas as pd\n",
    "from statsmodels.tsa.ar_model import AutoReg\n",
    "import matplotlib.pyplot as plt\n",
    "from matplotlib.dates import DateFormatter\n",
    "import numpy as np"
   ]
  },
  {
   "cell_type": "code",
   "execution_count": 113,
   "metadata": {},
   "outputs": [],
   "source": [
    "stocks = pd.read_csv('stocks_clean/AAPL.csv', parse_dates=['date_'])"
   ]
  },
  {
   "cell_type": "code",
   "execution_count": 114,
   "metadata": {},
   "outputs": [
    {
     "name": "stdout",
     "output_type": "stream",
     "text": [
      "<class 'pandas.core.frame.DataFrame'>\n",
      "RangeIndex: 10569 entries, 0 to 10568\n",
      "Data columns (total 7 columns):\n",
      " #   Column  Non-Null Count  Dtype         \n",
      "---  ------  --------------  -----         \n",
      " 0   date_   10569 non-null  datetime64[ns]\n",
      " 1   ticker  10569 non-null  object        \n",
      " 2   open    10569 non-null  float64       \n",
      " 3   high    10569 non-null  float64       \n",
      " 4   low     10569 non-null  float64       \n",
      " 5   close   10569 non-null  float64       \n",
      " 6   vol     10569 non-null  int64         \n",
      "dtypes: datetime64[ns](1), float64(4), int64(1), object(1)\n",
      "memory usage: 578.1+ KB\n"
     ]
    }
   ],
   "source": [
    "stocks.info()"
   ]
  },
  {
   "cell_type": "code",
   "execution_count": 115,
   "metadata": {},
   "outputs": [
    {
     "data": {
      "text/html": [
       "<div>\n",
       "<style scoped>\n",
       "    .dataframe tbody tr th:only-of-type {\n",
       "        vertical-align: middle;\n",
       "    }\n",
       "\n",
       "    .dataframe tbody tr th {\n",
       "        vertical-align: top;\n",
       "    }\n",
       "\n",
       "    .dataframe thead th {\n",
       "        text-align: right;\n",
       "    }\n",
       "</style>\n",
       "<table border=\"1\" class=\"dataframe\">\n",
       "  <thead>\n",
       "    <tr style=\"text-align: right;\">\n",
       "      <th></th>\n",
       "      <th>date_</th>\n",
       "      <th>ticker</th>\n",
       "      <th>open</th>\n",
       "      <th>high</th>\n",
       "      <th>low</th>\n",
       "      <th>close</th>\n",
       "      <th>vol</th>\n",
       "    </tr>\n",
       "  </thead>\n",
       "  <tbody>\n",
       "    <tr>\n",
       "      <th>0</th>\n",
       "      <td>2015-01-02 17:00:00</td>\n",
       "      <td>AAPL</td>\n",
       "      <td>111.390</td>\n",
       "      <td>111.44</td>\n",
       "      <td>108.650</td>\n",
       "      <td>109.5000</td>\n",
       "      <td>9886884</td>\n",
       "    </tr>\n",
       "    <tr>\n",
       "      <th>1</th>\n",
       "      <td>2015-01-02 18:00:00</td>\n",
       "      <td>AAPL</td>\n",
       "      <td>109.490</td>\n",
       "      <td>109.71</td>\n",
       "      <td>107.350</td>\n",
       "      <td>108.2850</td>\n",
       "      <td>12628997</td>\n",
       "    </tr>\n",
       "    <tr>\n",
       "      <th>2</th>\n",
       "      <td>2015-01-02 19:00:00</td>\n",
       "      <td>AAPL</td>\n",
       "      <td>108.290</td>\n",
       "      <td>108.79</td>\n",
       "      <td>107.850</td>\n",
       "      <td>108.7761</td>\n",
       "      <td>6291776</td>\n",
       "    </tr>\n",
       "    <tr>\n",
       "      <th>3</th>\n",
       "      <td>2015-01-02 20:00:00</td>\n",
       "      <td>AAPL</td>\n",
       "      <td>108.770</td>\n",
       "      <td>109.59</td>\n",
       "      <td>108.755</td>\n",
       "      <td>109.3550</td>\n",
       "      <td>5049924</td>\n",
       "    </tr>\n",
       "    <tr>\n",
       "      <th>4</th>\n",
       "      <td>2015-01-02 21:00:00</td>\n",
       "      <td>AAPL</td>\n",
       "      <td>109.355</td>\n",
       "      <td>109.47</td>\n",
       "      <td>108.750</td>\n",
       "      <td>108.9900</td>\n",
       "      <td>3663606</td>\n",
       "    </tr>\n",
       "  </tbody>\n",
       "</table>\n",
       "</div>"
      ],
      "text/plain": [
       "                date_ ticker     open    high      low     close       vol\n",
       "0 2015-01-02 17:00:00   AAPL  111.390  111.44  108.650  109.5000   9886884\n",
       "1 2015-01-02 18:00:00   AAPL  109.490  109.71  107.350  108.2850  12628997\n",
       "2 2015-01-02 19:00:00   AAPL  108.290  108.79  107.850  108.7761   6291776\n",
       "3 2015-01-02 20:00:00   AAPL  108.770  109.59  108.755  109.3550   5049924\n",
       "4 2015-01-02 21:00:00   AAPL  109.355  109.47  108.750  108.9900   3663606"
      ]
     },
     "execution_count": 115,
     "metadata": {},
     "output_type": "execute_result"
    }
   ],
   "source": [
    "stocks.head()"
   ]
  },
  {
   "cell_type": "code",
   "execution_count": 116,
   "metadata": {},
   "outputs": [],
   "source": [
    "sample = stocks[:1000]"
   ]
  },
  {
   "cell_type": "code",
   "execution_count": 117,
   "metadata": {},
   "outputs": [
    {
     "data": {
      "text/html": [
       "<div>\n",
       "<style scoped>\n",
       "    .dataframe tbody tr th:only-of-type {\n",
       "        vertical-align: middle;\n",
       "    }\n",
       "\n",
       "    .dataframe tbody tr th {\n",
       "        vertical-align: top;\n",
       "    }\n",
       "\n",
       "    .dataframe thead th {\n",
       "        text-align: right;\n",
       "    }\n",
       "</style>\n",
       "<table border=\"1\" class=\"dataframe\">\n",
       "  <thead>\n",
       "    <tr style=\"text-align: right;\">\n",
       "      <th></th>\n",
       "      <th>date_</th>\n",
       "      <th>ticker</th>\n",
       "      <th>open</th>\n",
       "      <th>high</th>\n",
       "      <th>low</th>\n",
       "      <th>close</th>\n",
       "      <th>vol</th>\n",
       "    </tr>\n",
       "  </thead>\n",
       "  <tbody>\n",
       "    <tr>\n",
       "      <th>0</th>\n",
       "      <td>2015-01-02 17:00:00</td>\n",
       "      <td>AAPL</td>\n",
       "      <td>111.390</td>\n",
       "      <td>111.440</td>\n",
       "      <td>108.650</td>\n",
       "      <td>109.5000</td>\n",
       "      <td>9886884</td>\n",
       "    </tr>\n",
       "    <tr>\n",
       "      <th>1</th>\n",
       "      <td>2015-01-02 18:00:00</td>\n",
       "      <td>AAPL</td>\n",
       "      <td>109.490</td>\n",
       "      <td>109.710</td>\n",
       "      <td>107.350</td>\n",
       "      <td>108.2850</td>\n",
       "      <td>12628997</td>\n",
       "    </tr>\n",
       "    <tr>\n",
       "      <th>2</th>\n",
       "      <td>2015-01-02 19:00:00</td>\n",
       "      <td>AAPL</td>\n",
       "      <td>108.290</td>\n",
       "      <td>108.790</td>\n",
       "      <td>107.850</td>\n",
       "      <td>108.7761</td>\n",
       "      <td>6291776</td>\n",
       "    </tr>\n",
       "    <tr>\n",
       "      <th>3</th>\n",
       "      <td>2015-01-02 20:00:00</td>\n",
       "      <td>AAPL</td>\n",
       "      <td>108.770</td>\n",
       "      <td>109.590</td>\n",
       "      <td>108.755</td>\n",
       "      <td>109.3550</td>\n",
       "      <td>5049924</td>\n",
       "    </tr>\n",
       "    <tr>\n",
       "      <th>4</th>\n",
       "      <td>2015-01-02 21:00:00</td>\n",
       "      <td>AAPL</td>\n",
       "      <td>109.355</td>\n",
       "      <td>109.470</td>\n",
       "      <td>108.750</td>\n",
       "      <td>108.9900</td>\n",
       "      <td>3663606</td>\n",
       "    </tr>\n",
       "    <tr>\n",
       "      <th>5</th>\n",
       "      <td>2015-01-02 22:00:00</td>\n",
       "      <td>AAPL</td>\n",
       "      <td>108.995</td>\n",
       "      <td>109.380</td>\n",
       "      <td>108.900</td>\n",
       "      <td>109.0800</td>\n",
       "      <td>3071880</td>\n",
       "    </tr>\n",
       "    <tr>\n",
       "      <th>6</th>\n",
       "      <td>2015-01-02 23:00:00</td>\n",
       "      <td>AAPL</td>\n",
       "      <td>109.080</td>\n",
       "      <td>109.524</td>\n",
       "      <td>108.690</td>\n",
       "      <td>109.3000</td>\n",
       "      <td>6452430</td>\n",
       "    </tr>\n",
       "    <tr>\n",
       "      <th>7</th>\n",
       "      <td>2015-01-05 17:00:00</td>\n",
       "      <td>AAPL</td>\n",
       "      <td>108.290</td>\n",
       "      <td>108.650</td>\n",
       "      <td>107.410</td>\n",
       "      <td>107.5746</td>\n",
       "      <td>7957798</td>\n",
       "    </tr>\n",
       "    <tr>\n",
       "      <th>8</th>\n",
       "      <td>2015-01-05 18:00:00</td>\n",
       "      <td>AAPL</td>\n",
       "      <td>107.570</td>\n",
       "      <td>108.190</td>\n",
       "      <td>107.330</td>\n",
       "      <td>107.4200</td>\n",
       "      <td>7674767</td>\n",
       "    </tr>\n",
       "    <tr>\n",
       "      <th>9</th>\n",
       "      <td>2015-01-05 19:00:00</td>\n",
       "      <td>AAPL</td>\n",
       "      <td>107.425</td>\n",
       "      <td>107.530</td>\n",
       "      <td>106.550</td>\n",
       "      <td>106.8733</td>\n",
       "      <td>8600950</td>\n",
       "    </tr>\n",
       "  </tbody>\n",
       "</table>\n",
       "</div>"
      ],
      "text/plain": [
       "                date_ ticker     open     high      low     close       vol\n",
       "0 2015-01-02 17:00:00   AAPL  111.390  111.440  108.650  109.5000   9886884\n",
       "1 2015-01-02 18:00:00   AAPL  109.490  109.710  107.350  108.2850  12628997\n",
       "2 2015-01-02 19:00:00   AAPL  108.290  108.790  107.850  108.7761   6291776\n",
       "3 2015-01-02 20:00:00   AAPL  108.770  109.590  108.755  109.3550   5049924\n",
       "4 2015-01-02 21:00:00   AAPL  109.355  109.470  108.750  108.9900   3663606\n",
       "5 2015-01-02 22:00:00   AAPL  108.995  109.380  108.900  109.0800   3071880\n",
       "6 2015-01-02 23:00:00   AAPL  109.080  109.524  108.690  109.3000   6452430\n",
       "7 2015-01-05 17:00:00   AAPL  108.290  108.650  107.410  107.5746   7957798\n",
       "8 2015-01-05 18:00:00   AAPL  107.570  108.190  107.330  107.4200   7674767\n",
       "9 2015-01-05 19:00:00   AAPL  107.425  107.530  106.550  106.8733   8600950"
      ]
     },
     "execution_count": 117,
     "metadata": {},
     "output_type": "execute_result"
    }
   ],
   "source": [
    "sample.head(10)"
   ]
  },
  {
   "cell_type": "code",
   "execution_count": 156,
   "metadata": {},
   "outputs": [],
   "source": [
    "def plot_timeseries(data_set, vals, period='1M'):\n",
    "    date_range = pd.date_range(start=data_set.iloc[:, 0].min(), end=data_set.iloc[:, 0].max(), freq=period)\n",
    "    with plt.style.context('seaborn-notebook'):\n",
    "        fig, ax = plt.subplots()\n",
    "        plt.plot(data_set.columns[0], f'{vals}', data=data_set)\n",
    "        ax.set_xlabel(\"Date\")\n",
    "        ax.xaxis.set_major_formatter(DateFormatter(f'%Y-%m'))\n",
    "        plt.xticks(date_range)\n",
    "    plt.show()"
   ]
  },
  {
   "cell_type": "code",
   "execution_count": 149,
   "metadata": {},
   "outputs": [],
   "source": [
    "def exp_smoothing(series, alpha=0.3):\n",
    "    smoothed = [series[0]]\n",
    "    for i in range(1, len(series)):\n",
    "        smoothed.append(alpha*series[i] + 1-alpha * series[i-1])\n",
    "    return smoothed"
   ]
  },
  {
   "cell_type": "code",
   "execution_count": 158,
   "metadata": {},
   "outputs": [
    {
     "data": {
      "image/png": "[encoded data removed]",
      "text/plain": [
       "<Figure size 576x396 with 1 Axes>"
      ]
     },
     "metadata": {},
     "output_type": "display_data"
    },
    {
     "name": "stdout",
     "output_type": "stream",
     "text": [
      "CPU times: total: 141 ms\n",
      "Wall time: 133 ms\n"
     ]
    }
   ],
   "source": [
    "%%time\n",
    "plot_timeseries(sample, 'close', '1M')"
   ]
  }
 ],
 "metadata": {
  "interpreter": {
   "hash": "5afecddb898814c68502931846f5d995c552467ab2508dfd835e22d9de9f82eb"
  },
  "kernelspec": {
   "display_name": "Python 3.10.4 64-bit",
   "language": "python",
   "name": "python3"
  },
  "language_info": {
   "codemirror_mode": {
    "name": "ipython",
    "version": 3
   },
   "file_extension": ".py",
   "mimetype": "text/x-python",
   "name": "python",
   "nbconvert_exporter": "python",
   "pygments_lexer": "ipython3",
   "version": "3.10.4"
  },
  "orig_nbformat": 4
 },
 "nbformat": 4,
 "nbformat_minor": 2
}
