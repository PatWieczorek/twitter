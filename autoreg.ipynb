{
 "cells": [
  {
   "cell_type": "code",
   "execution_count": 7,
   "metadata": {},
   "outputs": [],
   "source": [
    "import pandas as pd"
   ]
  },
  {
   "cell_type": "code",
   "execution_count": 12,
   "metadata": {},
   "outputs": [],
   "source": [
    "stocks = pd.read_csv('stocks_clean/AAPL.csv')"
   ]
  },
  {
   "cell_type": "code",
   "execution_count": 13,
   "metadata": {},
   "outputs": [
    {
     "data": {
      "text/html": [
       "<div>\n",
       "<style scoped>\n",
       "    .dataframe tbody tr th:only-of-type {\n",
       "        vertical-align: middle;\n",
       "    }\n",
       "\n",
       "    .dataframe tbody tr th {\n",
       "        vertical-align: top;\n",
       "    }\n",
       "\n",
       "    .dataframe thead th {\n",
       "        text-align: right;\n",
       "    }\n",
       "</style>\n",
       "<table border=\"1\" class=\"dataframe\">\n",
       "  <thead>\n",
       "    <tr style=\"text-align: right;\">\n",
       "      <th></th>\n",
       "      <th>ticker</th>\n",
       "      <th>per</th>\n",
       "      <th>date</th>\n",
       "      <th>time</th>\n",
       "      <th>open</th>\n",
       "      <th>high</th>\n",
       "      <th>low</th>\n",
       "      <th>close</th>\n",
       "      <th>vol</th>\n",
       "    </tr>\n",
       "  </thead>\n",
       "  <tbody>\n",
       "    <tr>\n",
       "      <th>0</th>\n",
       "      <td>AAPL</td>\n",
       "      <td>60</td>\n",
       "      <td>20150102</td>\n",
       "      <td>180000</td>\n",
       "      <td>111.390</td>\n",
       "      <td>111.44</td>\n",
       "      <td>108.650</td>\n",
       "      <td>109.5000</td>\n",
       "      <td>9886884</td>\n",
       "    </tr>\n",
       "    <tr>\n",
       "      <th>1</th>\n",
       "      <td>AAPL</td>\n",
       "      <td>60</td>\n",
       "      <td>20150102</td>\n",
       "      <td>190000</td>\n",
       "      <td>109.490</td>\n",
       "      <td>109.71</td>\n",
       "      <td>107.350</td>\n",
       "      <td>108.2850</td>\n",
       "      <td>12628997</td>\n",
       "    </tr>\n",
       "    <tr>\n",
       "      <th>2</th>\n",
       "      <td>AAPL</td>\n",
       "      <td>60</td>\n",
       "      <td>20150102</td>\n",
       "      <td>200000</td>\n",
       "      <td>108.290</td>\n",
       "      <td>108.79</td>\n",
       "      <td>107.850</td>\n",
       "      <td>108.7761</td>\n",
       "      <td>6291776</td>\n",
       "    </tr>\n",
       "    <tr>\n",
       "      <th>3</th>\n",
       "      <td>AAPL</td>\n",
       "      <td>60</td>\n",
       "      <td>20150102</td>\n",
       "      <td>210000</td>\n",
       "      <td>108.770</td>\n",
       "      <td>109.59</td>\n",
       "      <td>108.755</td>\n",
       "      <td>109.3550</td>\n",
       "      <td>5049924</td>\n",
       "    </tr>\n",
       "    <tr>\n",
       "      <th>4</th>\n",
       "      <td>AAPL</td>\n",
       "      <td>60</td>\n",
       "      <td>20150102</td>\n",
       "      <td>220000</td>\n",
       "      <td>109.355</td>\n",
       "      <td>109.47</td>\n",
       "      <td>108.750</td>\n",
       "      <td>108.9900</td>\n",
       "      <td>3663606</td>\n",
       "    </tr>\n",
       "  </tbody>\n",
       "</table>\n",
       "</div>"
      ],
      "text/plain": [
       "  ticker  per      date    time     open    high      low     close       vol\n",
       "0   AAPL   60  20150102  180000  111.390  111.44  108.650  109.5000   9886884\n",
       "1   AAPL   60  20150102  190000  109.490  109.71  107.350  108.2850  12628997\n",
       "2   AAPL   60  20150102  200000  108.290  108.79  107.850  108.7761   6291776\n",
       "3   AAPL   60  20150102  210000  108.770  109.59  108.755  109.3550   5049924\n",
       "4   AAPL   60  20150102  220000  109.355  109.47  108.750  108.9900   3663606"
      ]
     },
     "execution_count": 13,
     "metadata": {},
     "output_type": "execute_result"
    }
   ],
   "source": [
    "stocks.head()"
   ]
  }
 ],
 "metadata": {
  "interpreter": {
   "hash": "5afecddb898814c68502931846f5d995c552467ab2508dfd835e22d9de9f82eb"
  },
  "kernelspec": {
   "display_name": "Python 3.10.4 64-bit",
   "language": "python",
   "name": "python3"
  },
  "language_info": {
   "codemirror_mode": {
    "name": "ipython",
    "version": 3
   },
   "file_extension": ".py",
   "mimetype": "text/x-python",
   "name": "python",
   "nbconvert_exporter": "python",
   "pygments_lexer": "ipython3",
   "version": "3.10.4"
  },
  "orig_nbformat": 4
 },
 "nbformat": 4,
 "nbformat_minor": 2
}
