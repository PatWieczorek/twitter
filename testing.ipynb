{
 "cells": [
  {
   "cell_type": "markdown",
   "metadata": {},
   "source": [
    "In this file I perform:\n",
    "* Granger causality test\n",
    "* SVR performance test"
   ]
  },
  {
   "cell_type": "code",
   "execution_count": 2,
   "metadata": {},
   "outputs": [],
   "source": [
    "from sklearn.svm import SVR\n",
    "from statsmodels.tsa.stattools import grangercausalitytests\n",
    "import pandas as pd"
   ]
  },
  {
   "cell_type": "code",
   "execution_count": 12,
   "metadata": {},
   "outputs": [],
   "source": [
    "data = pd.read_csv('stocks_sentiment/full_clean.csv', parse_dates=['date_'])"
   ]
  },
  {
   "cell_type": "code",
   "execution_count": 17,
   "metadata": {},
   "outputs": [
    {
     "data": {
      "text/plain": [
       "Index(['date_', 'ticker', 'open', 'high', 'low', 'close', 'vol', 'max_comp',\n",
       "       'max_neg', 'max_neu', 'max_pos', 'min_comp', 'min_neg', 'min_neu',\n",
       "       'min_pos', 'std_comp', 'std_neg', 'std_neu', 'std_pos', 'mean_comp',\n",
       "       'mean_neg', 'mean_neu', 'mean_pos', 'median_comp', 'median_neg',\n",
       "       'median_neu', 'median_pos', 'count'],\n",
       "      dtype='object')"
      ]
     },
     "execution_count": 17,
     "metadata": {},
     "output_type": "execute_result"
    }
   ],
   "source": [
    "data.columns"
   ]
  },
  {
   "cell_type": "code",
   "execution_count": 23,
   "metadata": {},
   "outputs": [
    {
     "name": "stdout",
     "output_type": "stream",
     "text": [
      "relevant: max_comp, 8.128277268587461e-06\n",
      "NOT relevant: max_neg, 0.8499923048896447\n",
      "NOT relevant: max_neu, 0.9948172174930319\n",
      "relevant: max_pos, 4.847583093258396e-05\n",
      "NOT relevant: min_comp, 0.8723408727875201\n",
      "NOT relevant: min_neg, 0.9950306467463146\n",
      "relevant: min_neu, 0.01915663690211321\n",
      "NOT relevant: min_pos, 0.9631917601455685\n",
      "relevant: std_comp, 0.006852337492067359\n",
      "NOT relevant: std_neg, 0.42452576577563317\n",
      "relevant: std_neu, 0.0006593173723547308\n",
      "relevant: std_pos, 7.817332821050242e-06\n",
      "relevant: mean_comp, 0.0007820933629723809\n",
      "relevant: mean_neg, 0.14760430289752496\n",
      "NOT relevant: mean_neu, 0.2149149889348676\n",
      "relevant: mean_pos, 0.0019156752763139543\n",
      "relevant: median_comp, 0.08793071248333993\n",
      "NOT relevant: median_neg, 0.920813437616117\n",
      "NOT relevant: median_neu, 0.995186599746726\n",
      "NOT relevant: median_pos, 0.4108163427062358\n",
      "NOT relevant: count, 0.49192860564541574\n"
     ]
    }
   ],
   "source": [
    "def granger_test_columns(data, target, columns):\n",
    "    relevant_cols = []\n",
    "    for col in columns:\n",
    "        p_val = 0\n",
    "        x = grangercausalitytests(data[[target, col]], maxlag=[3], verbose=False)\n",
    "        names = ['ssr_ftest', 'ssr_chi2test', 'lrtest', 'params_ftest']\n",
    "        p_val = sum([x[3][0][name][1] for name in names])/4\n",
    "        if p_val/4 < 0.05:\n",
    "            relevant_cols.append(col)\n",
    "        else:\n",
    "            print(f'NOT relevant: {col}, {p_val}')\n",
    "    return relevant_cols\n",
    "    \n",
    "col_names = ['max_comp', 'max_neg', 'max_neu', 'max_pos', 'min_comp', 'min_neg', 'min_neu',\n",
    "            'min_pos', 'std_comp', 'std_neg', 'std_neu', 'std_pos', 'mean_comp',\n",
    "            'mean_neg', 'mean_neu', 'mean_pos', 'median_comp', 'median_neg',\n",
    "            'median_neu', 'median_pos', 'count']\n",
    "\n",
    "granger_test_columns(data, 'close', col_names)"
   ]
  },
  {
   "cell_type": "markdown",
   "metadata": {},
   "source": [
    "### SVR\n",
    "* grid search\n",
    "* 4-folded cv"
   ]
  },
  {
   "cell_type": "code",
   "execution_count": null,
   "metadata": {},
   "outputs": [],
   "source": [
    "svr = SVR()\n"
   ]
  }
 ],
 "metadata": {
  "interpreter": {
   "hash": "1dd0381d1fc2fb15dda0c9601b2866ce5a466e54b3f253773e8ed097d13694fa"
  },
  "kernelspec": {
   "display_name": "Python 3.10.4 64-bit",
   "language": "python",
   "name": "python3"
  },
  "language_info": {
   "codemirror_mode": {
    "name": "ipython",
    "version": 3
   },
   "file_extension": ".py",
   "mimetype": "text/x-python",
   "name": "python",
   "nbconvert_exporter": "python",
   "pygments_lexer": "ipython3",
   "version": "3.10.4"
  },
  "orig_nbformat": 4
 },
 "nbformat": 4,
 "nbformat_minor": 2
}
