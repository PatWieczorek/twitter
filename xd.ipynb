{
 "cells": [
  {
   "cell_type": "code",
   "execution_count": 57,
   "metadata": {},
   "outputs": [],
   "source": [
    "import pandas as pd\n",
    "import numpy as np\n",
    "from sklearn.metrics import confusion_matrix\n",
    "from sklearn.tree import DecisionTreeClassifier, plot_tree\n",
    "from sklearn.model_selection import TimeSeriesSplit, GridSearchCV\n",
    "from scipy.stats import uniform, randint\n",
    "\n",
    "from models.tools import create_x_y, create_vectors\n"
   ]
  },
  {
   "cell_type": "code",
   "execution_count": 58,
   "metadata": {},
   "outputs": [],
   "source": [
    "def clean_cols(columns):\n",
    "    columns = columns.str.replace(\"<\", \"\").str.replace(\">\", \"\")\n",
    "    columns = columns.str.lower()\n",
    "    return columns"
   ]
  },
  {
   "cell_type": "code",
   "execution_count": 68,
   "metadata": {},
   "outputs": [
    {
     "data": {
      "text/html": [
       "<div>\n",
       "<style scoped>\n",
       "    .dataframe tbody tr th:only-of-type {\n",
       "        vertical-align: middle;\n",
       "    }\n",
       "\n",
       "    .dataframe tbody tr th {\n",
       "        vertical-align: top;\n",
       "    }\n",
       "\n",
       "    .dataframe thead th {\n",
       "        text-align: right;\n",
       "    }\n",
       "</style>\n",
       "<table border=\"1\" class=\"dataframe\">\n",
       "  <thead>\n",
       "    <tr style=\"text-align: right;\">\n",
       "      <th></th>\n",
       "      <th>&lt;TICKER&gt;</th>\n",
       "      <th>&lt;PER&gt;</th>\n",
       "      <th>&lt;DATE&gt;</th>\n",
       "      <th>&lt;TIME&gt;</th>\n",
       "      <th>&lt;OPEN&gt;</th>\n",
       "      <th>&lt;HIGH&gt;</th>\n",
       "      <th>&lt;LOW&gt;</th>\n",
       "      <th>&lt;CLOSE&gt;</th>\n",
       "      <th>&lt;VOL&gt;</th>\n",
       "    </tr>\n",
       "  </thead>\n",
       "  <tbody>\n",
       "    <tr>\n",
       "      <th>0</th>\n",
       "      <td>US1.AMZN</td>\n",
       "      <td>60</td>\n",
       "      <td>02/01/15</td>\n",
       "      <td>09:00</td>\n",
       "      <td>312.58</td>\n",
       "      <td>314.75</td>\n",
       "      <td>312.1100</td>\n",
       "      <td>313.52</td>\n",
       "      <td>404201</td>\n",
       "    </tr>\n",
       "    <tr>\n",
       "      <th>1</th>\n",
       "      <td>US1.AMZN</td>\n",
       "      <td>60</td>\n",
       "      <td>02/01/15</td>\n",
       "      <td>10:00</td>\n",
       "      <td>313.25</td>\n",
       "      <td>313.59</td>\n",
       "      <td>308.6300</td>\n",
       "      <td>308.96</td>\n",
       "      <td>509208</td>\n",
       "    </tr>\n",
       "    <tr>\n",
       "      <th>2</th>\n",
       "      <td>US1.AMZN</td>\n",
       "      <td>60</td>\n",
       "      <td>02/01/15</td>\n",
       "      <td>11:00</td>\n",
       "      <td>308.84</td>\n",
       "      <td>310.12</td>\n",
       "      <td>306.9601</td>\n",
       "      <td>309.75</td>\n",
       "      <td>427854</td>\n",
       "    </tr>\n",
       "    <tr>\n",
       "      <th>3</th>\n",
       "      <td>US1.AMZN</td>\n",
       "      <td>60</td>\n",
       "      <td>02/01/15</td>\n",
       "      <td>12:00</td>\n",
       "      <td>309.77</td>\n",
       "      <td>309.93</td>\n",
       "      <td>308.0500</td>\n",
       "      <td>308.40</td>\n",
       "      <td>209933</td>\n",
       "    </tr>\n",
       "    <tr>\n",
       "      <th>4</th>\n",
       "      <td>US1.AMZN</td>\n",
       "      <td>60</td>\n",
       "      <td>02/01/15</td>\n",
       "      <td>13:00</td>\n",
       "      <td>308.41</td>\n",
       "      <td>308.48</td>\n",
       "      <td>307.2500</td>\n",
       "      <td>308.35</td>\n",
       "      <td>158209</td>\n",
       "    </tr>\n",
       "  </tbody>\n",
       "</table>\n",
       "</div>"
      ],
      "text/plain": [
       "   <TICKER>  <PER>    <DATE> <TIME>  <OPEN>  <HIGH>     <LOW>  <CLOSE>   <VOL>\n",
       "0  US1.AMZN     60  02/01/15  09:00  312.58  314.75  312.1100   313.52  404201\n",
       "1  US1.AMZN     60  02/01/15  10:00  313.25  313.59  308.6300   308.96  509208\n",
       "2  US1.AMZN     60  02/01/15  11:00  308.84  310.12  306.9601   309.75  427854\n",
       "3  US1.AMZN     60  02/01/15  12:00  309.77  309.93  308.0500   308.40  209933\n",
       "4  US1.AMZN     60  02/01/15  13:00  308.41  308.48  307.2500   308.35  158209"
      ]
     },
     "execution_count": 68,
     "metadata": {},
     "output_type": "execute_result"
    }
   ],
   "source": [
    "df = pd.read_csv(\"amzn.csv\")\n",
    "df.head()"
   ]
  },
  {
   "cell_type": "code",
   "execution_count": 69,
   "metadata": {},
   "outputs": [
    {
     "data": {
      "text/html": [
       "<div>\n",
       "<style scoped>\n",
       "    .dataframe tbody tr th:only-of-type {\n",
       "        vertical-align: middle;\n",
       "    }\n",
       "\n",
       "    .dataframe tbody tr th {\n",
       "        vertical-align: top;\n",
       "    }\n",
       "\n",
       "    .dataframe thead th {\n",
       "        text-align: right;\n",
       "    }\n",
       "</style>\n",
       "<table border=\"1\" class=\"dataframe\">\n",
       "  <thead>\n",
       "    <tr style=\"text-align: right;\">\n",
       "      <th></th>\n",
       "      <th>ticker</th>\n",
       "      <th>per</th>\n",
       "      <th>date</th>\n",
       "      <th>time</th>\n",
       "      <th>open</th>\n",
       "      <th>high</th>\n",
       "      <th>low</th>\n",
       "      <th>close</th>\n",
       "      <th>vol</th>\n",
       "      <th>diffs</th>\n",
       "      <th>bin_3</th>\n",
       "    </tr>\n",
       "  </thead>\n",
       "  <tbody>\n",
       "    <tr>\n",
       "      <th>1</th>\n",
       "      <td>US1.AMZN</td>\n",
       "      <td>60</td>\n",
       "      <td>02/01/15</td>\n",
       "      <td>10:00</td>\n",
       "      <td>15.6625</td>\n",
       "      <td>15.6795</td>\n",
       "      <td>15.431500</td>\n",
       "      <td>15.4480</td>\n",
       "      <td>509208</td>\n",
       "      <td>-1.454453</td>\n",
       "      <td>-1</td>\n",
       "    </tr>\n",
       "    <tr>\n",
       "      <th>2</th>\n",
       "      <td>US1.AMZN</td>\n",
       "      <td>60</td>\n",
       "      <td>02/01/15</td>\n",
       "      <td>11:00</td>\n",
       "      <td>15.4420</td>\n",
       "      <td>15.5060</td>\n",
       "      <td>15.348005</td>\n",
       "      <td>15.4875</td>\n",
       "      <td>427854</td>\n",
       "      <td>0.255697</td>\n",
       "      <td>1</td>\n",
       "    </tr>\n",
       "    <tr>\n",
       "      <th>3</th>\n",
       "      <td>US1.AMZN</td>\n",
       "      <td>60</td>\n",
       "      <td>02/01/15</td>\n",
       "      <td>12:00</td>\n",
       "      <td>15.4885</td>\n",
       "      <td>15.4965</td>\n",
       "      <td>15.402500</td>\n",
       "      <td>15.4200</td>\n",
       "      <td>209933</td>\n",
       "      <td>-0.435835</td>\n",
       "      <td>-1</td>\n",
       "    </tr>\n",
       "    <tr>\n",
       "      <th>4</th>\n",
       "      <td>US1.AMZN</td>\n",
       "      <td>60</td>\n",
       "      <td>02/01/15</td>\n",
       "      <td>13:00</td>\n",
       "      <td>15.4205</td>\n",
       "      <td>15.4240</td>\n",
       "      <td>15.362500</td>\n",
       "      <td>15.4175</td>\n",
       "      <td>158209</td>\n",
       "      <td>-0.016213</td>\n",
       "      <td>0</td>\n",
       "    </tr>\n",
       "    <tr>\n",
       "      <th>5</th>\n",
       "      <td>US1.AMZN</td>\n",
       "      <td>60</td>\n",
       "      <td>02/01/15</td>\n",
       "      <td>14:00</td>\n",
       "      <td>15.4105</td>\n",
       "      <td>15.4330</td>\n",
       "      <td>15.386000</td>\n",
       "      <td>15.4010</td>\n",
       "      <td>187600</td>\n",
       "      <td>-0.107021</td>\n",
       "      <td>0</td>\n",
       "    </tr>\n",
       "  </tbody>\n",
       "</table>\n",
       "</div>"
      ],
      "text/plain": [
       "     ticker  per      date   time     open     high        low    close  \\\n",
       "1  US1.AMZN   60  02/01/15  10:00  15.6625  15.6795  15.431500  15.4480   \n",
       "2  US1.AMZN   60  02/01/15  11:00  15.4420  15.5060  15.348005  15.4875   \n",
       "3  US1.AMZN   60  02/01/15  12:00  15.4885  15.4965  15.402500  15.4200   \n",
       "4  US1.AMZN   60  02/01/15  13:00  15.4205  15.4240  15.362500  15.4175   \n",
       "5  US1.AMZN   60  02/01/15  14:00  15.4105  15.4330  15.386000  15.4010   \n",
       "\n",
       "      vol     diffs bin_3  \n",
       "1  509208 -1.454453    -1  \n",
       "2  427854  0.255697     1  \n",
       "3  209933 -0.435835    -1  \n",
       "4  158209 -0.016213     0  \n",
       "5  187600 -0.107021     0  "
      ]
     },
     "execution_count": 69,
     "metadata": {},
     "output_type": "execute_result"
    }
   ],
   "source": [
    "df.columns = clean_cols(df.columns)\n",
    "df[[\"open\", \"high\", \"low\", \"close\"]] = df[[\"open\", \"high\", \"low\", \"close\"]] / 20\n",
    "df[\"diffs\"] = df.close.pct_change() * 100\n",
    "df = df.dropna()\n",
    "df[\"bin_3\"] = pd.cut(df[\"diffs\"], bins=[-100, -0.25, 0.25, 100], labels=[-1, 0, 1])\n",
    "df.head()"
   ]
  },
  {
   "cell_type": "code",
   "execution_count": 71,
   "metadata": {},
   "outputs": [
    {
     "name": "stdout",
     "output_type": "stream",
     "text": [
      "<class 'pandas.core.frame.DataFrame'>\n",
      "Int64Index: 10559 entries, 1 to 10559\n",
      "Data columns (total 11 columns):\n",
      " #   Column  Non-Null Count  Dtype   \n",
      "---  ------  --------------  -----   \n",
      " 0   ticker  10559 non-null  object  \n",
      " 1   per     10559 non-null  int64   \n",
      " 2   date    10559 non-null  object  \n",
      " 3   time    10559 non-null  object  \n",
      " 4   open    10559 non-null  float64 \n",
      " 5   high    10559 non-null  float64 \n",
      " 6   low     10559 non-null  float64 \n",
      " 7   close   10559 non-null  float64 \n",
      " 8   vol     10559 non-null  int64   \n",
      " 9   diffs   10559 non-null  float64 \n",
      " 10  bin_3   10559 non-null  category\n",
      "dtypes: category(1), float64(5), int64(2), object(3)\n",
      "memory usage: 917.9+ KB\n"
     ]
    }
   ],
   "source": [
    "df.info()"
   ]
  },
  {
   "cell_type": "code",
   "execution_count": 62,
   "metadata": {},
   "outputs": [],
   "source": [
    "def measure(x, y):\n",
    "    clf = DecisionTreeClassifier()\n",
    "\n",
    "    params = {\n",
    "        \"max_depth\": [2, 3, 5, 10, 20, 50, 100, 200],\n",
    "        \"min_samples_leaf\": [2, 3, 5, 10],\n",
    "        \"criterion\": [\"gini\", \"entropy\"],\n",
    "    }\n",
    "    time_split = TimeSeriesSplit(n_splits=5)\n",
    "\n",
    "    tree_search = GridSearchCV(\n",
    "        clf,\n",
    "        param_grid=params,\n",
    "        cv=time_split,\n",
    "        verbose=1,\n",
    "        n_jobs=4,\n",
    "    )\n",
    "\n",
    "    split = int(0.8 * len(x))\n",
    "    tree_search.fit(x[:split], y[:split])\n",
    "    y_pred = tree_search.predict(x[split:])\n",
    "    cm = confusion_matrix(y[split:], y_pred)\n",
    "    acc = sum(y_pred == y[split:]) / len(y_pred)\n",
    "\n",
    "    return cm, acc"
   ]
  },
  {
   "cell_type": "code",
   "execution_count": 63,
   "metadata": {},
   "outputs": [],
   "source": [
    "# acc = {}\n",
    "# cm = {}\n",
    "# # df = pd.read_csv(\"datasets/relevant/amzn.csv\")\n",
    "# for lag in [3, 16]:\n",
    "#     # x, y = create_x_y(\n",
    "#     #     df, x_cols=[\"open\", \"high\", \"low\", \"close\", \"vol\"], y_col=\"bin_3\", lag=lag\n",
    "#     # )\n",
    "#     x, y = create_vectors(df, main_col='bin_3')\n",
    "#     cm[lag], acc[lag] = measure(x, y)"
   ]
  },
  {
   "cell_type": "code",
   "execution_count": 64,
   "metadata": {},
   "outputs": [
    {
     "name": "stdout",
     "output_type": "stream",
     "text": [
      "[[166 235 164]\n",
      " [240 448 231]\n",
      " [170 275 180]] 0.3764817449027975\n"
     ]
    }
   ],
   "source": [
    "x, y = create_vectors(df, main_col='bin_3', lag=17)\n",
    "clf = DecisionTreeClassifier()\n",
    "split = int(0.8 * len(x))\n",
    "clf.fit(x[:split], y[:split])\n",
    "y_pred = clf.predict(x[split:])\n",
    "cm = confusion_matrix(y[split:], y_pred)\n",
    "acc = sum(y_pred == y[split:]) / len(y_pred)\n",
    "print(cm, acc)"
   ]
  },
  {
   "cell_type": "code",
   "execution_count": 67,
   "metadata": {},
   "outputs": [
    {
     "name": "stdout",
     "output_type": "stream",
     "text": [
      "[[114 151 119]\n",
      " [225 488 222]\n",
      " [ 97 187 117]] 0.4180232558139535\n"
     ]
    }
   ],
   "source": [
    "df = pd.read_csv(\"datasets/relevant/amzn.csv\")\n",
    "x, y = create_vectors(df, main_col='bin_3', lag=17)\n",
    "clf = DecisionTreeClassifier()\n",
    "split = int(0.8 * len(x))\n",
    "clf.fit(x[:split], y[:split])\n",
    "y_pred = clf.predict(x[split:])\n",
    "cm = confusion_matrix(y[split:], y_pred)\n",
    "acc = sum(y_pred == y[split:]) / len(y_pred)\n",
    "print(cm, acc)"
   ]
  },
  {
   "cell_type": "code",
   "execution_count": 66,
   "metadata": {},
   "outputs": [
    {
     "data": {
      "text/plain": [
       "0    15.4480\n",
       "1    15.4875\n",
       "2    15.4200\n",
       "3    15.4175\n",
       "4    15.4010\n",
       "5    15.4260\n",
       "6    15.1915\n",
       "7    15.1645\n",
       "8    15.1530\n",
       "9    15.0805\n",
       "Name: close, dtype: float64"
      ]
     },
     "execution_count": 66,
     "metadata": {},
     "output_type": "execute_result"
    }
   ],
   "source": [
    "df.close.head(10)"
   ]
  }
 ],
 "metadata": {
  "kernelspec": {
   "display_name": "Python 3.10.0 64-bit",
   "language": "python",
   "name": "python3"
  },
  "language_info": {
   "codemirror_mode": {
    "name": "ipython",
    "version": 3
   },
   "file_extension": ".py",
   "mimetype": "text/x-python",
   "name": "python",
   "nbconvert_exporter": "python",
   "pygments_lexer": "ipython3",
   "version": "3.10.0"
  },
  "orig_nbformat": 4,
  "vscode": {
   "interpreter": {
    "hash": "1dd0381d1fc2fb15dda0c9601b2866ce5a466e54b3f253773e8ed097d13694fa"
   }
  }
 },
 "nbformat": 4,
 "nbformat_minor": 2
}
