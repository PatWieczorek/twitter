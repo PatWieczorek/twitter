{
 "cells": [
  {
   "cell_type": "code",
   "execution_count": null,
   "metadata": {},
   "outputs": [],
   "source": [
    "import pandas as pd\n",
    "import numpy as np\n",
    "from sklearn.metrics import confusion_matrix\n",
    "from sklearn.linear_model import LogisticRegression\n",
    "from sklearn.model_selection import TimeSeriesSplit, GridSearchCV\n",
    "from scipy.stats import uniform, randint\n",
    "\n",
    "from tools import create_x_y"
   ]
  },
  {
   "cell_type": "code",
   "execution_count": null,
   "metadata": {},
   "outputs": [],
   "source": [
    "df = pd.read_csv('../datasets/relevant/amzn.csv')"
   ]
  },
  {
   "cell_type": "code",
   "execution_count": null,
   "metadata": {},
   "outputs": [],
   "source": [
    "VITAL_COLS = [\"date_\", \"ticker\", \"close\", \"diffs\", \"bin_2\", \"bin_3\", \"bin_5\"]\n",
    "OTHER_COLS = [i for i in df.columns if i not in VITAL_COLS]\n",
    "print(OTHER_COLS)"
   ]
  },
  {
   "cell_type": "code",
   "execution_count": null,
   "metadata": {},
   "outputs": [],
   "source": [
    "def measure(x, y):\n",
    "    clf = DecisionTreeClassifier(class_weight=weight_data(y))\n",
    "\n",
    "    params = {\n",
    "        'max_depth': [2, 3, 5, 10, 20, 50, 100, 200],\n",
    "        'min_samples_leaf': [2, 3, 5, 10],\n",
    "        'criterion': [\"gini\", \"entropy\"]\n",
    "    }\n",
    "    time_split = TimeSeriesSplit(n_splits=5)\n",
    "\n",
    "    tree_search = GridSearchCV(\n",
    "        clf,\n",
    "        param_grid=params,\n",
    "        cv=time_split,\n",
    "        verbose=1,\n",
    "        n_jobs=4,\n",
    "    )\n",
    "    split = int(0.8 * len(x))\n",
    "    tree_search.fit(x[:split], y[:split])\n",
    "    y_pred = tree_search.predict(x[split:])\n",
    "    cm = confusion_matrix(y[split:], y_pred)\n",
    "    acc = sum(y_pred == y[split:])/len(y_pred)\n",
    "    \n",
    "    return cm, acc"
   ]
  },
  {
   "cell_type": "code",
   "execution_count": null,
   "metadata": {},
   "outputs": [],
   "source": [
    "acc = {}\n",
    "cm = {}\n",
    "for lag in [3, 6, 10, 16]:\n",
    "    x, y = create_x_y(df, x_cols=OTHER_COLS, y_col=\"bin_3\", lag=lag)\n",
    "    cm[lag], acc[lag] = measure(x, y)"
   ]
  },
  {
   "cell_type": "code",
   "execution_count": null,
   "metadata": {},
   "outputs": [],
   "source": [
    "acc"
   ]
  },
  {
   "cell_type": "code",
   "execution_count": null,
   "metadata": {},
   "outputs": [],
   "source": [
    "cm"
   ]
  }
 ],
 "metadata": {
  "kernelspec": {
   "display_name": "Python 3.10.4 64-bit",
   "language": "python",
   "name": "python3"
  },
  "language_info": {
   "name": "python",
   "version": "3.10.0"
  },
  "orig_nbformat": 4,
  "vscode": {
   "interpreter": {
    "hash": "1dd0381d1fc2fb15dda0c9601b2866ce5a466e54b3f253773e8ed097d13694fa"
   }
  }
 },
 "nbformat": 4,
 "nbformat_minor": 2
}
