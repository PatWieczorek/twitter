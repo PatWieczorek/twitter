{
 "cells": [
  {
   "cell_type": "code",
   "execution_count": 105,
   "metadata": {},
   "outputs": [],
   "source": [
    "import pandas as pd\n",
    "from tools import create_vectors"
   ]
  },
  {
   "cell_type": "code",
   "execution_count": 106,
   "metadata": {},
   "outputs": [],
   "source": [
    "vital_columns = ['date_', 'ticker', 'close', 'diffs', 'bin_2', 'bin_3', 'bin_5']\n",
    "cols = ['open', 'high', 'low', 'vol', 'max_comp',\n",
    "       'max_neg', 'max_neu', 'max_pos', 'min_comp', 'min_neu',\n",
    "       'min_pos', 'std_comp', 'std_neg', 'std_neu', 'std_pos', 'mean_comp',\n",
    "       'mean_neg', 'mean_neu', 'mean_pos', 'median_comp', 'median_neg',\n",
    "       'median_neu', 'median_pos', 'count']"
   ]
  },
  {
   "cell_type": "code",
   "execution_count": 107,
   "metadata": {},
   "outputs": [],
   "source": [
    "def is_stationary(ts):\n",
    "    from statsmodels.tsa.stattools import adfuller\n",
    "    p_val = adfuller(ts)[1]\n",
    "    return p_val <= 0.05\n",
    "\n",
    "def is_relevant(granger_result):\n",
    "    tests = 'ssr_ftest', 'ssr_chi2test', 'lrtest', 'params_ftest'\n",
    "    p_val = []\n",
    "    for i in tests:\n",
    "        p_val.append(granger_result[3][0][i][1])\n",
    "    p_val = round(sum(p_val)/len(p_val), 2)\n",
    "    return p_val <= 0.05\n",
    "\n",
    "def granger_test(df, main_col, cols):\n",
    "    from statsmodels.tsa.stattools import grangercausalitytests\n",
    "    relevant = []\n",
    "    for col in cols:\n",
    "        try:\n",
    "            x = grangercausalitytests(df[[main_col, col]], maxlag=[3], verbose=False)\n",
    "            if is_relevant(x):\n",
    "                relevant.append(col)\n",
    "        except:\n",
    "            print(\"There was an issue with: \", col)\n",
    "        \n",
    "    return relevant"
   ]
  },
  {
   "cell_type": "code",
   "execution_count": 108,
   "metadata": {},
   "outputs": [],
   "source": [
    "amzn = pd.read_csv('../datasets/binned/amzn_binned.csv')"
   ]
  },
  {
   "cell_type": "code",
   "execution_count": 109,
   "metadata": {},
   "outputs": [
    {
     "name": "stdout",
     "output_type": "stream",
     "text": [
      "False True\n"
     ]
    }
   ],
   "source": [
    "# check stationarity\n",
    "close_stat = is_stationary(amzn.close)\n",
    "close_pct_stat = is_stationary(amzn.close.pct_change().dropna())\n",
    "print(close_stat, close_pct_stat)"
   ]
  },
  {
   "cell_type": "code",
   "execution_count": 116,
   "metadata": {},
   "outputs": [],
   "source": [
    "amzn['close_pct'] = amzn.close.pct_change()\n",
    "amzn = amzn.dropna()\n",
    "# granger test\n",
    "relevant = granger_test(amzn, 'close_pct', cols)"
   ]
  },
  {
   "cell_type": "code",
   "execution_count": 112,
   "metadata": {},
   "outputs": [],
   "source": [
    "amzn[vital_columns + relevant].to_csv('../datasets/relevant/amzn.csv', index=False)"
   ]
  },
  {
   "cell_type": "code",
   "execution_count": 113,
   "metadata": {},
   "outputs": [
    {
     "name": "stdout",
     "output_type": "stream",
     "text": [
      "False True\n"
     ]
    }
   ],
   "source": [
    "aapl = pd.read_csv('../datasets/binned/aapl_binned.csv')\n",
    "close_stat = is_stationary(aapl.close)\n",
    "close_pct_stat = is_stationary(aapl.close.pct_change().dropna())\n",
    "print(close_stat, close_pct_stat)"
   ]
  },
  {
   "cell_type": "code",
   "execution_count": 117,
   "metadata": {},
   "outputs": [],
   "source": [
    "aapl['close_pct'] = aapl.close.pct_change()\n",
    "aapl = aapl.dropna()\n",
    "relevant = granger_test(amzn, 'close_pct', cols)"
   ]
  },
  {
   "cell_type": "code",
   "execution_count": 118,
   "metadata": {},
   "outputs": [
    {
     "name": "stdout",
     "output_type": "stream",
     "text": [
      "['low', 'vol', 'max_pos', 'std_neg', 'std_pos', 'mean_comp', 'mean_neg', 'mean_pos', 'median_comp', 'count']\n"
     ]
    }
   ],
   "source": [
    "print(relevant)"
   ]
  }
 ],
 "metadata": {
  "kernelspec": {
   "display_name": "Python 3.10.0 64-bit",
   "language": "python",
   "name": "python3"
  },
  "language_info": {
   "codemirror_mode": {
    "name": "ipython",
    "version": 3
   },
   "file_extension": ".py",
   "mimetype": "text/x-python",
   "name": "python",
   "nbconvert_exporter": "python",
   "pygments_lexer": "ipython3",
   "version": "3.10.0"
  },
  "orig_nbformat": 4,
  "vscode": {
   "interpreter": {
    "hash": "1dd0381d1fc2fb15dda0c9601b2866ce5a466e54b3f253773e8ed097d13694fa"
   }
  }
 },
 "nbformat": 4,
 "nbformat_minor": 2
}
