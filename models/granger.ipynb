{
 "cells": [
  {
   "cell_type": "code",
   "execution_count": 36,
   "metadata": {},
   "outputs": [],
   "source": [
    "import pandas as pd\n",
    "from statsmodels.tsa.stattools import adfuller\n",
    "from statsmodels.tsa.stattools import grangercausalitytests"
   ]
  },
  {
   "cell_type": "code",
   "execution_count": 37,
   "metadata": {},
   "outputs": [],
   "source": [
    "vital_columns = [\"date_\", \"ticker\", \"close\", \"diffs\", \"bin_2\", \"bin_3\", \"bin_5\"]\n",
    "cols = [\n",
    "    \"open\",\n",
    "    \"high\",\n",
    "    \"low\",\n",
    "    \"vol\",\n",
    "    \"max_comp\",\n",
    "    \"max_neg\",\n",
    "    \"max_neu\",\n",
    "    \"max_pos\",\n",
    "    \"min_comp\",\n",
    "    \"min_neu\",\n",
    "    \"min_pos\",\n",
    "    \"std_comp\",\n",
    "    \"std_neg\",\n",
    "    \"std_neu\",\n",
    "    \"std_pos\",\n",
    "    \"mean_comp\",\n",
    "    \"mean_neg\",\n",
    "    \"mean_neu\",\n",
    "    \"mean_pos\",\n",
    "    \"median_comp\",\n",
    "    \"median_neg\",\n",
    "    \"median_neu\",\n",
    "    \"median_pos\",\n",
    "    \"count\",\n",
    "]"
   ]
  },
  {
   "cell_type": "code",
   "execution_count": 38,
   "metadata": {},
   "outputs": [],
   "source": [
    "def is_stationary(ts):\n",
    "    p_val = adfuller(ts)[1]\n",
    "    return p_val <= 0.05\n",
    "\n",
    "\n",
    "def is_relevant(granger_result):\n",
    "    tests = \"ssr_ftest\", \"ssr_chi2test\", \"lrtest\", \"params_ftest\"\n",
    "    p_val = []\n",
    "    for i in tests:\n",
    "        p_val.append(granger_result[3][0][i][1])\n",
    "    p_val = round(sum(p_val) / len(p_val), 2)\n",
    "    return p_val <= 0.05\n",
    "\n",
    "\n",
    "def granger_test(df, main_col, cols):\n",
    "    relevant = []\n",
    "    for col in cols:\n",
    "        try:\n",
    "            x = grangercausalitytests(df[[main_col, col]], maxlag=[3], verbose=False)\n",
    "            if is_relevant(x):\n",
    "                relevant.append(col)\n",
    "        except:\n",
    "            print(\"There was an issue with: \", col)\n",
    "    return relevant\n",
    "\n",
    "\n",
    "def check_stationarity_all():\n",
    "    # check stationarity of close and if it's not stationary check diffs\n",
    "    for company in [\"amzn\", \"aapl\", \"tsla\", \"msft\", \"goog\", \"googl\"]:\n",
    "        df = pd.read_csv(f\"../datasets/binned/{company}_binned.csv\")\n",
    "        if not is_stationary(df[\"close\"]):\n",
    "            print(f\"{company} 'close' isn't stationary\")\n",
    "            print(\"After pct_change():\", is_stationary(df[\"diffs\"]))"
   ]
  },
  {
   "cell_type": "code",
   "execution_count": 39,
   "metadata": {},
   "outputs": [
    {
     "name": "stdout",
     "output_type": "stream",
     "text": [
      "amzn 'close' isn't stationary\n",
      "After differencing: True\n",
      "aapl 'close' isn't stationary\n",
      "After differencing: True\n",
      "tsla 'close' isn't stationary\n",
      "After differencing: True\n",
      "msft 'close' isn't stationary\n",
      "After differencing: True\n",
      "goog 'close' isn't stationary\n",
      "After differencing: True\n",
      "googl 'close' isn't stationary\n",
      "After differencing: True\n"
     ]
    }
   ],
   "source": [
    "check_stationarity_all()"
   ]
  },
  {
   "cell_type": "code",
   "execution_count": 40,
   "metadata": {},
   "outputs": [
    {
     "name": "stdout",
     "output_type": "stream",
     "text": [
      "amzn: ['low', 'vol', 'max_pos', 'std_neg', 'std_pos', 'mean_comp', 'mean_neg', 'mean_pos', 'median_comp', 'count']\n",
      "There was an issue with:  min_pos\n",
      "aapl: ['high', 'vol', 'max_comp', 'max_neg', 'max_pos', 'std_comp', 'std_neg', 'std_pos', 'mean_comp', 'mean_neg', 'mean_neu', 'mean_pos', 'median_comp', 'count']\n",
      "tsla: ['max_neg', 'max_pos', 'std_neg', 'std_pos', 'mean_comp', 'mean_neg', 'mean_pos', 'median_neg']\n",
      "msft: ['vol', 'max_pos', 'min_neu', 'std_neg', 'std_pos', 'mean_comp', 'mean_neg', 'mean_pos', 'count']\n",
      "goog: ['high', 'vol', 'max_pos', 'min_neu', 'std_neg', 'std_neu', 'std_pos', 'mean_comp', 'mean_neg', 'mean_pos', 'count']\n",
      "googl: ['high', 'vol', 'max_comp', 'max_pos', 'min_neu', 'std_neg', 'std_neu', 'std_pos', 'mean_comp', 'mean_neg', 'mean_pos', 'count']\n"
     ]
    }
   ],
   "source": [
    "for company in [\"amzn\", \"aapl\", \"tsla\", \"msft\", \"goog\", \"googl\"]:\n",
    "    df = pd.read_csv(f\"../datasets/binned/{company}_binned.csv\")\n",
    "    relevant = granger_test(df, \"diffs\", cols)\n",
    "    print(f\"{company}: {relevant}\")"
   ]
  }
 ],
 "metadata": {
  "kernelspec": {
   "display_name": "Python 3.10.0 64-bit",
   "language": "python",
   "name": "python3"
  },
  "language_info": {
   "codemirror_mode": {
    "name": "ipython",
    "version": 3
   },
   "file_extension": ".py",
   "mimetype": "text/x-python",
   "name": "python",
   "nbconvert_exporter": "python",
   "pygments_lexer": "ipython3",
   "version": "3.10.4"
  },
  "orig_nbformat": 4,
  "vscode": {
   "interpreter": {
    "hash": "1dd0381d1fc2fb15dda0c9601b2866ce5a466e54b3f253773e8ed097d13694fa"
   }
  }
 },
 "nbformat": 4,
 "nbformat_minor": 2
}
