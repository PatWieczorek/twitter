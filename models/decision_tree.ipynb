{
 "cells": [
  {
   "cell_type": "code",
   "execution_count": 26,
   "metadata": {},
   "outputs": [],
   "source": [
    "import pandas as pd\n",
    "import numpy as np\n",
    "from sklearn.metrics import confusion_matrix\n",
    "from sklearn.tree import DecisionTreeClassifier, plot_tree\n",
    "from sklearn.model_selection import TimeSeriesSplit, GridSearchCV\n",
    "from scipy.stats import uniform, randint\n",
    "\n",
    "from tools import create_x_y"
   ]
  },
  {
   "cell_type": "code",
   "execution_count": 5,
   "metadata": {},
   "outputs": [],
   "source": [
    "df = pd.read_csv('../datasets/relevant/amzn.csv')"
   ]
  },
  {
   "cell_type": "code",
   "execution_count": 7,
   "metadata": {},
   "outputs": [
    {
     "name": "stdout",
     "output_type": "stream",
     "text": [
      "['diffs', 'low', 'vol', 'max_pos', 'std_neg', 'std_pos', 'mean_comp', 'mean_neg', 'mean_pos', 'median_comp', 'count']\n"
     ]
    }
   ],
   "source": [
    "VITAL_COLS = [\"date_\", \"ticker\", \"close\", \"bin_2\", \"bin_3\", \"bin_5\"]\n",
    "OTHER_COLS = [i for i in df.columns if i not in VITAL_COLS]\n",
    "print(OTHER_COLS)"
   ]
  },
  {
   "cell_type": "code",
   "execution_count": 21,
   "metadata": {},
   "outputs": [],
   "source": [
    "clf = DecisionTreeClassifier()\n",
    "x, y = create_x_y(df, x_cols=OTHER_COLS, y_col=\"bin_2\", lag=16)\n",
    "\n",
    "\n",
    "params = {\n",
    "    'max_depth': [2, 3, 5, 10, 20, 50, 100, 200],\n",
    "    'min_samples_leaf': [2, 3, 5, 10],\n",
    "    'criterion': [\"gini\", \"entropy\"]\n",
    "}\n",
    "time_split = TimeSeriesSplit(n_splits=5)\n",
    "\n",
    "tree_search = GridSearchCV(\n",
    "    clf,\n",
    "    param_grid=params,\n",
    "    cv=time_split,\n",
    "    verbose=1,\n",
    "    n_jobs=4,\n",
    ")"
   ]
  },
  {
   "cell_type": "code",
   "execution_count": 22,
   "metadata": {},
   "outputs": [
    {
     "name": "stdout",
     "output_type": "stream",
     "text": [
      "Fitting 5 folds for each of 64 candidates, totalling 320 fits\n"
     ]
    }
   ],
   "source": [
    "split = int(0.8 * len(x))\n",
    "tree_search.fit(x[:split], y[:split])\n",
    "y_pred = tree_search.predict(x[split:])"
   ]
  },
  {
   "cell_type": "code",
   "execution_count": 23,
   "metadata": {},
   "outputs": [
    {
     "name": "stdout",
     "output_type": "stream",
     "text": [
      "{'criterion': 'entropy', 'max_depth': 2, 'min_samples_leaf': 2}\n"
     ]
    }
   ],
   "source": [
    "print(tree_search.best_params_)"
   ]
  },
  {
   "cell_type": "code",
   "execution_count": 24,
   "metadata": {},
   "outputs": [
    {
     "data": {
      "text/plain": [
       "array([[355, 464],\n",
       "       [319, 582]], dtype=int64)"
      ]
     },
     "execution_count": 24,
     "metadata": {},
     "output_type": "execute_result"
    }
   ],
   "source": [
    "confusion_matrix(y[split:], y_pred)"
   ]
  },
  {
   "cell_type": "code",
   "execution_count": 25,
   "metadata": {},
   "outputs": [
    {
     "name": "stdout",
     "output_type": "stream",
     "text": [
      "0.5447674418604651\n"
     ]
    }
   ],
   "source": [
    "print(sum(y_pred == y[split:])/len(y_pred))"
   ]
  },
  {
   "cell_type": "code",
   "execution_count": 28,
   "metadata": {},
   "outputs": [
    {
     "data": {
      "text/plain": [
       "[Text(0.5, 0.8333333333333334, 'X[127] <= 0.041\\nentropy = 0.999\\nsamples = 6877\\nvalue = [3331, 3546]'),\n",
       " Text(0.25, 0.5, 'X[95] <= 0.116\\nentropy = 0.994\\nsamples = 4312\\nvalue = [1954, 2358]'),\n",
       " Text(0.125, 0.16666666666666666, 'entropy = 1.0\\nsamples = 2076\\nvalue = [1024, 1052]'),\n",
       " Text(0.375, 0.16666666666666666, 'entropy = 0.98\\nsamples = 2236\\nvalue = [930, 1306]'),\n",
       " Text(0.75, 0.5, 'X[56] <= 0.146\\nentropy = 0.996\\nsamples = 2565\\nvalue = [1377, 1188]'),\n",
       " Text(0.625, 0.16666666666666666, 'entropy = 0.286\\nsamples = 20\\nvalue = [1, 19]'),\n",
       " Text(0.875, 0.16666666666666666, 'entropy = 0.995\\nsamples = 2545\\nvalue = [1376, 1169]')]"
      ]
     },
     "execution_count": 28,
     "metadata": {},
     "output_type": "execute_result"
    },
    {
     "data": {
      "image/png": "[encoded data removed]",
      "text/plain": [
       "<Figure size 432x288 with 1 Axes>"
      ]
     },
     "metadata": {
      "needs_background": "light"
     },
     "output_type": "display_data"
    }
   ],
   "source": []
  }
 ],
 "metadata": {
  "kernelspec": {
   "display_name": "Python 3.10.0 64-bit",
   "language": "python",
   "name": "python3"
  },
  "language_info": {
   "codemirror_mode": {
    "name": "ipython",
    "version": 3
   },
   "file_extension": ".py",
   "mimetype": "text/x-python",
   "name": "python",
   "nbconvert_exporter": "python",
   "pygments_lexer": "ipython3",
   "version": "3.10.0"
  },
  "orig_nbformat": 4,
  "vscode": {
   "interpreter": {
    "hash": "1dd0381d1fc2fb15dda0c9601b2866ce5a466e54b3f253773e8ed097d13694fa"
   }
  }
 },
 "nbformat": 4,
 "nbformat_minor": 2
}
