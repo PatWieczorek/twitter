{
 "cells": [
  {
   "cell_type": "code",
   "execution_count": 19,
   "metadata": {},
   "outputs": [],
   "source": [
    "import pandas as pd\n",
    "import numpy as np\n",
    "from sklearn.metrics import f1_score, accuracy_score\n",
    "from sklearn.tree import DecisionTreeClassifier, plot_tree\n",
    "from sklearn.model_selection import TimeSeriesSplit, GridSearchCV\n",
    "from scipy.stats import uniform, randint\n",
    "import json\n",
    "\n",
    "from tools import create_x_y"
   ]
  },
  {
   "cell_type": "code",
   "execution_count": 3,
   "metadata": {},
   "outputs": [],
   "source": [
    "#df = pd.read_csv('../datasets/relevant/amzn.csv')\n",
    "\n",
    "#names = [\"AMZN\", \"AAPL\", \"MSFT\", \"TSLA\", \"GOOG\", \"GOOGL\"]\n",
    "company = \"AMZN\"\n",
    "df = pd.read_csv(f'../datasets/v3/more_cols_binned/no_weight/{company}.csv', parse_dates=[\"post_date\"])"
   ]
  },
  {
   "cell_type": "code",
   "execution_count": 5,
   "metadata": {},
   "outputs": [
    {
     "name": "stdout",
     "output_type": "stream",
     "text": [
      "['open', 'high', 'low', 'vol', 'comment_num_sum', 'comp_max', 'comp_mean', 'comp_median', 'comp_min', 'comp_std', 'like_num_sum', 'neg_max', 'neg_mean', 'neg_median', 'neg_min', 'neg_std', 'neu_max', 'neu_mean', 'neu_median', 'neu_min', 'neu_std', 'count', 'pos_max', 'pos_mean', 'pos_median', 'pos_min', 'pos_std', 'retweet_num_sum', 'relative_count', 'diffs']\n"
     ]
    }
   ],
   "source": [
    "VITAL_COLS = [\"post_date\", \"ticker\", \"close\", \"bin_3\"]\n",
    "OTHER_COLS = [i for i in df.columns if i not in VITAL_COLS]\n",
    "print(OTHER_COLS)"
   ]
  },
  {
   "cell_type": "code",
   "execution_count": 6,
   "metadata": {},
   "outputs": [],
   "source": [
    "def save_results(to_write, filename):\n",
    "    import json\n",
    "    with open(f\"{filename}.txt\", \"w\") as file:\n",
    "        file.write(json.dumps(to_write))"
   ]
  },
  {
   "cell_type": "code",
   "execution_count": 7,
   "metadata": {},
   "outputs": [],
   "source": [
    "def weight_data(x):\n",
    "    # least represented class is 1.0, others are percentage_least/percentage_other\n",
    "    percentages = {}\n",
    "    len_x = len(x)\n",
    "    for uniq_val in set(x):\n",
    "        percentages[uniq_val] = sum([1 for i in x if i==uniq_val])/len_x\n",
    "    least = min(percentages, key=percentages.get)\n",
    "    weights = {i:percentages[least]/percentages[i] for i in percentages}\n",
    "    return weights"
   ]
  },
  {
   "cell_type": "code",
   "execution_count": 24,
   "metadata": {},
   "outputs": [],
   "source": [
    "def measure(x, y):\n",
    "    clf = DecisionTreeClassifier()\n",
    "\n",
    "    params = {\n",
    "        'max_depth': [2, 3, 5, 10, 20, 50, 100, 200],\n",
    "        'min_samples_leaf': [2, 3, 5, 10],\n",
    "        'criterion': [\"gini\", \"entropy\"]\n",
    "    }\n",
    "    time_split = TimeSeriesSplit(n_splits=5)\n",
    "\n",
    "    tree_search = GridSearchCV(\n",
    "        clf,\n",
    "        param_grid=params,\n",
    "        cv=time_split,\n",
    "        verbose=1,\n",
    "        n_jobs=4,\n",
    "    )\n",
    "    split = int(0.8 * len(x))\n",
    "    tree_search.fit(x[:split], y[:split])\n",
    "    y_pred = tree_search.predict(x[split:])\n",
    "    \n",
    "    acc = accuracy_score(y[split:], y_pred)\n",
    "    f1 = f1_score(y[split:], y_pred, average=\"weighted\")\n",
    "    \n",
    "    return f1, acc"
   ]
  },
  {
   "cell_type": "code",
   "execution_count": 29,
   "metadata": {},
   "outputs": [
    {
     "name": "stdout",
     "output_type": "stream",
     "text": [
      "['open', 'high', 'low', 'vol', 'comment_num_sum', 'comp_max', 'comp_mean', 'comp_median', 'comp_min', 'comp_std', 'like_num_sum', 'neg_max', 'neg_mean', 'neg_median', 'neg_min', 'neg_std', 'neu_max', 'neu_mean', 'neu_median', 'neu_min', 'neu_std', 'count', 'pos_max', 'pos_mean', 'pos_median', 'pos_min', 'pos_std', 'retweet_num_sum', 'relative_count', 'diffs']\n",
      "Starting amzn, 3.\n",
      "Fitting 5 folds for each of 64 candidates, totalling 320 fits\n",
      "Starting amzn, 7.\n",
      "Fitting 5 folds for each of 64 candidates, totalling 320 fits\n",
      "Starting amzn, 14.\n",
      "Fitting 5 folds for each of 64 candidates, totalling 320 fits\n",
      "['open', 'high', 'low', 'vol', 'comment_num_sum', 'comp_max', 'comp_mean', 'comp_median', 'comp_min', 'comp_std', 'like_num_sum', 'neg_max', 'neg_mean', 'neg_median', 'neg_min', 'neg_std', 'neu_max', 'neu_mean', 'neu_median', 'neu_min', 'neu_std', 'count', 'pos_max', 'pos_mean', 'pos_median', 'pos_min', 'pos_std', 'retweet_num_sum', 'relative_count', 'diffs']\n",
      "Starting aapl, 3.\n",
      "Fitting 5 folds for each of 64 candidates, totalling 320 fits\n",
      "Starting aapl, 7.\n",
      "Fitting 5 folds for each of 64 candidates, totalling 320 fits\n",
      "Starting aapl, 14.\n",
      "Fitting 5 folds for each of 64 candidates, totalling 320 fits\n",
      "['open', 'high', 'low', 'vol', 'comment_num_sum', 'comp_max', 'comp_mean', 'comp_median', 'comp_min', 'comp_std', 'like_num_sum', 'neg_max', 'neg_mean', 'neg_median', 'neg_min', 'neg_std', 'neu_max', 'neu_mean', 'neu_median', 'neu_min', 'neu_std', 'count', 'pos_max', 'pos_mean', 'pos_median', 'pos_min', 'pos_std', 'retweet_num_sum', 'relative_count', 'diffs']\n",
      "Starting msft, 3.\n",
      "Fitting 5 folds for each of 64 candidates, totalling 320 fits\n",
      "Starting msft, 7.\n",
      "Fitting 5 folds for each of 64 candidates, totalling 320 fits\n",
      "Starting msft, 14.\n",
      "Fitting 5 folds for each of 64 candidates, totalling 320 fits\n",
      "['open', 'high', 'low', 'vol', 'comment_num_sum', 'comp_max', 'comp_mean', 'comp_median', 'comp_min', 'comp_std', 'like_num_sum', 'neg_max', 'neg_mean', 'neg_median', 'neg_min', 'neg_std', 'neu_max', 'neu_mean', 'neu_median', 'neu_min', 'neu_std', 'count', 'pos_max', 'pos_mean', 'pos_median', 'pos_min', 'pos_std', 'retweet_num_sum', 'relative_count', 'diffs']\n",
      "Starting tsla, 3.\n",
      "Fitting 5 folds for each of 64 candidates, totalling 320 fits\n",
      "Starting tsla, 7.\n",
      "Fitting 5 folds for each of 64 candidates, totalling 320 fits\n",
      "Starting tsla, 14.\n",
      "Fitting 5 folds for each of 64 candidates, totalling 320 fits\n",
      "['open', 'high', 'low', 'vol', 'comment_num_sum', 'comp_max', 'comp_mean', 'comp_median', 'comp_min', 'comp_std', 'like_num_sum', 'neg_max', 'neg_mean', 'neg_median', 'neg_min', 'neg_std', 'neu_max', 'neu_mean', 'neu_median', 'neu_min', 'neu_std', 'count', 'pos_max', 'pos_mean', 'pos_median', 'pos_min', 'pos_std', 'retweet_num_sum', 'relative_count', 'diffs']\n",
      "Starting goog, 3.\n",
      "Fitting 5 folds for each of 64 candidates, totalling 320 fits\n",
      "Starting goog, 7.\n",
      "Fitting 5 folds for each of 64 candidates, totalling 320 fits\n",
      "Starting goog, 14.\n",
      "Fitting 5 folds for each of 64 candidates, totalling 320 fits\n",
      "['open', 'high', 'low', 'vol', 'comment_num_sum', 'comp_max', 'comp_mean', 'comp_median', 'comp_min', 'comp_std', 'like_num_sum', 'neg_max', 'neg_mean', 'neg_median', 'neg_min', 'neg_std', 'neu_max', 'neu_mean', 'neu_median', 'neu_min', 'neu_std', 'count', 'pos_max', 'pos_mean', 'pos_median', 'pos_min', 'pos_std', 'retweet_num_sum', 'relative_count', 'diffs']\n",
      "Starting googl, 3.\n",
      "Fitting 5 folds for each of 64 candidates, totalling 320 fits\n",
      "Starting googl, 7.\n",
      "Fitting 5 folds for each of 64 candidates, totalling 320 fits\n",
      "Starting googl, 14.\n",
      "Fitting 5 folds for each of 64 candidates, totalling 320 fits\n"
     ]
    }
   ],
   "source": [
    "# ===== BASELINE =====\n",
    "\n",
    "full_names = {\n",
    "    \"amzn\": \"Amazon\",\n",
    "    \"aapl\": \"Apple\",\n",
    "    \"msft\": \"Microsoft\",\n",
    "    \"tsla\": \"Tesla\",\n",
    "    \"goog\": \"Google (GOOG)\",\n",
    "    \"googl\": \"Google (GOOGL)\",\n",
    "}\n",
    "weight = \"no_weight\"\n",
    "acc = {}\n",
    "cm = {}\n",
    "f1_metric = {}\n",
    "\n",
    "\n",
    "for company in full_names.keys():\n",
    "    df = pd.read_csv(f\"../datasets/v3/more_cols_binned/{weight}/{company}.csv\")\n",
    "    VITAL_COLS = [\"post_date\", \"ticker\", \"close\", \"bin_3\"]\n",
    "    OTHER_COLS = [i for i in df.columns if i not in VITAL_COLS]\n",
    "    print(OTHER_COLS)\n",
    "    acc[company] = {}\n",
    "    f1_metric[company] = {}\n",
    "\n",
    "\n",
    "    for lag in [3, 7, 14]:\n",
    "        x, y = create_x_y(df, x_cols=[\"open\", \"close\", \"vol\", \"high\"], y_col=\"bin_3\", lag=lag)\n",
    "        print(f\"Starting {company}, {lag}.\")\n",
    "        acc[company][lag], f1_metric[company][lag] = measure(\n",
    "            x, y\n",
    "        )\n",
    "        \n",
    "with open(f\"DT_v3__acc_f1_baseline.txt\", \"w\") as file:\n",
    "    to_write = \"Acc: \" + json.dumps(acc) + \" F1: \" + json.dumps(f1_metric)\n",
    "    file.write(json.dumps(to_write))"
   ]
  },
  {
   "cell_type": "code",
   "execution_count": 30,
   "metadata": {},
   "outputs": [
    {
     "name": "stdout",
     "output_type": "stream",
     "text": [
      "['open', 'high', 'low', 'vol', 'comment_num_sum', 'comp_max', 'comp_mean', 'comp_median', 'comp_min', 'comp_std', 'like_num_sum', 'neg_max', 'neg_mean', 'neg_median', 'neg_min', 'neg_std', 'neu_max', 'neu_mean', 'neu_median', 'neu_min', 'neu_std', 'count', 'pos_max', 'pos_mean', 'pos_median', 'pos_min', 'pos_std', 'retweet_num_sum', 'relative_count', 'diffs']\n",
      "Starting amzn, 3.\n",
      "Fitting 5 folds for each of 64 candidates, totalling 320 fits\n",
      "Starting amzn, 7.\n",
      "Fitting 5 folds for each of 64 candidates, totalling 320 fits\n",
      "Starting amzn, 14.\n",
      "Fitting 5 folds for each of 64 candidates, totalling 320 fits\n",
      "['open', 'high', 'low', 'vol', 'comment_num_sum', 'comp_max', 'comp_mean', 'comp_median', 'comp_min', 'comp_std', 'like_num_sum', 'neg_max', 'neg_mean', 'neg_median', 'neg_min', 'neg_std', 'neu_max', 'neu_mean', 'neu_median', 'neu_min', 'neu_std', 'count', 'pos_max', 'pos_mean', 'pos_median', 'pos_min', 'pos_std', 'retweet_num_sum', 'relative_count', 'diffs']\n",
      "Starting aapl, 3.\n",
      "Fitting 5 folds for each of 64 candidates, totalling 320 fits\n",
      "Starting aapl, 7.\n",
      "Fitting 5 folds for each of 64 candidates, totalling 320 fits\n",
      "Starting aapl, 14.\n",
      "Fitting 5 folds for each of 64 candidates, totalling 320 fits\n",
      "['open', 'high', 'low', 'vol', 'comment_num_sum', 'comp_max', 'comp_mean', 'comp_median', 'comp_min', 'comp_std', 'like_num_sum', 'neg_max', 'neg_mean', 'neg_median', 'neg_min', 'neg_std', 'neu_max', 'neu_mean', 'neu_median', 'neu_min', 'neu_std', 'count', 'pos_max', 'pos_mean', 'pos_median', 'pos_min', 'pos_std', 'retweet_num_sum', 'relative_count', 'diffs']\n",
      "Starting msft, 3.\n",
      "Fitting 5 folds for each of 64 candidates, totalling 320 fits\n",
      "Starting msft, 7.\n",
      "Fitting 5 folds for each of 64 candidates, totalling 320 fits\n",
      "Starting msft, 14.\n",
      "Fitting 5 folds for each of 64 candidates, totalling 320 fits\n",
      "['open', 'high', 'low', 'vol', 'comment_num_sum', 'comp_max', 'comp_mean', 'comp_median', 'comp_min', 'comp_std', 'like_num_sum', 'neg_max', 'neg_mean', 'neg_median', 'neg_min', 'neg_std', 'neu_max', 'neu_mean', 'neu_median', 'neu_min', 'neu_std', 'count', 'pos_max', 'pos_mean', 'pos_median', 'pos_min', 'pos_std', 'retweet_num_sum', 'relative_count', 'diffs']\n",
      "Starting tsla, 3.\n",
      "Fitting 5 folds for each of 64 candidates, totalling 320 fits\n",
      "Starting tsla, 7.\n",
      "Fitting 5 folds for each of 64 candidates, totalling 320 fits\n",
      "Starting tsla, 14.\n",
      "Fitting 5 folds for each of 64 candidates, totalling 320 fits\n",
      "['open', 'high', 'low', 'vol', 'comment_num_sum', 'comp_max', 'comp_mean', 'comp_median', 'comp_min', 'comp_std', 'like_num_sum', 'neg_max', 'neg_mean', 'neg_median', 'neg_min', 'neg_std', 'neu_max', 'neu_mean', 'neu_median', 'neu_min', 'neu_std', 'count', 'pos_max', 'pos_mean', 'pos_median', 'pos_min', 'pos_std', 'retweet_num_sum', 'relative_count', 'diffs']\n",
      "Starting goog, 3.\n",
      "Fitting 5 folds for each of 64 candidates, totalling 320 fits\n",
      "Starting goog, 7.\n",
      "Fitting 5 folds for each of 64 candidates, totalling 320 fits\n",
      "Starting goog, 14.\n",
      "Fitting 5 folds for each of 64 candidates, totalling 320 fits\n",
      "['open', 'high', 'low', 'vol', 'comment_num_sum', 'comp_max', 'comp_mean', 'comp_median', 'comp_min', 'comp_std', 'like_num_sum', 'neg_max', 'neg_mean', 'neg_median', 'neg_min', 'neg_std', 'neu_max', 'neu_mean', 'neu_median', 'neu_min', 'neu_std', 'count', 'pos_max', 'pos_mean', 'pos_median', 'pos_min', 'pos_std', 'retweet_num_sum', 'relative_count', 'diffs']\n",
      "Starting googl, 3.\n",
      "Fitting 5 folds for each of 64 candidates, totalling 320 fits\n",
      "Starting googl, 7.\n",
      "Fitting 5 folds for each of 64 candidates, totalling 320 fits\n",
      "Starting googl, 14.\n",
      "Fitting 5 folds for each of 64 candidates, totalling 320 fits\n"
     ]
    }
   ],
   "source": [
    "full_names = {\n",
    "    \"amzn\": \"Amazon\",\n",
    "    \"aapl\": \"Apple\",\n",
    "    \"msft\": \"Microsoft\",\n",
    "    \"tsla\": \"Tesla\",\n",
    "    \"goog\": \"Google (GOOG)\",\n",
    "    \"googl\": \"Google (GOOGL)\",\n",
    "}\n",
    "weight = \"w1\"\n",
    "\n",
    "acc = {}\n",
    "cm = {}\n",
    "f1_metric = {}\n",
    "\n",
    "\n",
    "for company in full_names.keys():\n",
    "    df = pd.read_csv(f\"../datasets/v3/more_cols_binned/{weight}/{company}.csv\")\n",
    "    VITAL_COLS = [\"post_date\", \"ticker\", \"close\", \"bin_3\"]\n",
    "    OTHER_COLS = [i for i in df.columns if i not in VITAL_COLS]\n",
    "    print(OTHER_COLS)\n",
    "    acc[company] = {}\n",
    "    f1_metric[company] = {}\n",
    "\n",
    "\n",
    "    for lag in [3, 7, 14]:\n",
    "        x, y = create_x_y(df, x_cols=OTHER_COLS, y_col=\"bin_3\", lag=lag)\n",
    "        print(f\"Starting {company}, {lag}.\")\n",
    "        acc[company][lag], f1_metric[company][lag] = measure(\n",
    "            x, y\n",
    "        )\n",
    "        \n",
    "with open(f\"DT_v3__acc_f1_{weight}.txt\", \"w\") as file:\n",
    "    to_write = \"Acc: \" + json.dumps(acc) + \" F1: \" + json.dumps(f1_metric)\n",
    "    file.write(json.dumps(to_write))"
   ]
  }
 ],
 "metadata": {
  "kernelspec": {
   "display_name": "Python 3.10.0 64-bit",
   "language": "python",
   "name": "python3"
  },
  "language_info": {
   "codemirror_mode": {
    "name": "ipython",
    "version": 3
   },
   "file_extension": ".py",
   "mimetype": "text/x-python",
   "name": "python",
   "nbconvert_exporter": "python",
   "pygments_lexer": "ipython3",
   "version": "3.10.4"
  },
  "orig_nbformat": 4,
  "vscode": {
   "interpreter": {
    "hash": "1dd0381d1fc2fb15dda0c9601b2866ce5a466e54b3f253773e8ed097d13694fa"
   }
  }
 },
 "nbformat": 4,
 "nbformat_minor": 2
}
