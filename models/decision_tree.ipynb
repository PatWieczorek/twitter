{
 "cells": [
  {
   "cell_type": "code",
   "execution_count": 27,
   "metadata": {},
   "outputs": [],
   "source": [
    "import pandas as pd\n",
    "import numpy as np\n",
    "from sklearn.metrics import confusion_matrix\n",
    "from sklearn.tree import DecisionTreeClassifier, plot_tree\n",
    "from sklearn.model_selection import TimeSeriesSplit, GridSearchCV\n",
    "from scipy.stats import uniform, randint\n",
    "\n",
    "from tools import create_x_y"
   ]
  },
  {
   "cell_type": "code",
   "execution_count": 28,
   "metadata": {},
   "outputs": [],
   "source": [
    "df = pd.read_csv('../datasets/relevant/amzn.csv')"
   ]
  },
  {
   "cell_type": "code",
   "execution_count": 29,
   "metadata": {},
   "outputs": [
    {
     "name": "stdout",
     "output_type": "stream",
     "text": [
      "['low', 'vol', 'max_pos', 'std_neg', 'std_pos', 'mean_comp', 'mean_neg', 'mean_pos', 'median_comp', 'count']\n"
     ]
    }
   ],
   "source": [
    "VITAL_COLS = [\"date_\", \"ticker\", \"close\", \"diffs\", \"bin_2\", \"bin_3\", \"bin_5\"]\n",
    "OTHER_COLS = [i for i in df.columns if i not in VITAL_COLS]\n",
    "print(OTHER_COLS)"
   ]
  },
  {
   "cell_type": "code",
   "execution_count": 30,
   "metadata": {},
   "outputs": [],
   "source": [
    "def weight_data(x):\n",
    "    # least represented class is 1.0, others are percentage_least/percentage_other\n",
    "    percentages = {}\n",
    "    len_x = len(x)\n",
    "    for uniq_val in set(x):\n",
    "        percentages[uniq_val] = sum([1 for i in x if i==uniq_val])/len_x\n",
    "    least = min(percentages, key=percentages.get)\n",
    "    weights = {i:percentages[least]/percentages[i] for i in percentages}\n",
    "    return weights"
   ]
  },
  {
   "cell_type": "code",
   "execution_count": 31,
   "metadata": {},
   "outputs": [],
   "source": [
    "def measure(x, y):\n",
    "    clf = DecisionTreeClassifier(class_weight=weight_data(y))\n",
    "\n",
    "    params = {\n",
    "        'max_depth': [2, 3, 5, 10, 20, 50, 100, 200],\n",
    "        'min_samples_leaf': [2, 3, 5, 10],\n",
    "        'criterion': [\"gini\", \"entropy\"]\n",
    "    }\n",
    "    time_split = TimeSeriesSplit(n_splits=5)\n",
    "\n",
    "    tree_search = GridSearchCV(\n",
    "        clf,\n",
    "        param_grid=params,\n",
    "        cv=time_split,\n",
    "        verbose=1,\n",
    "        n_jobs=4,\n",
    "    )\n",
    "    split = int(0.8 * len(x))\n",
    "    tree_search.fit(x[:split], y[:split])\n",
    "    y_pred = tree_search.predict(x[split:])\n",
    "    cm = confusion_matrix(y[split:], y_pred)\n",
    "    acc = sum(y_pred == y[split:])/len(y_pred)\n",
    "    \n",
    "    return cm, acc"
   ]
  },
  {
   "cell_type": "code",
   "execution_count": 32,
   "metadata": {},
   "outputs": [],
   "source": [
    "acc = {}\n",
    "cm = {}\n",
    "for lag in [3, 6, 10, 16]:\n",
    "    x, y = create_x_y(df, x_cols=OTHER_COLS, y_col=\"bin_3\", lag=lag)\n",
    "    cm[lag], acc[lag] = measure(x, y)"
   ]
  },
  {
   "cell_type": "code",
   "execution_count": 33,
   "metadata": {},
   "outputs": [
    {
     "data": {
      "text/plain": [
       "{3: 0.5505226480836237,\n",
       " 6: 0.5522648083623694,\n",
       " 10: 0.5502614758861127,\n",
       " 16: 0.5482558139534883}"
      ]
     },
     "execution_count": 33,
     "metadata": {},
     "output_type": "execute_result"
    }
   ],
   "source": [
    "acc"
   ]
  },
  {
   "cell_type": "code",
   "execution_count": 34,
   "metadata": {},
   "outputs": [
    {
     "data": {
      "text/plain": [
       "{3: array([[ 10, 279,  97],\n",
       "        [ 16, 807, 112],\n",
       "        [  7, 263, 131]], dtype=int64),\n",
       " 6: array([[ 25, 257, 104],\n",
       "        [ 25, 813,  97],\n",
       "        [ 16, 272, 113]], dtype=int64),\n",
       " 10: array([[ 13, 314,  58],\n",
       "        [ 24, 850,  61],\n",
       "        [ 12, 305,  84]], dtype=int64),\n",
       " 16: array([[ 58, 326,   0],\n",
       "        [ 50, 885,   0],\n",
       "        [ 59, 342,   0]], dtype=int64)}"
      ]
     },
     "execution_count": 34,
     "metadata": {},
     "output_type": "execute_result"
    }
   ],
   "source": [
    "cm"
   ]
  }
 ],
 "metadata": {
  "kernelspec": {
   "display_name": "Python 3.10.0 64-bit",
   "language": "python",
   "name": "python3"
  },
  "language_info": {
   "codemirror_mode": {
    "name": "ipython",
    "version": 3
   },
   "file_extension": ".py",
   "mimetype": "text/x-python",
   "name": "python",
   "nbconvert_exporter": "python",
   "pygments_lexer": "ipython3",
   "version": "3.10.0"
  },
  "orig_nbformat": 4,
  "vscode": {
   "interpreter": {
    "hash": "1dd0381d1fc2fb15dda0c9601b2866ce5a466e54b3f253773e8ed097d13694fa"
   }
  }
 },
 "nbformat": 4,
 "nbformat_minor": 2
}
