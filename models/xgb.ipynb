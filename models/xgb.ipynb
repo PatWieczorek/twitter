{
 "cells": [
  {
   "cell_type": "code",
   "execution_count": 2,
   "metadata": {},
   "outputs": [],
   "source": [
    "import xgboost as xgb\n",
    "import pandas as pd\n",
    "import numpy as np\n",
    "from sklearn.metrics import confusion_matrix, f1_score, accuracy_score\n",
    "from sklearn.model_selection import TimeSeriesSplit, RandomizedSearchCV\n",
    "from scipy.stats import uniform, randint\n",
    "from sklearn.utils.class_weight import compute_sample_weight\n",
    "import matplotlib.pyplot as plt\n",
    "import json\n",
    "from tools import create_x_y"
   ]
  },
  {
   "cell_type": "code",
   "execution_count": 3,
   "metadata": {},
   "outputs": [],
   "source": [
    "def encode_y(y):\n",
    "    if len(set(y)) == 2:\n",
    "        remap_dict = {-1: 0, 1: 1}\n",
    "    elif len(set(y)) == 3:\n",
    "        remap_dict = {-1: 0, 0: 1, 1: 2}\n",
    "    elif len(set(y)) == 5:\n",
    "        remap_dict = {-2: 0, -1: 1, 0: 2, 1: 3, 2: 4}\n",
    "    for i, val in enumerate(y):\n",
    "        y[i] = remap_dict[val]\n",
    "\n",
    "    return y\n",
    "\n",
    "\n",
    "def weight_data(x):\n",
    "    # least represented class is 1.0, others are percentage_least/percentage_other\n",
    "    percentages = {}\n",
    "    len_x = len(x)\n",
    "    for uniq_val in set(x):\n",
    "        percentages[uniq_val] = sum([1 for i in x if i == uniq_val]) / len_x\n",
    "    least = min(percentages, key=percentages.get)\n",
    "    weights = {i: percentages[least] / percentages[i] for i in percentages}\n",
    "    return weights\n",
    "\n",
    "\n",
    "# match feature importances from vector with multiple lagged vals of each column\n",
    "def importances_from_lag(x, col_names):\n",
    "    lag = int(len(x) / len(col_names))\n",
    "    len_col = len(col_names)\n",
    "    imp = {\n",
    "        col_names[i]: sum(x[i * lag : (i + 1) * lag]) / lag\n",
    "        for i in range(len_col)\n",
    "    }\n",
    "\n",
    "    return imp\n",
    "\n",
    "def save_importances_plot(fi, name, title, cols):\n",
    "    import seaborn as sns\n",
    "    importances = importances_from_lag(fi, cols) \n",
    "    x_axis = list(importances.keys())\n",
    "    y_axis = [float(i) for i in importances.values()]\n",
    "    figure = plt.gcf()\n",
    "    figure.set_size_inches(9, 6)\n",
    "    sns.barplot(y=x_axis, x=y_axis).set_title(title)\n",
    "    \n",
    "    plt.savefig(f'../plots/{name}.pdf')"
   ]
  },
  {
   "cell_type": "code",
   "execution_count": 4,
   "metadata": {},
   "outputs": [],
   "source": [
    "def measure(x, y, binary=True):\n",
    "    mode = \"binary:logistic\"\n",
    "    if not binary:\n",
    "        mode = \"multi:softprob\"\n",
    "    clf = xgb.XGBClassifier(objective=mode, random_state=42)#, sample_weight=compute_sample_weight(weight_data(y), y))\n",
    "\n",
    "    params = {\n",
    "        \"colsample_bytree\": uniform(0.7, 0.3),\n",
    "        \"gamma\": uniform(0, 0.5),\n",
    "        \"learning_rate\": uniform(0.003, 0.3),  # default 0.1\n",
    "        \"max_depth\": randint(2, 6),  # default 3\n",
    "        \"n_estimators\": randint(100, 400),  # default 100\n",
    "        \"subsample\": uniform(0.6, 0.4), \n",
    "    }\n",
    "    time_split = TimeSeriesSplit(n_splits=5)\n",
    "    xgb_search = RandomizedSearchCV(\n",
    "        clf,\n",
    "        param_distributions=params,\n",
    "        random_state=42,\n",
    "        n_iter=20,\n",
    "        cv=time_split,\n",
    "        verbose=1,\n",
    "        n_jobs=4,\n",
    "    )\n",
    "    split = int(0.8 * len(x))\n",
    "    xgb_search.fit(x[:split], y[:split])\n",
    "    y_pred = xgb_search.predict(x[split:])\n",
    "    #cm = confusion_matrix(y[split:], y_pred)\n",
    "    acc = accuracy_score(y[split:], y_pred)\n",
    "    f1 = f1_score(y[split:], y_pred, average=\"weighted\")\n",
    "\n",
    "    fi = xgb_search.best_estimator_.feature_importances_\n",
    "\n",
    "    return acc, f1, fi"
   ]
  },
  {
   "cell_type": "code",
   "execution_count": 6,
   "metadata": {},
   "outputs": [
    {
     "name": "stdout",
     "output_type": "stream",
     "text": [
      "['open', 'high', 'low', 'close', 'vol', 'max_comp', 'max_neg', 'max_neu', 'max_pos', 'min_comp', 'min_neg', 'min_neu', 'min_pos', 'std_comp', 'std_neg', 'std_neu', 'std_pos', 'mean_comp', 'mean_neg', 'mean_neu', 'mean_pos', 'median_comp', 'median_neg', 'median_neu', 'median_pos', 'count', 'bin_5']\n",
      "Fitting 5 folds for each of 20 candidates, totalling 100 fits\n",
      "Fitting 5 folds for each of 20 candidates, totalling 100 fits\n",
      "Fitting 5 folds for each of 20 candidates, totalling 100 fits\n",
      "Fitting 5 folds for each of 20 candidates, totalling 100 fits\n",
      "['open', 'high', 'low', 'close', 'vol', 'max_comp', 'max_neg', 'max_neu', 'max_pos', 'min_comp', 'min_neg', 'min_neu', 'min_pos', 'std_comp', 'std_neg', 'std_neu', 'std_pos', 'mean_comp', 'mean_neg', 'mean_neu', 'mean_pos', 'median_comp', 'median_neg', 'median_neu', 'median_pos', 'count', 'bin_5']\n",
      "Fitting 5 folds for each of 20 candidates, totalling 100 fits\n",
      "Fitting 5 folds for each of 20 candidates, totalling 100 fits\n",
      "Fitting 5 folds for each of 20 candidates, totalling 100 fits\n",
      "Fitting 5 folds for each of 20 candidates, totalling 100 fits\n",
      "['open', 'high', 'low', 'close', 'vol', 'max_comp', 'max_neg', 'max_neu', 'max_pos', 'min_comp', 'min_neg', 'min_neu', 'min_pos', 'std_comp', 'std_neg', 'std_neu', 'std_pos', 'mean_comp', 'mean_neg', 'mean_neu', 'mean_pos', 'median_comp', 'median_neg', 'median_neu', 'median_pos', 'count', 'bin_5']\n",
      "Fitting 5 folds for each of 20 candidates, totalling 100 fits\n",
      "Fitting 5 folds for each of 20 candidates, totalling 100 fits\n",
      "Fitting 5 folds for each of 20 candidates, totalling 100 fits\n",
      "Fitting 5 folds for each of 20 candidates, totalling 100 fits\n",
      "['open', 'high', 'low', 'close', 'vol', 'max_comp', 'max_neg', 'max_neu', 'max_pos', 'min_comp', 'min_neg', 'min_neu', 'min_pos', 'std_comp', 'std_neg', 'std_neu', 'std_pos', 'mean_comp', 'mean_neg', 'mean_neu', 'mean_pos', 'median_comp', 'median_neg', 'median_neu', 'median_pos', 'count', 'bin_5']\n",
      "Fitting 5 folds for each of 20 candidates, totalling 100 fits\n",
      "Fitting 5 folds for each of 20 candidates, totalling 100 fits\n",
      "Fitting 5 folds for each of 20 candidates, totalling 100 fits\n",
      "Fitting 5 folds for each of 20 candidates, totalling 100 fits\n",
      "['open', 'high', 'low', 'close', 'vol', 'max_comp', 'max_neg', 'max_neu', 'max_pos', 'min_comp', 'min_neg', 'min_neu', 'min_pos', 'std_comp', 'std_neg', 'std_neu', 'std_pos', 'mean_comp', 'mean_neg', 'mean_neu', 'mean_pos', 'median_comp', 'median_neg', 'median_neu', 'median_pos', 'count', 'bin_5']\n",
      "Fitting 5 folds for each of 20 candidates, totalling 100 fits\n",
      "Fitting 5 folds for each of 20 candidates, totalling 100 fits\n",
      "Fitting 5 folds for each of 20 candidates, totalling 100 fits\n",
      "Fitting 5 folds for each of 20 candidates, totalling 100 fits\n",
      "['open', 'high', 'low', 'close', 'vol', 'max_comp', 'max_neg', 'max_neu', 'max_pos', 'min_comp', 'min_neg', 'min_neu', 'min_pos', 'std_comp', 'std_neg', 'std_neu', 'std_pos', 'mean_comp', 'mean_neg', 'mean_neu', 'mean_pos', 'median_comp', 'median_neg', 'median_neu', 'median_pos', 'count', 'bin_5']\n",
      "Fitting 5 folds for each of 20 candidates, totalling 100 fits\n",
      "Fitting 5 folds for each of 20 candidates, totalling 100 fits\n",
      "Fitting 5 folds for each of 20 candidates, totalling 100 fits\n",
      "Fitting 5 folds for each of 20 candidates, totalling 100 fits\n"
     ]
    },
    {
     "data": {
      "image/png": "[encoded data removed]",
      "text/plain": [
       "<Figure size 648x432 with 1 Axes>"
      ]
     },
     "metadata": {
      "needs_background": "light"
     },
     "output_type": "display_data"
    }
   ],
   "source": [
    "full_names = {\n",
    "    \"amzn\": \"Amazon\",\n",
    "    \"aapl\": \"Apple\",\n",
    "    \"msft\": \"Microsoft\",\n",
    "    \"tsla\": \"Tesla\",\n",
    "    \"goog\": \"Google (GOOG)\",\n",
    "    \"googl\": \"Google (GOOGL)\",\n",
    "}\n",
    "weight = \"baseline\"\n",
    "\n",
    "acc = {}\n",
    "cm = {}\n",
    "f1_metric = {}\n",
    "\n",
    "\n",
    "for company in full_names.keys():\n",
    "    df = pd.read_csv(f\"../datasets/v1/binned/{company}_binned.csv\")\n",
    "    VITAL_COLS = [\"date_\", \"ticker\", \"bin_2\", \"diffs\", \"bin_3\"]\n",
    "    OTHER_COLS = [i for i in df.columns if i not in VITAL_COLS]\n",
    "    print(OTHER_COLS)\n",
    "    acc[company] = {}\n",
    "    f1_metric[company] = {}\n",
    "    fi = {}\n",
    "\n",
    "    for lag in [3, 6, 10, 16]:\n",
    "        x, y = create_x_y(df, x_cols=OTHER_COLS, y_col=\"bin_3\", lag=lag)\n",
    "        y = encode_y(y)\n",
    "        #print(x[:3], y[:3])\n",
    "        #print(acc, f1_metric, fi)\n",
    "        acc[company][lag], f1_metric[company][lag], fi[lag] = measure(\n",
    "            x, y, binary=False\n",
    "        )\n",
    "    save_importances_plot(\n",
    "            fi[lag],\n",
    "            f\"xgb_{company}_imp_{weight}\",\n",
    "            f\"{full_names[company]}\",\n",
    "            OTHER_COLS,\n",
    "        )\n",
    "with open(f\"{company}_acc_f1_{weight}.txt\", \"w\") as file:\n",
    "    to_write = \"Acc: \" + json.dumps(acc) + \" F1: \" + json.dumps(f1_metric)\n",
    "    file.write(json.dumps(to_write))\n"
   ]
  },
  {
   "cell_type": "code",
   "execution_count": 40,
   "metadata": {},
   "outputs": [
    {
     "name": "stdout",
     "output_type": "stream",
     "text": [
      "['open', 'high', 'low', 'close', 'vol', 'bin_5', 'max_comp', 'max_neg', 'max_neu', 'max_pos', 'min_comp', 'min_neg', 'min_neu', 'min_pos', 'std_comp', 'std_neg', 'std_neu', 'std_pos', 'mean_comp', 'mean_neg', 'mean_neu', 'mean_pos', 'median_comp', 'median_neg', 'median_neu', 'median_pos', 'count']\n",
      "Fitting 5 folds for each of 20 candidates, totalling 100 fits\n",
      "Fitting 5 folds for each of 20 candidates, totalling 100 fits\n",
      "Fitting 5 folds for each of 20 candidates, totalling 100 fits\n",
      "Fitting 5 folds for each of 20 candidates, totalling 100 fits\n",
      "['open', 'high', 'low', 'close', 'vol', 'bin_5', 'max_comp', 'max_neg', 'max_neu', 'max_pos', 'min_comp', 'min_neg', 'min_neu', 'min_pos', 'std_comp', 'std_neg', 'std_neu', 'std_pos', 'mean_comp', 'mean_neg', 'mean_neu', 'mean_pos', 'median_comp', 'median_neg', 'median_neu', 'median_pos', 'count']\n",
      "Fitting 5 folds for each of 20 candidates, totalling 100 fits\n",
      "Fitting 5 folds for each of 20 candidates, totalling 100 fits\n",
      "Fitting 5 folds for each of 20 candidates, totalling 100 fits\n",
      "Fitting 5 folds for each of 20 candidates, totalling 100 fits\n",
      "['open', 'high', 'low', 'close', 'vol', 'bin_5', 'max_comp', 'max_neg', 'max_neu', 'max_pos', 'min_comp', 'min_neg', 'min_neu', 'min_pos', 'std_comp', 'std_neg', 'std_neu', 'std_pos', 'mean_comp', 'mean_neg', 'mean_neu', 'mean_pos', 'median_comp', 'median_neg', 'median_neu', 'median_pos', 'count']\n",
      "Fitting 5 folds for each of 20 candidates, totalling 100 fits\n",
      "Fitting 5 folds for each of 20 candidates, totalling 100 fits\n",
      "Fitting 5 folds for each of 20 candidates, totalling 100 fits\n",
      "Fitting 5 folds for each of 20 candidates, totalling 100 fits\n",
      "['open', 'high', 'low', 'close', 'vol', 'bin_5', 'max_comp', 'max_neg', 'max_neu', 'max_pos', 'min_comp', 'min_neg', 'min_neu', 'min_pos', 'std_comp', 'std_neg', 'std_neu', 'std_pos', 'mean_comp', 'mean_neg', 'mean_neu', 'mean_pos', 'median_comp', 'median_neg', 'median_neu', 'median_pos', 'count']\n",
      "Fitting 5 folds for each of 20 candidates, totalling 100 fits\n",
      "Fitting 5 folds for each of 20 candidates, totalling 100 fits\n",
      "Fitting 5 folds for each of 20 candidates, totalling 100 fits\n",
      "Fitting 5 folds for each of 20 candidates, totalling 100 fits\n",
      "['Unnamed: 0', 'open', 'high', 'low', 'close', 'vol', 'max_comp', 'max_neg', 'max_neu', 'max_pos', 'min_comp', 'min_neg', 'min_neu', 'min_pos', 'std_comp', 'std_neg', 'std_neu', 'std_pos', 'mean_comp', 'mean_neg', 'mean_neu', 'mean_pos', 'median_comp', 'median_neg', 'median_neu', 'median_pos', 'count']\n",
      "Fitting 5 folds for each of 20 candidates, totalling 100 fits\n",
      "Fitting 5 folds for each of 20 candidates, totalling 100 fits\n",
      "Fitting 5 folds for each of 20 candidates, totalling 100 fits\n",
      "Fitting 5 folds for each of 20 candidates, totalling 100 fits\n",
      "['Unnamed: 0', 'open', 'high', 'low', 'close', 'vol', 'max_comp', 'max_neg', 'max_neu', 'max_pos', 'min_comp', 'min_neg', 'min_neu', 'min_pos', 'std_comp', 'std_neg', 'std_neu', 'std_pos', 'mean_comp', 'mean_neg', 'mean_neu', 'mean_pos', 'median_comp', 'median_neg', 'median_neu', 'median_pos', 'count']\n",
      "Fitting 5 folds for each of 20 candidates, totalling 100 fits\n",
      "Fitting 5 folds for each of 20 candidates, totalling 100 fits\n",
      "Fitting 5 folds for each of 20 candidates, totalling 100 fits\n",
      "Fitting 5 folds for each of 20 candidates, totalling 100 fits\n"
     ]
    },
    {
     "data": {
      "image/png": "[encoded data removed]",
      "text/plain": [
       "<Figure size 648x432 with 1 Axes>"
      ]
     },
     "metadata": {
      "needs_background": "light"
     },
     "output_type": "display_data"
    }
   ],
   "source": [
    "full_names = {\n",
    "    \"amzn\": \"Amazon\",\n",
    "    \"aapl\": \"Apple\",\n",
    "    \"msft\": \"Microsoft\",\n",
    "    \"tsla\": \"Tesla\",\n",
    "    \"goog\": \"Google (GOOG)\",\n",
    "    \"googl\": \"Google (GOOGL)\",\n",
    "}\n",
    "weight = \"w2\"\n",
    "\n",
    "acc = {}\n",
    "cm = {}\n",
    "f1_metric = {}\n",
    "\n",
    "\n",
    "for company in full_names.keys():\n",
    "    df = pd.read_csv(f\"../datasets/v2/full_weighted/{weight}/{company}.csv\")\n",
    "    VITAL_COLS = [\"post_date\", \"ticker\", \"bin_2\", \"diffs\", \"bin_3\"]\n",
    "    OTHER_COLS = [i for i in df.columns if i not in VITAL_COLS]\n",
    "    print(OTHER_COLS)\n",
    "    acc[company] = {}\n",
    "    f1_metric[company] = {}\n",
    "    fi = {}\n",
    "\n",
    "    for lag in [3, 6, 10, 16]:\n",
    "        x, y = create_x_y(df, x_cols=OTHER_COLS, y_col=\"bin_3\", lag=lag)\n",
    "        y = encode_y(y)\n",
    "        #print(x[:3], y[:3])\n",
    "        #print(acc, f1_metric, fi)\n",
    "        acc[company][lag], f1_metric[company][lag], fi[lag] = measure(\n",
    "            x, y, binary=False\n",
    "        )\n",
    "    save_importances_plot(\n",
    "            fi[lag],\n",
    "            f\"xgb_{company}_imp_{weight}\",\n",
    "            f\"{full_names[company]}\",\n",
    "            OTHER_COLS,\n",
    "        )\n",
    "    with open(f\"{company}_acc_f1_{weight}.txt\", \"w\") as file:\n",
    "        to_write = \"Acc: \" + json.dumps(acc) + \" F1: \" + json.dumps(f1_metric)\n",
    "        file.write(json.dumps(to_write))\n"
   ]
  },
  {
   "cell_type": "code",
   "execution_count": 27,
   "metadata": {},
   "outputs": [
    {
     "data": {
      "text/plain": [
       "{'tsla': {3: 0.3563615428900403,\n",
       "  6: 0.3747841105354059,\n",
       "  10: 0.35368663594470046,\n",
       "  16: 0.3723342939481268}}"
      ]
     },
     "execution_count": 27,
     "metadata": {},
     "output_type": "execute_result"
    }
   ],
   "source": [
    "acc"
   ]
  },
  {
   "cell_type": "code",
   "execution_count": 21,
   "metadata": {},
   "outputs": [],
   "source": [
    "acc_good = {f\"{company}_{lag}\": round(acc[company][lag], 4) for lag in acc[company] for company in acc}\n",
    "f1_good = {f\"{company}_{lag}\": round(f1_metric[company][lag], 4) for lag in acc[company] for company in acc}"
   ]
  },
  {
   "cell_type": "code",
   "execution_count": 23,
   "metadata": {},
   "outputs": [
    {
     "data": {
      "text/plain": [
       "{'amzn_3': 0.491, 'amzn_6': 0.498, 'amzn_10': 0.4935, 'amzn_16': 0.4916}"
      ]
     },
     "execution_count": 23,
     "metadata": {},
     "output_type": "execute_result"
    }
   ],
   "source": [
    "f1_good"
   ]
  },
  {
   "cell_type": "code",
   "execution_count": 11,
   "metadata": {},
   "outputs": [
    {
     "data": {
      "text/plain": [
       "Text(0.5, 1.0, 'F1')"
      ]
     },
     "execution_count": 11,
     "metadata": {},
     "output_type": "execute_result"
    },
    {
     "data": {
      "image/png": "[encoded data removed]",
      "text/plain": [
       "<Figure size 648x432 with 1 Axes>"
      ]
     },
     "metadata": {
      "needs_background": "light"
     },
     "output_type": "display_data"
    }
   ],
   "source": [
    "import seaborn as sns\n",
    "\n",
    "figure = plt.gcf()\n",
    "figure.set_size_inches(9, 6)\n",
    "sns.barplot(x=list(f1_good.values()), y=list(f1_good.keys())).set_title(\"F1\")\n"
   ]
  }
 ],
 "metadata": {
  "kernelspec": {
   "display_name": "Python 3.10.4 64-bit",
   "language": "python",
   "name": "python3"
  },
  "language_info": {
   "codemirror_mode": {
    "name": "ipython",
    "version": 3
   },
   "file_extension": ".py",
   "mimetype": "text/x-python",
   "name": "python",
   "nbconvert_exporter": "python",
   "pygments_lexer": "ipython3",
   "version": "3.10.4"
  },
  "orig_nbformat": 4,
  "vscode": {
   "interpreter": {
    "hash": "1dd0381d1fc2fb15dda0c9601b2866ce5a466e54b3f253773e8ed097d13694fa"
   }
  }
 },
 "nbformat": 4,
 "nbformat_minor": 2
}
