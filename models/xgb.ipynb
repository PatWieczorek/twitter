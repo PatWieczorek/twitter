{
 "cells": [
  {
   "cell_type": "code",
   "execution_count": 60,
   "metadata": {},
   "outputs": [],
   "source": [
    "import xgboost as xgb\n",
    "import pandas as pd\n",
    "import numpy as np\n",
    "from sklearn.metrics import confusion_matrix\n",
    "from sklearn.model_selection import TimeSeriesSplit, RandomizedSearchCV\n",
    "from scipy.stats import uniform, randint\n",
    "from sklearn.utils.class_weight import compute_sample_weight\n",
    "import matplotlib.pyplot as plt\n",
    "\n",
    "from tools import create_x_y"
   ]
  },
  {
   "cell_type": "code",
   "execution_count": 61,
   "metadata": {},
   "outputs": [],
   "source": [
    "df = pd.read_csv('../datasets/binned/tsla_binned.csv')"
   ]
  },
  {
   "cell_type": "code",
   "execution_count": 3,
   "metadata": {},
   "outputs": [
    {
     "data": {
      "text/plain": [
       "Index(['date_', 'ticker', 'open', 'high', 'low', 'close', 'vol', 'max_comp',\n",
       "       'max_neg', 'max_neu', 'max_pos', 'min_comp', 'min_neg', 'min_neu',\n",
       "       'min_pos', 'std_comp', 'std_neg', 'std_neu', 'std_pos', 'mean_comp',\n",
       "       'mean_neg', 'mean_neu', 'mean_pos', 'median_comp', 'median_neg',\n",
       "       'median_neu', 'median_pos', 'count', 'diffs', 'bin_2', 'bin_3',\n",
       "       'bin_5'],\n",
       "      dtype='object')"
      ]
     },
     "execution_count": 3,
     "metadata": {},
     "output_type": "execute_result"
    }
   ],
   "source": [
    "df.columns"
   ]
  },
  {
   "cell_type": "code",
   "execution_count": 65,
   "metadata": {},
   "outputs": [
    {
     "name": "stdout",
     "output_type": "stream",
     "text": [
      "['open', 'high', 'low', 'close', 'vol', 'max_comp', 'max_neg', 'max_neu', 'max_pos', 'min_comp', 'min_neg', 'min_neu', 'min_pos', 'std_comp', 'std_neg', 'std_neu', 'std_pos', 'mean_comp', 'mean_neg', 'mean_neu', 'mean_pos', 'median_comp', 'median_neg', 'median_neu', 'median_pos', 'count', 'bin_3']\n"
     ]
    }
   ],
   "source": [
    "VITAL_COLS = [\"date_\", \"ticker\", \"bin_2\", \"diffs\", \"bin_5\"]\n",
    "OTHER_COLS = [i for i in df.columns if i not in VITAL_COLS]\n",
    "print(OTHER_COLS)\n",
    "\n",
    "\n",
    "def encode_y(y):\n",
    "    if len(set(y)) == 2:\n",
    "        remap_dict = {-1: 0, 1: 1}\n",
    "    elif len(set(y)) == 3:\n",
    "        remap_dict = {-1: 0, 0: 1, 1: 2}\n",
    "    elif len(set(y)) == 5:\n",
    "        remap_dict = {-2: 0, -1: 1, 0: 2, 1: 3, 2: 4}\n",
    "    for i, val in enumerate(y):\n",
    "        y[i] = remap_dict[val]\n",
    "\n",
    "    return y\n",
    "\n",
    "\n",
    "def weight_data(x):\n",
    "    # least represented class is 1.0, others are percentage_least/percentage_other\n",
    "    percentages = {}\n",
    "    len_x = len(x)\n",
    "    for uniq_val in set(x):\n",
    "        percentages[uniq_val] = sum([1 for i in x if i == uniq_val]) / len_x\n",
    "    least = min(percentages, key=percentages.get)\n",
    "    weights = {i: percentages[least] / percentages[i] for i in percentages}\n",
    "    return weights\n",
    "\n",
    "\n",
    "# match feature importances from vector with multiple lagged vals of each column\n",
    "def importances_from_lag(x, col_names):\n",
    "    lag = int(len(x) / len(col_names))\n",
    "    len_col = len(col_names)\n",
    "    imp = {\n",
    "        col_names[i]: sum(x[i * lag : (i + 1) * lag]) / lag\n",
    "        for i in range(len_col)\n",
    "    }\n",
    "\n",
    "    return imp\n",
    "\n",
    "def save_importances_plot(fi, name, title):\n",
    "    import seaborn as sns\n",
    "    importances = importances_from_lag(fi, OTHER_COLS) \n",
    "    x_axis = list(importances.keys())\n",
    "    y_axis = [float(i) for i in importances.values()]\n",
    "    figure = plt.gcf()\n",
    "    figure.set_size_inches(9, 6)\n",
    "    sns.barplot(y=x_axis, x=y_axis).set_title(title)\n",
    "    \n",
    "    plt.savefig(f'../plots/{name}.pdf')"
   ]
  },
  {
   "cell_type": "code",
   "execution_count": 5,
   "metadata": {},
   "outputs": [],
   "source": [
    "def measure_acc(x, y, binary=True):\n",
    "    mode = \"binary:logistic\"\n",
    "    if not binary:\n",
    "        mode = \"multi:softprob\"\n",
    "    clf = xgb.XGBClassifier(objective=mode, random_state=42)#, sample_weight=compute_sample_weight(weight_data(y), y))\n",
    "\n",
    "    params = {\n",
    "        \"colsample_bytree\": uniform(0.7, 0.3),\n",
    "        \"gamma\": uniform(0, 0.5),\n",
    "        \"learning_rate\": uniform(0.003, 0.3),  # default 0.1\n",
    "        \"max_depth\": randint(2, 6),  # default 3\n",
    "        \"n_estimators\": randint(100, 400),  # default 100\n",
    "        \"subsample\": uniform(0.6, 0.4), \n",
    "    }\n",
    "    time_split = TimeSeriesSplit(n_splits=5)\n",
    "    xgb_search = RandomizedSearchCV(\n",
    "        clf,\n",
    "        param_distributions=params,\n",
    "        random_state=42,\n",
    "        n_iter=20,\n",
    "        cv=time_split,\n",
    "        verbose=1,\n",
    "        n_jobs=4,\n",
    "    )\n",
    "    split = int(0.8 * len(x))\n",
    "    xgb_search.fit(x[:split], y[:split])\n",
    "    y_pred = xgb_search.predict(x[split:])\n",
    "    cm = confusion_matrix(y[split:], y_pred)\n",
    "    acc = sum(y_pred == y[split:]) / len(y_pred)\n",
    "    fi = xgb_search.best_estimator_.feature_importances_\n",
    "\n",
    "    return cm, acc, fi"
   ]
  },
  {
   "cell_type": "code",
   "execution_count": 7,
   "metadata": {},
   "outputs": [
    {
     "name": "stdout",
     "output_type": "stream",
     "text": [
      "Fitting 5 folds for each of 20 candidates, totalling 100 fits\n",
      "Fitting 5 folds for each of 20 candidates, totalling 100 fits\n",
      "Fitting 5 folds for each of 20 candidates, totalling 100 fits\n",
      "Fitting 5 folds for each of 20 candidates, totalling 100 fits\n"
     ]
    }
   ],
   "source": [
    "cm = {}\n",
    "acc = {}\n",
    "fi = {}\n",
    "for lag in [3, 6, 10, 16]:\n",
    "    x, y = create_x_y(df, x_cols=OTHER_COLS, y_col=\"bin_3\", lag=lag)\n",
    "    y = encode_y(y)\n",
    "    cm[lag], acc[lag], fi[lag] = measure_acc(x, y, binary=False)"
   ]
  },
  {
   "cell_type": "code",
   "execution_count": 8,
   "metadata": {},
   "outputs": [
    {
     "name": "stdout",
     "output_type": "stream",
     "text": [
      "0.22325581395348837\n"
     ]
    }
   ],
   "source": [
    "## baseline\n",
    "split = int(0.8 * len(x))\n",
    "zeroes = pd.Series([0 for _ in range(len(y[split:]))])\n",
    "acc_base = sum(zeroes == y[split:]) / len(y[split:])\n",
    "print(acc_base)"
   ]
  },
  {
   "cell_type": "code",
   "execution_count": 63,
   "metadata": {},
   "outputs": [
    {
     "name": "stdout",
     "output_type": "stream",
     "text": [
      "{3: array([[ 40, 276,  70],\n",
      "       [ 53, 806,  76],\n",
      "       [ 39, 262, 100]], dtype=int64), 6: array([[ 31, 273,  82],\n",
      "       [ 39, 819,  77],\n",
      "       [ 34, 276,  91]], dtype=int64), 10: array([[ 26, 282,  77],\n",
      "       [ 30, 847,  58],\n",
      "       [ 25, 280,  96]], dtype=int64), 16: array([[ 36, 285,  63],\n",
      "       [ 28, 851,  56],\n",
      "       [ 31, 280,  90]], dtype=int64)}\n"
     ]
    }
   ],
   "source": [
    "print(cm)"
   ]
  },
  {
   "cell_type": "code",
   "execution_count": 24,
   "metadata": {},
   "outputs": [
    {
     "name": "stdout",
     "output_type": "stream",
     "text": [
      "3.0\n"
     ]
    }
   ],
   "source": [
    "print(len(fi[3])/len(OTHER_COLS), )"
   ]
  },
  {
   "cell_type": "code",
   "execution_count": 15,
   "metadata": {},
   "outputs": [
    {
     "name": "stdout",
     "output_type": "stream",
     "text": [
      "[0.01559905 0.01444146 0.02012096 0.01752292 0.01544419 0.01608634\n",
      " 0.02057325 0.02107208 0.01710633 0.01942277 0.02062706 0.01878646\n",
      " 0.0137252  0.0161375  0.0412848  0.01179052 0.01229652 0.01231336\n",
      " 0.01134711 0.01170105 0.01246658 0.         0.01109028 0.01093124\n",
      " 0.01160029 0.01196008 0.01318889 0.011834   0.01111528 0.01118876\n",
      " 0.         0.         0.         0.01150678 0.01130794 0.01128461\n",
      " 0.         0.         0.         0.01166135 0.01191878 0.01182685\n",
      " 0.01227821 0.01231332 0.01287066 0.01209182 0.01248995 0.01254595\n",
      " 0.01220816 0.01223294 0.01279788 0.01124191 0.01241391 0.01155631\n",
      " 0.01268148 0.01199261 0.01655793 0.0115405  0.01150191 0.01127654\n",
      " 0.01299985 0.0119849  0.01179527 0.01138054 0.01157985 0.01093201\n",
      " 0.01057309 0.01182263 0.01240933 0.01165539 0.01064772 0.0119646\n",
      " 0.01255451 0.01129435 0.01211718 0.01147883 0.01228717 0.01434377\n",
      " 0.01103953 0.01543908 0.01482783]\n"
     ]
    }
   ],
   "source": [
    "print(fi[3])"
   ]
  },
  {
   "cell_type": "code",
   "execution_count": 62,
   "metadata": {},
   "outputs": [
    {
     "name": "stdout",
     "output_type": "stream",
     "text": [
      "0.22325581395348837\n"
     ]
    }
   ],
   "source": [
    "print(acc)"
   ]
  },
  {
   "cell_type": "code",
   "execution_count": 34,
   "metadata": {},
   "outputs": [
    {
     "data": {
      "text/plain": [
       "{'open': 0.008031166701888045,\n",
       " 'high': 0.00935576002423962,\n",
       " 'low': 0.009954791671286026,\n",
       " 'close': 0.009231553257753452,\n",
       " 'vol': 0.010719255854686102,\n",
       " 'max_comp': 0.0060755598824471235,\n",
       " 'max_neg': 0.00576949732688566,\n",
       " 'max_neu': 0.0004044093657284975,\n",
       " 'max_pos': 0.006157684760789077,\n",
       " 'min_comp': 0.00608836323954165,\n",
       " 'min_neg': 0.0,\n",
       " 'min_neu': 0.005987720175956686,\n",
       " 'min_pos': 0.0,\n",
       " 'std_comp': 0.006322903170560797,\n",
       " 'std_neg': 0.006373546086251736,\n",
       " 'std_neu': 0.00626105706517895,\n",
       " 'std_pos': 0.006493933964520693,\n",
       " 'mean_comp': 0.006042857887223363,\n",
       " 'mean_neg': 0.00677074515260756,\n",
       " 'mean_neu': 0.006093229089553158,\n",
       " 'mean_pos': 0.00624677228430907,\n",
       " 'median_comp': 0.006285761715844274,\n",
       " 'median_neg': 0.005854027151751022,\n",
       " 'median_neu': 0.00631610699929297,\n",
       " 'median_pos': 0.006179604058464368,\n",
       " 'count': 0.00648069327386717,\n",
       " 'bin_3': 0.007169659327094753}"
      ]
     },
     "execution_count": 34,
     "metadata": {},
     "output_type": "execute_result"
    }
   ],
   "source": [
    "importances_from_lag(fi[6], OTHER_COLS)"
   ]
  },
  {
   "cell_type": "code",
   "execution_count": 66,
   "metadata": {},
   "outputs": [
    {
     "data": {
      "image/png": "[encoded data removed]",
      "text/plain": [
       "<Figure size 648x432 with 1 Axes>"
      ]
     },
     "metadata": {
      "needs_background": "light"
     },
     "output_type": "display_data"
    }
   ],
   "source": [
    "for i in [3, 6, 10, 16]:\n",
    "    save_importances_plot(fi[i], f'xgb_amzn_imp_{i}', f'Amazon lag = {i}')\n"
   ]
  }
 ],
 "metadata": {
  "kernelspec": {
   "display_name": "Python 3.10.4 64-bit",
   "language": "python",
   "name": "python3"
  },
  "language_info": {
   "codemirror_mode": {
    "name": "ipython",
    "version": 3
   },
   "file_extension": ".py",
   "mimetype": "text/x-python",
   "name": "python",
   "nbconvert_exporter": "python",
   "pygments_lexer": "ipython3",
   "version": "3.10.4"
  },
  "orig_nbformat": 4,
  "vscode": {
   "interpreter": {
    "hash": "1dd0381d1fc2fb15dda0c9601b2866ce5a466e54b3f253773e8ed097d13694fa"
   }
  }
 },
 "nbformat": 4,
 "nbformat_minor": 2
}
