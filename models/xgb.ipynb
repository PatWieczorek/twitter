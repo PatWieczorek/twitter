{
 "cells": [
  {
   "cell_type": "code",
   "execution_count": 57,
   "metadata": {},
   "outputs": [],
   "source": [
    "import xgboost as xgb\n",
    "import pandas as pd\n",
    "import numpy as np\n",
    "from sklearn.metrics import confusion_matrix\n",
    "from sklearn.model_selection import TimeSeriesSplit, RandomizedSearchCV\n",
    "from scipy.stats import uniform, randint\n",
    "from sklearn.utils.class_weight import compute_sample_weight\n",
    "import matplotlib.pyplot as plt\n",
    "from tools import create_x_y"
   ]
  },
  {
   "cell_type": "code",
   "execution_count": 36,
   "metadata": {},
   "outputs": [],
   "source": [
    "df = pd.read_csv('../datasets/relevant/amzn.csv')"
   ]
  },
  {
   "cell_type": "code",
   "execution_count": 42,
   "metadata": {},
   "outputs": [
    {
     "name": "stdout",
     "output_type": "stream",
     "text": [
      "['close', 'diffs', 'bin_2', 'bin_3', 'bin_5', 'low', 'vol', 'max_pos', 'std_neg', 'std_pos', 'mean_comp', 'mean_neg', 'mean_pos', 'median_comp', 'count']\n"
     ]
    }
   ],
   "source": [
    "VITAL_COLS = [\"date_\", \"ticker\"]#, \"bin_2\", \"bin_3\", \"bin_5\"]\n",
    "OTHER_COLS = [i for i in df.columns if i not in VITAL_COLS]\n",
    "print(OTHER_COLS)\n",
    "\n",
    "\n",
    "def encode_y(y):\n",
    "    if len(set(y)) == 2:\n",
    "        remap_dict = {-1: 0, 1: 1}\n",
    "    elif len(set(y)) == 3:\n",
    "        remap_dict = {-1: 0, 0: 1, 1: 2}\n",
    "    elif len(set(y)) == 5:\n",
    "        remap_dict = {-2: 0, -1: 1, 0: 2, 1: 3, 2: 4}\n",
    "    for i, val in enumerate(y):\n",
    "        y[i] = remap_dict[val]\n",
    "\n",
    "    return y\n",
    "\n",
    "def weight_data(x):\n",
    "    # least represented class is 1.0, others are percentage_least/percentage_other\n",
    "    percentages = {}\n",
    "    len_x = len(x)\n",
    "    for uniq_val in set(x):\n",
    "        percentages[uniq_val] = sum([1 for i in x if i==uniq_val])/len_x\n",
    "    least = min(percentages, key=percentages.get)\n",
    "    weights = {i:percentages[least]/percentages[i] for i in percentages}\n",
    "    return weights\n"
   ]
  },
  {
   "cell_type": "code",
   "execution_count": 65,
   "metadata": {},
   "outputs": [],
   "source": [
    "def measure_acc(x, y, binary=True):\n",
    "    mode = \"binary:logistic\"\n",
    "    if not binary:\n",
    "        mode = \"multi:softprob\"\n",
    "    clf = xgb.XGBClassifier(objective=mode, random_state=42)#, sample_weight=compute_sample_weight(weight_data(y), y))\n",
    "\n",
    "    params = {\n",
    "        \"colsample_bytree\": uniform(0.7, 0.3),\n",
    "        \"gamma\": uniform(0, 0.5),\n",
    "        \"learning_rate\": uniform(0.003, 0.3),  # default 0.1\n",
    "        \"max_depth\": randint(2, 6),  # default 3\n",
    "        \"n_estimators\": randint(100, 400),  # default 100\n",
    "        \"subsample\": uniform(0.6, 0.4), \n",
    "    }\n",
    "    time_split = TimeSeriesSplit(n_splits=5)\n",
    "    xgb_search = RandomizedSearchCV(\n",
    "        clf,\n",
    "        param_distributions=params,\n",
    "        random_state=42,\n",
    "        n_iter=20,\n",
    "        cv=time_split,\n",
    "        verbose=1,\n",
    "        n_jobs=4,\n",
    "    )\n",
    "    split = int(0.8 * len(x))\n",
    "    xgb_search.fit(x[:split], y[:split])\n",
    "    y_pred = xgb_search.predict(x[split:])\n",
    "    cm = confusion_matrix(y[split:], y_pred)\n",
    "    acc = sum(y_pred == y[split:]) / len(y_pred)\n",
    "\n",
    "    return cm, acc"
   ]
  },
  {
   "cell_type": "code",
   "execution_count": 59,
   "metadata": {},
   "outputs": [
    {
     "data": {
      "text/plain": [
       "array([1.       , 1.       , 0.9332134, ..., 0.9332134, 1.       ,\n",
       "       0.9332134])"
      ]
     },
     "execution_count": 59,
     "metadata": {},
     "output_type": "execute_result"
    }
   ],
   "source": [
    "x, y = create_x_y(df, x_cols=OTHER_COLS, y_col=\"bin_2\", lag=16)\n",
    "compute_sample_weight(weight_data(y), y)"
   ]
  },
  {
   "cell_type": "code",
   "execution_count": 122,
   "metadata": {},
   "outputs": [
    {
     "name": "stdout",
     "output_type": "stream",
     "text": [
      "Fitting 5 folds for each of 20 candidates, totalling 100 fits\n"
     ]
    }
   ],
   "source": [
    "# cm = {}\n",
    "# acc = {}\n",
    "# for lag in [3, 6, 10, 16]:\n",
    "#     x, y = create_x_y(df, x_cols=OTHER_COLS, y_col=\"bin_3\", lag=lag)\n",
    "#     y = encode_y(y)\n",
    "#     cm[lag], acc[lag] = measure_acc(x, y, binary=False)"
   ]
  },
  {
   "cell_type": "code",
   "execution_count": 11,
   "metadata": {},
   "outputs": [
    {
     "name": "stdout",
     "output_type": "stream",
     "text": [
      "0.5436046511627907\n"
     ]
    }
   ],
   "source": [
    "\n",
    "split = int(0.8 * len(x))\n",
    "zeroes = pd.Series([0 for _ in range(len(y[split:]))])\n",
    "acc = sum(zeroes == y[split:]) / len(y[split:])\n",
    "print(acc)"
   ]
  },
  {
   "cell_type": "code",
   "execution_count": 68,
   "metadata": {},
   "outputs": [
    {
     "name": "stdout",
     "output_type": "stream",
     "text": [
      "Fitting 5 folds for each of 20 candidates, totalling 100 fits\n"
     ]
    }
   ],
   "source": [
    "x, y = create_x_y(df, x_cols=OTHER_COLS, y_col=\"bin_3\", lag=16)\n",
    "y = encode_y(y)\n",
    "cm16, acc16 = measure_acc(x, y, binary=False)"
   ]
  },
  {
   "cell_type": "code",
   "execution_count": null,
   "metadata": {},
   "outputs": [],
   "source": [
    "acc16"
   ]
  },
  {
   "cell_type": "code",
   "execution_count": 67,
   "metadata": {},
   "outputs": [
    {
     "data": {
      "text/plain": [
       "0.5622093023255814"
      ]
     },
     "execution_count": 67,
     "metadata": {},
     "output_type": "execute_result"
    }
   ],
   "source": [
    "acc16"
   ]
  },
  {
   "cell_type": "code",
   "execution_count": 51,
   "metadata": {},
   "outputs": [
    {
     "data": {
      "text/plain": [
       "array([[270, 549],\n",
       "       [207, 694]], dtype=int64)"
      ]
     },
     "execution_count": 51,
     "metadata": {},
     "output_type": "execute_result"
    }
   ],
   "source": [
    "cm16"
   ]
  }
 ],
 "metadata": {
  "kernelspec": {
   "display_name": "Python 3.10.4 64-bit",
   "language": "python",
   "name": "python3"
  },
  "language_info": {
   "codemirror_mode": {
    "name": "ipython",
    "version": 3
   },
   "file_extension": ".py",
   "mimetype": "text/x-python",
   "name": "python",
   "nbconvert_exporter": "python",
   "pygments_lexer": "ipython3",
   "version": "3.10.4"
  },
  "orig_nbformat": 4,
  "vscode": {
   "interpreter": {
    "hash": "1dd0381d1fc2fb15dda0c9601b2866ce5a466e54b3f253773e8ed097d13694fa"
   }
  }
 },
 "nbformat": 4,
 "nbformat_minor": 2
}
