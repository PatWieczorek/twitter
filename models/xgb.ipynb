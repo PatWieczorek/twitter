{
 "cells": [
  {
   "cell_type": "code",
   "execution_count": 30,
   "metadata": {},
   "outputs": [],
   "source": [
    "import xgboost as xgb\n",
    "import pandas as pd\n",
    "import numpy as np\n",
    "from sklearn.metrics import confusion_matrix, f1_score, accuracy_score\n",
    "from sklearn.model_selection import TimeSeriesSplit, RandomizedSearchCV\n",
    "from scipy.stats import uniform, randint\n",
    "from sklearn.utils.class_weight import compute_sample_weight\n",
    "import matplotlib.pyplot as plt\n",
    "\n",
    "from tools import create_x_y"
   ]
  },
  {
   "cell_type": "code",
   "execution_count": 19,
   "metadata": {},
   "outputs": [],
   "source": [
    "def encode_y(y):\n",
    "    if len(set(y)) == 2:\n",
    "        remap_dict = {-1: 0, 1: 1}\n",
    "    elif len(set(y)) == 3:\n",
    "        remap_dict = {-1: 0, 0: 1, 1: 2}\n",
    "    elif len(set(y)) == 5:\n",
    "        remap_dict = {-2: 0, -1: 1, 0: 2, 1: 3, 2: 4}\n",
    "    for i, val in enumerate(y):\n",
    "        y[i] = remap_dict[val]\n",
    "\n",
    "    return y\n",
    "\n",
    "\n",
    "def weight_data(x):\n",
    "    # least represented class is 1.0, others are percentage_least/percentage_other\n",
    "    percentages = {}\n",
    "    len_x = len(x)\n",
    "    for uniq_val in set(x):\n",
    "        percentages[uniq_val] = sum([1 for i in x if i == uniq_val]) / len_x\n",
    "    least = min(percentages, key=percentages.get)\n",
    "    weights = {i: percentages[least] / percentages[i] for i in percentages}\n",
    "    return weights\n",
    "\n",
    "\n",
    "# match feature importances from vector with multiple lagged vals of each column\n",
    "def importances_from_lag(x, col_names):\n",
    "    lag = int(len(x) / len(col_names))\n",
    "    len_col = len(col_names)\n",
    "    imp = {\n",
    "        col_names[i]: sum(x[i * lag : (i + 1) * lag]) / lag\n",
    "        for i in range(len_col)\n",
    "    }\n",
    "\n",
    "    return imp\n",
    "\n",
    "def save_importances_plot(fi, name, title, cols):\n",
    "    import seaborn as sns\n",
    "    importances = importances_from_lag(fi, cols) \n",
    "    x_axis = list(importances.keys())\n",
    "    y_axis = [float(i) for i in importances.values()]\n",
    "    figure = plt.gcf()\n",
    "    figure.set_size_inches(9, 6)\n",
    "    sns.barplot(y=x_axis, x=y_axis).set_title(title)\n",
    "    \n",
    "    plt.savefig(f'../plots/{name}.pdf')"
   ]
  },
  {
   "cell_type": "code",
   "execution_count": 33,
   "metadata": {},
   "outputs": [],
   "source": [
    "def measure(x, y, binary=True):\n",
    "    mode = \"binary:logistic\"\n",
    "    if not binary:\n",
    "        mode = \"multi:softprob\"\n",
    "    clf = xgb.XGBClassifier(objective=mode, random_state=42)#, sample_weight=compute_sample_weight(weight_data(y), y))\n",
    "\n",
    "    params = {\n",
    "        \"colsample_bytree\": uniform(0.7, 0.3),\n",
    "        \"gamma\": uniform(0, 0.5),\n",
    "        \"learning_rate\": uniform(0.003, 0.3),  # default 0.1\n",
    "        \"max_depth\": randint(2, 6),  # default 3\n",
    "        \"n_estimators\": randint(100, 400),  # default 100\n",
    "        \"subsample\": uniform(0.6, 0.4), \n",
    "    }\n",
    "    time_split = TimeSeriesSplit(n_splits=5)\n",
    "    xgb_search = RandomizedSearchCV(\n",
    "        clf,\n",
    "        param_distributions=params,\n",
    "        random_state=42,\n",
    "        n_iter=20,\n",
    "        cv=time_split,\n",
    "        verbose=1,\n",
    "        n_jobs=4,\n",
    "    )\n",
    "    split = int(0.8 * len(x))\n",
    "    xgb_search.fit(x[:split], y[:split])\n",
    "    y_pred = xgb_search.predict(x[split:])\n",
    "    #cm = confusion_matrix(y[split:], y_pred)\n",
    "    acc = accuracy_score(y[split:], y_pred)\n",
    "    f1 = f1_score(y[split:], y_pred, average=\"weighted\")\n",
    "\n",
    "    fi = xgb_search.best_estimator_.feature_importances_\n",
    "\n",
    "    return acc, f1, fi"
   ]
  },
  {
   "cell_type": "code",
   "execution_count": 34,
   "metadata": {},
   "outputs": [
    {
     "name": "stdout",
     "output_type": "stream",
     "text": [
      "['open', 'high', 'low', 'close', 'vol', 'max_comp', 'max_neg', 'max_neu', 'max_pos', 'min_comp', 'min_neg', 'min_neu', 'min_pos', 'std_comp', 'std_neg', 'std_neu', 'std_pos', 'mean_comp', 'mean_neg', 'mean_neu', 'mean_pos', 'median_comp', 'median_neg', 'median_neu', 'median_pos', 'count', 'bin_3']\n",
      "[[27.3725, 27.0725, 27.1925, 27.4275, 27.1975, 27.3975, 26.8375, 26.9625, 27.18875, 27.07125, 27.194025, 27.33875, 12628997.0, 6291776.0, 5049924.0, 0.8519, 0.8217, 0.9041, 0.355, 0.343, 0.462, 1.0, 1.0, 1.0, 0.483, 0.423, 0.465, -0.5849, -0.9032, -0.7804, 0.0, 0.0, 0.0, 0.517, 0.577, 0.535, 0.0, 0.0, 0.0, 0.3009150163457687, 0.411012664252287, 0.397301212831835, 0.0668042908777427, 0.1247650446789004, 0.0910577752384306, 0.1361051640980789, 0.1386813576654133, 0.1367345245213455, 0.1254507414533175, 0.1025010818742119, 0.1299378795772026, 0.116525352112676, -0.0975063829787234, 0.1703294117647058, 0.0257605633802816, 0.0933404255319149, 0.0406274509803921, 0.892887323943662, 0.8582127659574468, 0.8345686274509805, 0.0813521126760563, 0.0484680851063829, 0.1247843137254901, 0.0, 0.0, 0.0772, 0.0, 0.0, 0.0, 1.0, 0.877, 0.828, 0.0, 0.0, 0.097, 71.0, 47.0, 51.0, -1, 1, 1], [27.0725, 27.1925, 27.33875, 27.1975, 27.3975, 27.3675, 26.9625, 27.18875, 27.1875, 27.194025, 27.33875, 27.2475, 6291776.0, 5049924.0, 3663606.0, 0.8217, 0.9041, 0.8885, 0.343, 0.462, 0.326, 1.0, 1.0, 1.0, 0.423, 0.465, 0.494, -0.9032, -0.7804, -0.7566, 0.0, 0.0, 0.0, 0.577, 0.535, 0.476, 0.0, 0.0, 0.0, 0.411012664252287, 0.397301212831835, 0.2851042716116826, 0.1247650446789004, 0.0910577752384306, 0.0692100134728514, 0.1386813576654133, 0.1367345245213455, 0.1329996088900726, 0.1025010818742119, 0.1299378795772026, 0.1152197922507925, -0.0975063829787234, 0.1703294117647058, 0.1159131578947368, 0.0933404255319149, 0.0406274509803921, 0.0319736842105263, 0.8582127659574468, 0.8345686274509805, 0.8882236842105262, 0.0484680851063829, 0.1247843137254901, 0.0798026315789473, 0.0, 0.0772, 0.0, 0.0, 0.0, 0.0, 0.877, 0.828, 0.94, 0.0, 0.097, 0.0, 47.0, 51.0, 76.0, 1, 1, -1], [27.1925, 27.33875, 27.24875, 27.3975, 27.3675, 27.345, 27.18875, 27.1875, 27.225, 27.33875, 27.2475, 27.27, 5049924.0, 3663606.0, 3071880.0, 0.9041, 0.8885, 0.6588, 0.462, 0.326, 0.326, 1.0, 1.0, 1.0, 0.465, 0.494, 0.333, -0.7804, -0.7566, -0.6597, 0.0, 0.0, 0.0, 0.535, 0.476, 0.667, 0.0, 0.0, 0.0, 0.397301212831835, 0.2851042716116826, 0.3613205205342478, 0.0910577752384306, 0.0692100134728514, 0.0850658062787243, 0.1367345245213455, 0.1329996088900726, 0.1174954403141826, 0.1299378795772026, 0.1152197922507925, 0.1105383016380849, 0.1703294117647058, 0.1159131578947368, 0.0753451612903225, 0.0406274509803921, 0.0319736842105263, 0.0414838709677419, 0.8345686274509805, 0.8882236842105262, 0.8843870967741936, 0.1247843137254901, 0.0798026315789473, 0.0741290322580645, 0.0772, 0.0, 0.0, 0.0, 0.0, 0.0, 0.828, 0.94, 0.878, 0.097, 0.0, 0.0, 51.0, 76.0, 31.0, 1, -1, 0]] [0, 1, 1]\n",
      "{'aapl': {}} {'aapl': {}} {}\n",
      "Fitting 5 folds for each of 20 candidates, totalling 100 fits\n"
     ]
    },
    {
     "ename": "TypeError",
     "evalue": "save_importances_plot() missing 1 required positional argument: 'cols'",
     "output_type": "error",
     "traceback": [
      "\u001b[1;31m---------------------------------------------------------------------------\u001b[0m",
      "\u001b[1;31mTypeError\u001b[0m                                 Traceback (most recent call last)",
      "\u001b[1;32mc:\\Users\\Patryk\\Desktop\\masters\\twitter\\models\\xgb.ipynb Cell 4\u001b[0m in \u001b[0;36m<cell line: 11>\u001b[1;34m()\u001b[0m\n\u001b[0;32m     <a href='vscode-notebook-cell:/c%3A/Users/Patryk/Desktop/masters/twitter/models/xgb.ipynb#ch0000003?line=23'>24</a>\u001b[0m \u001b[39mprint\u001b[39m(acc, f1_metric, fi)\n\u001b[0;32m     <a href='vscode-notebook-cell:/c%3A/Users/Patryk/Desktop/masters/twitter/models/xgb.ipynb#ch0000003?line=24'>25</a>\u001b[0m acc[company][lag], f1_metric[company][lag], fi[lag] \u001b[39m=\u001b[39m measure(\n\u001b[0;32m     <a href='vscode-notebook-cell:/c%3A/Users/Patryk/Desktop/masters/twitter/models/xgb.ipynb#ch0000003?line=25'>26</a>\u001b[0m     x, y, binary\u001b[39m=\u001b[39m\u001b[39mFalse\u001b[39;00m\n\u001b[0;32m     <a href='vscode-notebook-cell:/c%3A/Users/Patryk/Desktop/masters/twitter/models/xgb.ipynb#ch0000003?line=26'>27</a>\u001b[0m )\n\u001b[1;32m---> <a href='vscode-notebook-cell:/c%3A/Users/Patryk/Desktop/masters/twitter/models/xgb.ipynb#ch0000003?line=28'>29</a>\u001b[0m save_importances_plot(\n\u001b[0;32m     <a href='vscode-notebook-cell:/c%3A/Users/Patryk/Desktop/masters/twitter/models/xgb.ipynb#ch0000003?line=29'>30</a>\u001b[0m     fi[lag], \u001b[39mf\u001b[39;49m\u001b[39m\"\u001b[39;49m\u001b[39mxgb_\u001b[39;49m\u001b[39m{\u001b[39;49;00mcompany\u001b[39m}\u001b[39;49;00m\u001b[39m_imp_\u001b[39;49m\u001b[39m{\u001b[39;49;00mlag\u001b[39m}\u001b[39;49;00m\u001b[39m\"\u001b[39;49m, \u001b[39mf\u001b[39;49m\u001b[39m\"\u001b[39;49m\u001b[39m{\u001b[39;49;00mfull_names[company]\u001b[39m}\u001b[39;49;00m\u001b[39m lag = \u001b[39;49m\u001b[39m{\u001b[39;49;00mlag\u001b[39m}\u001b[39;49;00m\u001b[39m\"\u001b[39;49m\n\u001b[0;32m     <a href='vscode-notebook-cell:/c%3A/Users/Patryk/Desktop/masters/twitter/models/xgb.ipynb#ch0000003?line=30'>31</a>\u001b[0m )\n",
      "\u001b[1;31mTypeError\u001b[0m: save_importances_plot() missing 1 required positional argument: 'cols'"
     ]
    }
   ],
   "source": [
    "full_names = {\n",
    "    \"aapl\": \"Apple\",\n",
    "    \"msft\": \"Microsoft\",\n",
    "    \"tsla\": \"Tesla\",\n",
    "    \"goog\": \"Google (GOOG)\",\n",
    "    \"googl\": \"Google (GOOGL)\",\n",
    "}\n",
    "acc = {}\n",
    "cm = {}\n",
    "f1_metric = {}\n",
    "for company in full_names.keys():\n",
    "    df = pd.read_csv(f\"../datasets/binned/{company}_binned.csv\")\n",
    "    VITAL_COLS = [\"date_\", \"ticker\", \"bin_2\", \"diffs\", \"bin_5\"]\n",
    "    OTHER_COLS = [i for i in df.columns if i not in VITAL_COLS]\n",
    "    print(OTHER_COLS)\n",
    "    acc[company] = {}\n",
    "    f1_metric[company] = {}\n",
    "    fi = {}\n",
    "\n",
    "    for lag in [3, 6, 10, 16]:\n",
    "        x, y = create_x_y(df, x_cols=OTHER_COLS, y_col=\"bin_3\", lag=lag)\n",
    "        y = encode_y(y)\n",
    "        print(x[:3], y[:3])\n",
    "        print(acc, f1_metric, fi)\n",
    "        acc[company][lag], f1_metric[company][lag], fi[lag] = measure(\n",
    "            x, y, binary=False\n",
    "        )\n",
    "\n",
    "        save_importances_plot(\n",
    "            fi[lag],\n",
    "            f\"xgb_{company}_imp_{lag}\",\n",
    "            f\"{full_names[company]} lag = {lag}\",\n",
    "            OTHER_COLS,\n",
    "        )\n"
   ]
  },
  {
   "cell_type": "code",
   "execution_count": 11,
   "metadata": {},
   "outputs": [
    {
     "name": "stdout",
     "output_type": "stream",
     "text": [
      "['open', 'high', 'low', 'close', 'vol', 'max_comp', 'max_neg', 'max_neu', 'max_pos', 'min_comp', 'min_neg', 'min_neu', 'min_pos', 'std_comp', 'std_neg', 'std_neu', 'std_pos', 'mean_comp', 'mean_neg', 'mean_neu', 'mean_pos', 'median_comp', 'median_neg', 'median_neu', 'median_pos', 'count', 'bin_3']\n",
      "Fitting 5 folds for each of 20 candidates, totalling 100 fits\n"
     ]
    }
   ],
   "source": [
    "company = \"amzn\"\n",
    "lag = 10\n",
    "\n",
    "df = pd.read_csv(f\"../datasets/binned/{company}_binned.csv\")\n",
    "VITAL_COLS = [\"date_\", \"ticker\", \"bin_2\", \"diffs\", \"bin_5\"]\n",
    "OTHER_COLS = [i for i in df.columns if i not in VITAL_COLS]\n",
    "print(OTHER_COLS)\n",
    "cm = {}\n",
    "acc = {}\n",
    "fi = {}\n",
    "x, y = create_x_y(df, x_cols=OTHER_COLS, y_col=\"bin_3\", lag=lag)\n",
    "y = encode_y(y)\n",
    "cm, acc, f1, fi = measure(x, y, binary=False)"
   ]
  },
  {
   "cell_type": "code",
   "execution_count": 13,
   "metadata": {},
   "outputs": [
    {
     "data": {
      "text/plain": [
       "(0.48838184076802826, 0.5630447414294015)"
      ]
     },
     "execution_count": 13,
     "metadata": {},
     "output_type": "execute_result"
    }
   ],
   "source": [
    "f1, acc"
   ]
  }
 ],
 "metadata": {
  "kernelspec": {
   "display_name": "Python 3.10.4 64-bit",
   "language": "python",
   "name": "python3"
  },
  "language_info": {
   "codemirror_mode": {
    "name": "ipython",
    "version": 3
   },
   "file_extension": ".py",
   "mimetype": "text/x-python",
   "name": "python",
   "nbconvert_exporter": "python",
   "pygments_lexer": "ipython3",
   "version": "3.10.4"
  },
  "orig_nbformat": 4,
  "vscode": {
   "interpreter": {
    "hash": "1dd0381d1fc2fb15dda0c9601b2866ce5a466e54b3f253773e8ed097d13694fa"
   }
  }
 },
 "nbformat": 4,
 "nbformat_minor": 2
}
