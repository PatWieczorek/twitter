{
 "cells": [
  {
   "cell_type": "code",
   "execution_count": null,
   "metadata": {},
   "outputs": [],
   "source": [
    "from sklearn.preprocessing import StandardScaler, MinMaxScaler\n",
    "from sklearn.model_selection import TimeSeriesSplit, cross_val_score\n",
    "from sklearn.metrics import mean_absolute_percentage_error\n",
    "from sklearn.pipeline import make_pipeline"
   ]
  },
  {
   "cell_type": "code",
   "execution_count": 1,
   "metadata": {},
   "outputs": [],
   "source": [
    "def create_and_predict(x, y, model=None, params=None):\n",
    "    if model:\n",
    "        print('No model')\n",
    "        return 0\n",
    "    if params == None:\n",
    "        print('No params')\n",
    "        return 0\n",
    "    tscv = TimeSeriesSplit(n_splits=6)\n",
    "    regr = make_pipeline(StandardScaler(), model(params))\n",
    "    vals = cross_val_score(regr, x, y, scoring='neg_mean_absolute_percentage_error', cv=tscv)\n",
    "    return sum(vals)/len(vals) * -1"
   ]
  }
 ],
 "metadata": {
  "kernelspec": {
   "display_name": "Python 3.10.4 64-bit",
   "language": "python",
   "name": "python3"
  },
  "language_info": {
   "codemirror_mode": {
    "name": "ipython",
    "version": 3
   },
   "file_extension": ".py",
   "mimetype": "text/x-python",
   "name": "python",
   "nbconvert_exporter": "python",
   "pygments_lexer": "ipython3",
   "version": "3.10.4"
  },
  "orig_nbformat": 4,
  "vscode": {
   "interpreter": {
    "hash": "1dd0381d1fc2fb15dda0c9601b2866ce5a466e54b3f253773e8ed097d13694fa"
   }
  }
 },
 "nbformat": 4,
 "nbformat_minor": 2
}
