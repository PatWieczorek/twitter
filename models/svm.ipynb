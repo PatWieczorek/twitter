{
 "cells": [
  {
   "cell_type": "markdown",
   "metadata": {},
   "source": [
    "## SVM"
   ]
  },
  {
   "cell_type": "markdown",
   "metadata": {},
   "source": [
    "### For all companies measure NMAPE for different lags using different columns"
   ]
  },
  {
   "cell_type": "code",
   "execution_count": 56,
   "metadata": {},
   "outputs": [],
   "source": [
    "import pandas as pd\n",
    "from sklearn.svm import SVC\n",
    "from sklearn.preprocessing import StandardScaler, MinMaxScaler\n",
    "from sklearn.model_selection import TimeSeriesSplit, cross_val_score, cross_validate, GridSearchCV\n",
    "from sklearn.pipeline import make_pipeline\n",
    "from sklearn.metrics import confusion_matrix, ConfusionMatrixDisplay\n",
    "import matplotlib.pyplot as plt\n",
    "from tools import create_vectors, create_x_y"
   ]
  },
  {
   "cell_type": "code",
   "execution_count": 19,
   "metadata": {},
   "outputs": [],
   "source": [
    "VITAL_COLS = [\"date_\", \"ticker\", \"close\", \"diffs\", \"bin_2\", \"bin_3\", \"bin_5\"]\n",
    "LAGS = [3, 6, 8, 10, 16]\n",
    "COMPANIES = [\"amzn\", \"aapl\", \"tsla\", \"msft\", \"goog\", \"googl\"]"
   ]
  },
  {
   "cell_type": "code",
   "execution_count": 76,
   "metadata": {},
   "outputs": [],
   "source": [
    "def create_and_predict(x, y):\n",
    "    tscv = TimeSeriesSplit(n_splits=4)\n",
    "    cls = make_pipeline(MinMaxScaler(), SVC(C=1.0, kernel=\"linear\", cache_size=1000))\n",
    "    vals = cross_val_score(cls, x, y, scoring=\"accuracy\", cv=tscv)\n",
    "    return round(sum(vals) / len(vals), 4)\n",
    "\n",
    "\n",
    "def measure(df, bin, lags):\n",
    "    main_col = f\"bin_{bin}\"\n",
    "    cols = [i for i in df.columns if i not in VITAL_COLS]\n",
    "    results = {}\n",
    "\n",
    "    for lag in lags:\n",
    "        i = 0\n",
    "        results[lag] = {}\n",
    "        results[lag][\"baseline\"] = create_and_predict(\n",
    "            *create_vectors(df, main_col=main_col, lag=lag + 1)\n",
    "        )\n",
    "        for col in cols:\n",
    "            print(f\"Lag {lag}: {i}/{len(cols)}\")\n",
    "            accuracy = create_and_predict(\n",
    "                *create_vectors(df, main_col=main_col, cols=[col], lag=lag + 1)\n",
    "            )\n",
    "            results[lag][col] = (\n",
    "                accuracy,\n",
    "                \"+\" if accuracy > results[lag][\"baseline\"] else \"-\",\n",
    "            )\n",
    "            i += 1\n",
    "    return results\n",
    "\n",
    "\n",
    "def print_results(results):\n",
    "    for i in results:\n",
    "        print(i, results[i])\n",
    "\n",
    "\n",
    "def find_best_hyper(df):\n",
    "    cls = make_pipeline(MinMaxScaler(), SVC(cache_size=2000))\n",
    "    params = {\n",
    "        \"svc__C\": [0.1, 1, 10, 100, 1000],\n",
    "        \"svc__gamma\": [1, 0.1, 0.01, 0.001, 0.0001],\n",
    "        \"svc__kernel\": [\"linear\", \"rbf\"],\n",
    "    }\n",
    "    x, y = create_x_y(df, x_cols=[\"diffs\"], y_col=\"bin_3\")\n",
    "\n",
    "    grid = GridSearchCV(\n",
    "        cls,\n",
    "        param_grid=params,\n",
    "        n_jobs=-1,\n",
    "        cv=TimeSeriesSplit(n_splits=5),\n",
    "    )\n",
    "    grid.fit(x, y)\n",
    "\n",
    "    return grid\n",
    "\n",
    "\n",
    "def measure_conf_matrix(x, y):\n",
    "    split = len(x) // 5\n",
    "    cls = make_pipeline(MinMaxScaler(), SVC(C=1000, kernel=\"rbf\", gamma=1, cache_size=1000))\n",
    "    cls.fit(x[:-split], y[:-split])\n",
    "    y_pred = cls.predict(x[-split:])\n",
    "    print(pd.Series(y_pred).value_counts())\n",
    "\n",
    "    return confusion_matrix(y[-split:], y_pred)"
   ]
  },
  {
   "cell_type": "code",
   "execution_count": 65,
   "metadata": {},
   "outputs": [],
   "source": [
    "df = pd.read_csv(\"../datasets/relevant/amzn.csv\", parse_dates=[\"date_\"])"
   ]
  },
  {
   "cell_type": "code",
   "execution_count": 67,
   "metadata": {},
   "outputs": [],
   "source": [
    "grid = find_best_hyper(df)"
   ]
  },
  {
   "cell_type": "code",
   "execution_count": 74,
   "metadata": {},
   "outputs": [
    {
     "data": {
      "text/plain": [
       "{'svc__C': 1000, 'svc__gamma': 1, 'svc__kernel': 'rbf'}"
      ]
     },
     "execution_count": 74,
     "metadata": {},
     "output_type": "execute_result"
    }
   ],
   "source": [
    "grid.best_params_"
   ]
  },
  {
   "cell_type": "code",
   "execution_count": 77,
   "metadata": {},
   "outputs": [
    {
     "name": "stdout",
     "output_type": "stream",
     "text": [
      " 0    1710\n",
      " 1       7\n",
      "-1       4\n",
      "dtype: int64\n"
     ]
    },
    {
     "data": {
      "image/png": "[encoded data removed]",
      "text/plain": [
       "<Figure size 432x288 with 2 Axes>"
      ]
     },
     "metadata": {
      "needs_background": "light"
     },
     "output_type": "display_data"
    }
   ],
   "source": [
    "col = \"bin_3\"\n",
    "cm = measure_conf_matrix(*create_x_y(df, x_cols=['diffs'], y_col=col))\n",
    "disp = ConfusionMatrixDisplay(confusion_matrix=cm, display_labels=sorted(df[col].unique()))\n",
    "disp.plot()\n",
    "\n",
    "plt.show()"
   ]
  },
  {
   "cell_type": "code",
   "execution_count": 49,
   "metadata": {},
   "outputs": [
    {
     "name": "stdout",
     "output_type": "stream",
     "text": [
      "[-1.454452666496553, 0.2556965302952019, -0.4358353510896084, -0.0162127107652287, -0.1070212420950289]\n",
      "[0.2556965302952019, -0.4358353510896084, -0.0162127107652287, -0.1070212420950289, 0.1623271216154798]\n",
      "[-0.4358353510896084, -0.0162127107652287, -0.1070212420950289, 0.1623271216154798, -1.520160767535328]\n",
      "[-0.0162127107652287, -0.1070212420950289, 0.1623271216154798, -1.520160767535328, -0.177730967975509]\n",
      "[0, -1, 0]\n"
     ]
    }
   ],
   "source": [
    "x, y = create_x_y(df, x_cols=['diffs'], y_col='bin_3')\n",
    "\n",
    "print(*x[:4], sep='\\n')\n",
    "print(y[:3])"
   ]
  },
  {
   "cell_type": "code",
   "execution_count": 53,
   "metadata": {},
   "outputs": [
    {
     "data": {
      "text/plain": [
       "0   -1.454453\n",
       "1    0.255697\n",
       "2   -0.435835\n",
       "3   -0.016213\n",
       "4   -0.107021\n",
       "5    0.162327\n",
       "6   -1.520161\n",
       "7   -0.177731\n",
       "8   -0.075835\n",
       "9   -0.478453\n",
       "Name: diffs, dtype: float64"
      ]
     },
     "execution_count": 53,
     "metadata": {},
     "output_type": "execute_result"
    }
   ],
   "source": [
    "df['diffs'].head(10)"
   ]
  },
  {
   "cell_type": "code",
   "execution_count": 131,
   "metadata": {},
   "outputs": [
    {
     "data": {
      "image/png": "[encoded data removed]",
      "text/plain": [
       "<Figure size 432x288 with 1 Axes>"
      ]
     },
     "metadata": {
      "needs_background": "light"
     },
     "output_type": "display_data"
    }
   ],
   "source": [
    "from matplotlib import pyplot as plt\n",
    "\n",
    "plt.hist(df[\"count\"], bins=[i for i in range(0, 200, 5)])\n",
    "plt.show()"
   ]
  },
  {
   "cell_type": "code",
   "execution_count": 112,
   "metadata": {},
   "outputs": [
    {
     "name": "stdout",
     "output_type": "stream",
     "text": [
      "Lag 3: 0/10\n",
      "Lag 3: 1/10\n",
      "Lag 3: 2/10\n",
      "Lag 3: 3/10\n",
      "Lag 3: 4/10\n",
      "Lag 3: 5/10\n",
      "Lag 3: 6/10\n",
      "Lag 3: 7/10\n",
      "Lag 3: 8/10\n",
      "Lag 3: 9/10\n",
      "Lag 16: 0/10\n",
      "Lag 16: 1/10\n",
      "Lag 16: 2/10\n",
      "Lag 16: 3/10\n",
      "Lag 16: 4/10\n",
      "Lag 16: 5/10\n",
      "Lag 16: 6/10\n",
      "Lag 16: 7/10\n",
      "Lag 16: 8/10\n",
      "Lag 16: 9/10\n",
      "3 {'baseline': 0.5119, 'low': (0.5119, '-'), 'vol': (0.5119, '-'), 'max_pos': (0.5087, '-'), 'std_neg': (0.5119, '-'), 'std_pos': (0.5128, '+'), 'mean_comp': (0.525, '+'), 'mean_neg': (0.5392, '+'), 'mean_pos': (0.5173, '+'), 'median_comp': (0.5115, '-'), 'count': (0.5122, '+')}\n",
      "16 {'baseline': 0.5105, 'low': (0.5068, '-'), 'vol': (0.5109, '+'), 'max_pos': (0.5122, '+'), 'std_neg': (0.5128, '+'), 'std_pos': (0.5108, '+'), 'mean_comp': (0.5236, '+'), 'mean_neg': (0.5278, '+'), 'mean_pos': (0.5189, '+'), 'median_comp': (0.5028, '-'), 'count': (0.5121, '+')}\n"
     ]
    }
   ],
   "source": [
    "res = measure(df, 2, [3, 16])\n",
    "print_results(res)"
   ]
  },
  {
   "cell_type": "code",
   "execution_count": 118,
   "metadata": {},
   "outputs": [],
   "source": [
    "results = {}\n",
    "for company in COMPANIES:\n",
    "    df = pd.read_csv(f\"../datasets/relevant/{company}.csv\", parse_dates=[\"date_\"])\n",
    "    results[company] = {}\n",
    "    results[company][2] = create_and_predict(*create_vectors(df, main_col=\"bin_2\"))\n",
    "    results[company][3] = create_and_predict(*create_vectors(df, main_col=\"bin_3\"))\n",
    "    results[company][5] = create_and_predict(*create_vectors(df, main_col=\"bin_5\"))"
   ]
  },
  {
   "cell_type": "code",
   "execution_count": 33,
   "metadata": {},
   "outputs": [
    {
     "data": {
      "text/plain": [
       "([[15.448, 15.4875, 15.419999999999998, 15.4175, 15.401],\n",
       "  [15.4875, 15.419999999999998, 15.4175, 15.401, 15.425999999999998],\n",
       "  [15.419999999999998, 15.4175, 15.401, 15.425999999999998, 15.1915]],\n",
       " [1, -1, -1])"
      ]
     },
     "execution_count": 33,
     "metadata": {},
     "output_type": "execute_result"
    }
   ],
   "source": [
    "x, y = create_x_y(df, x_cols=['close'], y_col='bin_2')\n",
    "x[:3], y[:3]"
   ]
  }
 ],
 "metadata": {
  "kernelspec": {
   "display_name": "Python 3.10.4 64-bit",
   "language": "python",
   "name": "python3"
  },
  "language_info": {
   "codemirror_mode": {
    "name": "ipython",
    "version": 3
   },
   "file_extension": ".py",
   "mimetype": "text/x-python",
   "name": "python",
   "nbconvert_exporter": "python",
   "pygments_lexer": "ipython3",
   "version": "3.10.0"
  },
  "orig_nbformat": 4,
  "vscode": {
   "interpreter": {
    "hash": "1dd0381d1fc2fb15dda0c9601b2866ce5a466e54b3f253773e8ed097d13694fa"
   }
  }
 },
 "nbformat": 4,
 "nbformat_minor": 2
}
