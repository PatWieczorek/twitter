{
 "cells": [
  {
   "cell_type": "markdown",
   "metadata": {},
   "source": [
    "##### SVM"
   ]
  },
  {
   "cell_type": "code",
   "execution_count": 30,
   "metadata": {},
   "outputs": [],
   "source": [
    "import pandas as pd\n",
    "from sklearn.svm import SVC\n",
    "from sklearn.preprocessing import StandardScaler\n",
    "from sklearn.model_selection import TimeSeriesSplit, GridSearchCV, cross_val_score\n",
    "from sklearn.pipeline import make_pipeline\n",
    "from tools import create_vectors"
   ]
  },
  {
   "cell_type": "code",
   "execution_count": 2,
   "metadata": {},
   "outputs": [],
   "source": [
    "df = pd.read_csv('../datasets/binned/amzn_binned.csv', parse_dates=['date_'])"
   ]
  },
  {
   "cell_type": "code",
   "execution_count": 31,
   "metadata": {},
   "outputs": [],
   "source": [
    "# def create_and_predict(x, y):\n",
    "#     parameters = {'svc__kernel':('linear', 'rbf'), 'svc__C':[1, 10]}\n",
    "\n",
    "#     tscv = TimeSeriesSplit(n_splits=4)\n",
    "#     svm_pipeline = make_pipeline(StandardScaler(), SVC())\n",
    "#     clf = GridSearchCV(svm_pipeline, parameters, scoring='neg_mean_absolute_percentage_error', cv=tscv)\n",
    "#     clf.fit(x, y)\n",
    "\n",
    "#     return {'best_estimator': clf.best_estimator_, 'best_params': clf.best_params_, 'best_score': clf.best_score_}\n",
    "\n",
    "\n",
    "def create_and_predict(x, y):\n",
    "    tscv = TimeSeriesSplit(n_splits=4)\n",
    "    regr = make_pipeline(StandardScaler(), SVC(C=1.0, kernel='linear', cache_size=1000))\n",
    "    vals = cross_val_score(regr, x, y, scoring='neg_mean_absolute_percentage_error', cv=tscv)\n",
    "    return sum(vals)/len(vals) #* -1"
   ]
  },
  {
   "cell_type": "code",
   "execution_count": 32,
   "metadata": {},
   "outputs": [],
   "source": [
    "results = {}\n",
    "results[2] = create_and_predict(*create_vectors(df, main_col='bin_2'))\n",
    "#results[3] = create_and_predict(*create_vectors(df, main_col='bin_3'))\n",
    "#results[5] = create_and_predict(*create_vectors(df, main_col='bin_5'))"
   ]
  },
  {
   "cell_type": "code",
   "execution_count": 33,
   "metadata": {},
   "outputs": [
    {
     "data": {
      "text/plain": [
       "-0.9761766414875073"
      ]
     },
     "execution_count": 33,
     "metadata": {},
     "output_type": "execute_result"
    }
   ],
   "source": [
    "results[2]"
   ]
  },
  {
   "cell_type": "code",
   "execution_count": 8,
   "metadata": {},
   "outputs": [
    {
     "data": {
      "text/plain": [
       "{'best_estimator': Pipeline(steps=[('standardscaler', StandardScaler()),\n",
       "                 ('svc', SVC(C=1, kernel='linear'))]),\n",
       " 'best_params': {'svc__C': 1, 'svc__kernel': 'linear'},\n",
       " 'best_score': -0.47070789259560614}"
      ]
     },
     "execution_count": 8,
     "metadata": {},
     "output_type": "execute_result"
    }
   ],
   "source": [
    "results[3]"
   ]
  },
  {
   "cell_type": "code",
   "execution_count": 9,
   "metadata": {},
   "outputs": [
    {
     "data": {
      "text/plain": [
       "{'best_estimator': Pipeline(steps=[('standardscaler', StandardScaler()),\n",
       "                 ('svc', SVC(C=1, kernel='linear'))]),\n",
       " 'best_params': {'svc__C': 1, 'svc__kernel': 'linear'},\n",
       " 'best_score': -0.478302142663412}"
      ]
     },
     "execution_count": 9,
     "metadata": {},
     "output_type": "execute_result"
    }
   ],
   "source": [
    "results[5]"
   ]
  },
  {
   "cell_type": "code",
   "execution_count": 42,
   "metadata": {},
   "outputs": [],
   "source": [
    "cols = ['open', 'high', 'low', 'vol', 'max_comp',\n",
    "       'max_neg', 'max_neu', 'max_pos', 'min_comp', 'min_neg', 'min_neu',\n",
    "       'min_pos', 'std_comp', 'std_neg', 'std_neu', 'std_pos', 'mean_comp',\n",
    "       'mean_neg', 'mean_neu', 'mean_pos', 'median_comp', 'median_neg',\n",
    "       'median_neu', 'median_pos', 'count']\n",
    "lags = [3, 5, 6, 8, 10]#, 12, 16]\n",
    "current_main_col = 'bin_5'\n",
    "\n",
    "error = {i:{} for i in lags}\n",
    "for lag in lags:\n",
    "    x, y = create_vectors(df, main_col=current_main_col, lag=lag+1)\n",
    "    mape = create_and_predict(x, y)#['best_score']\n",
    "    \n",
    "    for col in cols:\n",
    "        x, y = create_vectors(df, main_col=current_main_col, cols=[col])\n",
    "        results = create_and_predict(x, y)  \n",
    "        er = results#['best_score']\n",
    "        # since nmape is negative the smaller score the better\n",
    "        error[lag][col] = (round(er, 3), \"+\" if er < mape else \"-\")\n",
    "    error[lag]['baseline'] = (round(mape, 3), '.')\n"
   ]
  },
  {
   "cell_type": "code",
   "execution_count": 48,
   "metadata": {},
   "outputs": [
    {
     "name": "stdout",
     "output_type": "stream",
     "text": [
      "(-0.976, '.')\n",
      "max_neg (-0.976, '-')\n",
      "max_neu (-0.986, '-')\n",
      "min_comp (-0.983, '-')\n",
      "min_pos (-0.988, '-')\n",
      "std_comp (-0.981, '-')\n",
      "std_neu (-0.979, '-')\n",
      "median_comp (-0.98, '-')\n",
      "median_neg (-0.985, '-')\n",
      "median_neu (-0.984, '-')\n",
      "median_pos (-0.985, '-')\n",
      "count (-0.988, '-')\n"
     ]
    }
   ],
   "source": [
    "#[3, 5, 6, 8, 10]\n",
    "print(error[5]['baseline'])\n",
    "for i, j in error[3].items():\n",
    "    \n",
    "    if j[1] == '+':\n",
    "        print(i, j)"
   ]
  }
 ],
 "metadata": {
  "kernelspec": {
   "display_name": "Python 3.10.4 64-bit",
   "language": "python",
   "name": "python3"
  },
  "language_info": {
   "codemirror_mode": {
    "name": "ipython",
    "version": 3
   },
   "file_extension": ".py",
   "mimetype": "text/x-python",
   "name": "python",
   "nbconvert_exporter": "python",
   "pygments_lexer": "ipython3",
   "version": "3.10.4"
  },
  "orig_nbformat": 4,
  "vscode": {
   "interpreter": {
    "hash": "1dd0381d1fc2fb15dda0c9601b2866ce5a466e54b3f253773e8ed097d13694fa"
   }
  }
 },
 "nbformat": 4,
 "nbformat_minor": 2
}
