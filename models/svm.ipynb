{
 "cells": [
  {
   "cell_type": "markdown",
   "metadata": {},
   "source": [
    "## SVM"
   ]
  },
  {
   "cell_type": "markdown",
   "metadata": {},
   "source": [
    "### For all companies measure NMAPE for different lags using different columns"
   ]
  },
  {
   "cell_type": "code",
   "execution_count": 103,
   "metadata": {},
   "outputs": [],
   "source": [
    "import pandas as pd\n",
    "from sklearn.svm import SVC\n",
    "from sklearn.preprocessing import StandardScaler, MinMaxScaler\n",
    "from sklearn.model_selection import TimeSeriesSplit, cross_val_score, cross_val_predict\n",
    "from sklearn.pipeline import make_pipeline\n",
    "from sklearn.metrics import confusion_matrix, ConfusionMatrixDisplay\n",
    "from tools import create_vectors\n",
    "import matplotlib.pyplot as plt\n"
   ]
  },
  {
   "cell_type": "code",
   "execution_count": 2,
   "metadata": {},
   "outputs": [],
   "source": [
    "VITAL_COLS = [\"date_\", \"ticker\", \"close\", \"diffs\", \"bin_2\", \"bin_3\", \"bin_5\"]\n",
    "LAGS = [3, 6, 8, 10, 16]\n",
    "COMPANIES = [\"amzn\", \"aapl\", \"tsla\", \"msft\", \"goog\", \"googl\"]\n"
   ]
  },
  {
   "cell_type": "code",
   "execution_count": 110,
   "metadata": {},
   "outputs": [],
   "source": [
    "def create_and_predict(x, y):\n",
    "    tscv = TimeSeriesSplit(n_splits=4)\n",
    "    regr = make_pipeline(StandardScaler(), SVC(C=1.0, kernel=\"linear\", cache_size=1000))\n",
    "    vals = cross_val_score(regr, x, y, scoring=\"accuracy\", cv=tscv)\n",
    "    return round(sum(vals) / len(vals), 4)\n",
    "\n",
    "\n",
    "def measure(df, bin, lags):\n",
    "    main_col = f\"bin_{bin}\"\n",
    "    cols = [i for i in df.columns if i not in VITAL_COLS]\n",
    "    results = {}\n",
    "\n",
    "    for lag in lags:\n",
    "        i = 0\n",
    "        results[lag] = {}\n",
    "        results[lag][\"baseline\"] = create_and_predict(\n",
    "            *create_vectors(df, main_col=main_col, lag=lag + 1)\n",
    "        )\n",
    "        for col in cols:\n",
    "            print(f\"Lag {lag}: {i}/{len(cols)}\")\n",
    "            accuracy = create_and_predict(\n",
    "                *create_vectors(df, main_col=main_col, cols=[col], lag=lag + 1)\n",
    "            )\n",
    "            results[lag][col] = (\n",
    "                accuracy,\n",
    "                \"+\" if accuracy > results[lag][\"baseline\"] else \"-\",\n",
    "            )\n",
    "            i += 1\n",
    "    return results\n",
    "\n",
    "\n",
    "def print_results(results):\n",
    "    for i in results:\n",
    "        print(i, results[i])\n",
    "\n",
    "\n",
    "def measure_conf_matrix(x, y):\n",
    "    split = len(x) // 5\n",
    "    regr = make_pipeline(StandardScaler(), SVC(C=1.0, kernel=\"linear\", cache_size=1000))\n",
    "    regr.fit(x[:-split], y[:-split])\n",
    "    y_pred = regr.predict(x[-split:])\n",
    "\n",
    "    return confusion_matrix(y[-split:], y_pred)\n"
   ]
  },
  {
   "cell_type": "code",
   "execution_count": 99,
   "metadata": {},
   "outputs": [],
   "source": [
    "df = pd.read_csv(\"../datasets/relevant/amzn.csv\", parse_dates=[\"date_\"])\n"
   ]
  },
  {
   "cell_type": "code",
   "execution_count": 107,
   "metadata": {},
   "outputs": [
    {
     "data": {
      "image/png": "[encoded data removed]",
      "text/plain": [
       "<Figure size 432x288 with 2 Axes>"
      ]
     },
     "metadata": {
      "needs_background": "light"
     },
     "output_type": "display_data"
    }
   ],
   "source": [
    "col = \"bin_5\"\n",
    "cm = measure_conf_matrix(*create_vectors(df, main_col=col))\n",
    "disp = ConfusionMatrixDisplay(confusion_matrix=cm, display_labels=sorted(df[col].unique()))\n",
    "disp.plot()\n",
    "plt.show()\n"
   ]
  },
  {
   "cell_type": "code",
   "execution_count": 131,
   "metadata": {},
   "outputs": [
    {
     "data": {
      "image/png": "[encoded data removed]",
      "text/plain": [
       "<Figure size 432x288 with 1 Axes>"
      ]
     },
     "metadata": {
      "needs_background": "light"
     },
     "output_type": "display_data"
    }
   ],
   "source": [
    "from matplotlib import pyplot as plt\n",
    "\n",
    "plt.hist(df[\"count\"], bins=[i for i in range(0, 200, 5)])\n",
    "plt.show()\n"
   ]
  },
  {
   "cell_type": "code",
   "execution_count": 112,
   "metadata": {},
   "outputs": [
    {
     "name": "stdout",
     "output_type": "stream",
     "text": [
      "Lag 3: 0/10\n",
      "Lag 3: 1/10\n",
      "Lag 3: 2/10\n",
      "Lag 3: 3/10\n",
      "Lag 3: 4/10\n",
      "Lag 3: 5/10\n",
      "Lag 3: 6/10\n",
      "Lag 3: 7/10\n",
      "Lag 3: 8/10\n",
      "Lag 3: 9/10\n",
      "Lag 16: 0/10\n",
      "Lag 16: 1/10\n",
      "Lag 16: 2/10\n",
      "Lag 16: 3/10\n",
      "Lag 16: 4/10\n",
      "Lag 16: 5/10\n",
      "Lag 16: 6/10\n",
      "Lag 16: 7/10\n",
      "Lag 16: 8/10\n",
      "Lag 16: 9/10\n",
      "3 {'baseline': 0.5119, 'low': (0.5119, '-'), 'vol': (0.5119, '-'), 'max_pos': (0.5087, '-'), 'std_neg': (0.5119, '-'), 'std_pos': (0.5128, '+'), 'mean_comp': (0.525, '+'), 'mean_neg': (0.5392, '+'), 'mean_pos': (0.5173, '+'), 'median_comp': (0.5115, '-'), 'count': (0.5122, '+')}\n",
      "16 {'baseline': 0.5105, 'low': (0.5068, '-'), 'vol': (0.5109, '+'), 'max_pos': (0.5122, '+'), 'std_neg': (0.5128, '+'), 'std_pos': (0.5108, '+'), 'mean_comp': (0.5236, '+'), 'mean_neg': (0.5278, '+'), 'mean_pos': (0.5189, '+'), 'median_comp': (0.5028, '-'), 'count': (0.5121, '+')}\n"
     ]
    }
   ],
   "source": [
    "res = measure(df, 2, [3, 16])\n",
    "print_results(res)\n"
   ]
  },
  {
   "cell_type": "code",
   "execution_count": 118,
   "metadata": {},
   "outputs": [],
   "source": [
    "results = {}\n",
    "for company in COMPANIES:\n",
    "    df = pd.read_csv(f\"../datasets/relevant/{company}.csv\", parse_dates=[\"date_\"])\n",
    "    results[company] = {}\n",
    "    results[company][2] = create_and_predict(*create_vectors(df, main_col=\"bin_2\"))\n",
    "    results[company][3] = create_and_predict(*create_vectors(df, main_col=\"bin_3\"))\n",
    "    results[company][5] = create_and_predict(*create_vectors(df, main_col=\"bin_5\"))\n"
   ]
  },
  {
   "cell_type": "code",
   "execution_count": 123,
   "metadata": {},
   "outputs": [
    {
     "name": "stdout",
     "output_type": "stream",
     "text": [
      "amzn {2: 0.5119, 3: 0.5373, 5: 0.5373}\n",
      "aapl {2: 0.5034, 3: 0.5745, 5: 0.5745}\n",
      "tsla {2: 0.505, 3: 0.3193, 5: 0.3209}\n",
      "msft {2: 0.5106, 3: 0.5712, 5: 0.5712}\n",
      "goog {2: 0.5038, 3: 0.5578, 5: 0.5578}\n",
      "googl {2: 0.5024, 3: 0.5493, 5: 0.5493}\n"
     ]
    }
   ],
   "source": [
    "print_results(results)\n"
   ]
  }
 ],
 "metadata": {
  "kernelspec": {
   "display_name": "Python 3.10.4 64-bit",
   "language": "python",
   "name": "python3"
  },
  "language_info": {
   "codemirror_mode": {
    "name": "ipython",
    "version": 3
   },
   "file_extension": ".py",
   "mimetype": "text/x-python",
   "name": "python",
   "nbconvert_exporter": "python",
   "pygments_lexer": "ipython3",
   "version": "3.10.4"
  },
  "orig_nbformat": 4,
  "vscode": {
   "interpreter": {
    "hash": "1dd0381d1fc2fb15dda0c9601b2866ce5a466e54b3f253773e8ed097d13694fa"
   }
  }
 },
 "nbformat": 4,
 "nbformat_minor": 2
}
