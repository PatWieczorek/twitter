{
 "cells": [
  {
   "cell_type": "code",
   "execution_count": 3,
   "metadata": {},
   "outputs": [],
   "source": [
    "import pandas as pd\n",
    "import numpy as np\n",
    "from vaderSentiment.vaderSentiment import SentimentIntensityAnalyzer"
   ]
  },
  {
   "cell_type": "code",
   "execution_count": 4,
   "metadata": {},
   "outputs": [],
   "source": [
    "analyzer = SentimentIntensityAnalyzer()"
   ]
  },
  {
   "cell_type": "code",
   "execution_count": 5,
   "metadata": {},
   "outputs": [],
   "source": [
    "# analiza sentymentu vader (najpierw sam)\n",
    "# podzielic tweety po firmie [done]\n",
    "# aggregacja godzinowo po max, min, mean, median, std, count sentymentu\n",
    "# "
   ]
  },
  {
   "cell_type": "code",
   "execution_count": 6,
   "metadata": {},
   "outputs": [],
   "source": [
    "tweets = pd.read_csv('company_tweets/apple_tweets.csv')\n",
    "#tweets = tweets.sample(10_000).reset_index(drop=True)"
   ]
  },
  {
   "cell_type": "code",
   "execution_count": 7,
   "metadata": {},
   "outputs": [
    {
     "data": {
      "text/html": [
       "<div>\n",
       "<style scoped>\n",
       "    .dataframe tbody tr th:only-of-type {\n",
       "        vertical-align: middle;\n",
       "    }\n",
       "\n",
       "    .dataframe tbody tr th {\n",
       "        vertical-align: top;\n",
       "    }\n",
       "\n",
       "    .dataframe thead th {\n",
       "        text-align: right;\n",
       "    }\n",
       "</style>\n",
       "<table border=\"1\" class=\"dataframe\">\n",
       "  <thead>\n",
       "    <tr style=\"text-align: right;\">\n",
       "      <th></th>\n",
       "      <th>tweet_id</th>\n",
       "      <th>post_date</th>\n",
       "      <th>body</th>\n",
       "      <th>comment_num</th>\n",
       "      <th>retweet_num</th>\n",
       "      <th>like_num</th>\n",
       "      <th>ticker_symbol</th>\n",
       "      <th>company_name</th>\n",
       "    </tr>\n",
       "  </thead>\n",
       "  <tbody>\n",
       "    <tr>\n",
       "      <th>0</th>\n",
       "      <td>550441509175443456</td>\n",
       "      <td>2015-01-01 01:00:57</td>\n",
       "      <td>lx21 made $10,008  on $AAPL -Check it out! htt...</td>\n",
       "      <td>0</td>\n",
       "      <td>0</td>\n",
       "      <td>1</td>\n",
       "      <td>AAPL</td>\n",
       "      <td>apple</td>\n",
       "    </tr>\n",
       "    <tr>\n",
       "      <th>1</th>\n",
       "      <td>550441672312512512</td>\n",
       "      <td>2015-01-01 01:01:36</td>\n",
       "      <td>Insanity of today weirdo massive selling. $aap...</td>\n",
       "      <td>0</td>\n",
       "      <td>0</td>\n",
       "      <td>0</td>\n",
       "      <td>AAPL</td>\n",
       "      <td>apple</td>\n",
       "    </tr>\n",
       "    <tr>\n",
       "      <th>2</th>\n",
       "      <td>550443807834402816</td>\n",
       "      <td>2015-01-01 01:10:05</td>\n",
       "      <td>Swing Trading: Up To 8.91% Return In 14 Days h...</td>\n",
       "      <td>0</td>\n",
       "      <td>0</td>\n",
       "      <td>1</td>\n",
       "      <td>AAPL</td>\n",
       "      <td>apple</td>\n",
       "    </tr>\n",
       "    <tr>\n",
       "      <th>3</th>\n",
       "      <td>550443808606126081</td>\n",
       "      <td>2015-01-01 01:10:05</td>\n",
       "      <td>Swing Trading: Up To 8.91% Return In 14 Days h...</td>\n",
       "      <td>0</td>\n",
       "      <td>0</td>\n",
       "      <td>1</td>\n",
       "      <td>AAPL</td>\n",
       "      <td>apple</td>\n",
       "    </tr>\n",
       "    <tr>\n",
       "      <th>4</th>\n",
       "      <td>550443809700851716</td>\n",
       "      <td>2015-01-01 01:10:05</td>\n",
       "      <td>Swing Trading: Up To 8.91% Return In 14 Days h...</td>\n",
       "      <td>0</td>\n",
       "      <td>0</td>\n",
       "      <td>1</td>\n",
       "      <td>AAPL</td>\n",
       "      <td>apple</td>\n",
       "    </tr>\n",
       "  </tbody>\n",
       "</table>\n",
       "</div>"
      ],
      "text/plain": [
       "             tweet_id            post_date  \\\n",
       "0  550441509175443456  2015-01-01 01:00:57   \n",
       "1  550441672312512512  2015-01-01 01:01:36   \n",
       "2  550443807834402816  2015-01-01 01:10:05   \n",
       "3  550443808606126081  2015-01-01 01:10:05   \n",
       "4  550443809700851716  2015-01-01 01:10:05   \n",
       "\n",
       "                                                body  comment_num  \\\n",
       "0  lx21 made $10,008  on $AAPL -Check it out! htt...            0   \n",
       "1  Insanity of today weirdo massive selling. $aap...            0   \n",
       "2  Swing Trading: Up To 8.91% Return In 14 Days h...            0   \n",
       "3  Swing Trading: Up To 8.91% Return In 14 Days h...            0   \n",
       "4  Swing Trading: Up To 8.91% Return In 14 Days h...            0   \n",
       "\n",
       "   retweet_num  like_num ticker_symbol company_name  \n",
       "0            0         1          AAPL        apple  \n",
       "1            0         0          AAPL        apple  \n",
       "2            0         1          AAPL        apple  \n",
       "3            0         1          AAPL        apple  \n",
       "4            0         1          AAPL        apple  "
      ]
     },
     "execution_count": 7,
     "metadata": {},
     "output_type": "execute_result"
    }
   ],
   "source": [
    "tweets.head()"
   ]
  },
  {
   "cell_type": "code",
   "execution_count": 8,
   "metadata": {},
   "outputs": [],
   "source": [
    "def clean_body(col):\n",
    "    import re\n",
    "    # usun urle\n",
    "    # usun hashtagi \n",
    "    pattern_url = r'https?://[a-z.]+/[?a-z0-9./]+'\n",
    "    pattern_hash = r'#[a-z0-9_]+'\n",
    "    col = re.sub(pattern_url, '', col, flags=re.I)\n",
    "    col = re.sub(pattern_hash, '', col, flags=re.I)\n",
    "\n",
    "    return col"
   ]
  },
  {
   "cell_type": "code",
   "execution_count": 9,
   "metadata": {},
   "outputs": [
    {
     "data": {
      "text/plain": [
       "'Facebook, Apple, And Microsoft ganging up on Google - Business Insider  $FB, $AAPL, $GOOG, $MSFT '"
      ]
     },
     "execution_count": 9,
     "metadata": {},
     "output_type": "execute_result"
    }
   ],
   "source": [
    "xd = tweets['body'][37]\n",
    "clean_body(xd)"
   ]
  },
  {
   "cell_type": "code",
   "execution_count": 10,
   "metadata": {},
   "outputs": [],
   "source": [
    "tweets_clean = tweets['body'].apply(clean_body)"
   ]
  },
  {
   "cell_type": "code",
   "execution_count": 11,
   "metadata": {},
   "outputs": [],
   "source": [
    "tweets_sent = tweets_clean.apply(analyzer.polarity_scores)"
   ]
  },
  {
   "cell_type": "code",
   "execution_count": 12,
   "metadata": {},
   "outputs": [
    {
     "data": {
      "text/plain": [
       "0    {'neg': 0.0, 'neu': 1.0, 'pos': 0.0, 'compound...\n",
       "1    {'neg': 0.339, 'neu': 0.661, 'pos': 0.0, 'comp...\n",
       "2    {'neg': 0.0, 'neu': 1.0, 'pos': 0.0, 'compound...\n",
       "3    {'neg': 0.0, 'neu': 1.0, 'pos': 0.0, 'compound...\n",
       "4    {'neg': 0.0, 'neu': 1.0, 'pos': 0.0, 'compound...\n",
       "Name: body, dtype: object"
      ]
     },
     "execution_count": 12,
     "metadata": {},
     "output_type": "execute_result"
    }
   ],
   "source": [
    "tweets_sent[:5]"
   ]
  },
  {
   "cell_type": "code",
   "execution_count": 13,
   "metadata": {},
   "outputs": [],
   "source": [
    "def convert_dict_keyval_to_col(dict, key):\n",
    "    new_col = []\n",
    "    for i in dict:\n",
    "        new_col.append(i[key])\n",
    "    return new_col"
   ]
  },
  {
   "cell_type": "code",
   "execution_count": 14,
   "metadata": {},
   "outputs": [],
   "source": [
    "sentiment_val = pd.DataFrame()\n",
    "sentiment_val['pos'] = convert_dict_keyval_to_col(tweets_sent, 'pos')\n",
    "sentiment_val['neu'] = convert_dict_keyval_to_col(tweets_sent, 'neu')\n",
    "sentiment_val['neg'] = convert_dict_keyval_to_col(tweets_sent, 'neg')\n",
    "sentiment_val['comp'] = convert_dict_keyval_to_col(tweets_sent, 'compound')\n"
   ]
  },
  {
   "cell_type": "code",
   "execution_count": 15,
   "metadata": {},
   "outputs": [
    {
     "data": {
      "text/html": [
       "<div>\n",
       "<style scoped>\n",
       "    .dataframe tbody tr th:only-of-type {\n",
       "        vertical-align: middle;\n",
       "    }\n",
       "\n",
       "    .dataframe tbody tr th {\n",
       "        vertical-align: top;\n",
       "    }\n",
       "\n",
       "    .dataframe thead th {\n",
       "        text-align: right;\n",
       "    }\n",
       "</style>\n",
       "<table border=\"1\" class=\"dataframe\">\n",
       "  <thead>\n",
       "    <tr style=\"text-align: right;\">\n",
       "      <th></th>\n",
       "      <th>pos</th>\n",
       "      <th>neu</th>\n",
       "      <th>neg</th>\n",
       "      <th>comp</th>\n",
       "      <th>date</th>\n",
       "    </tr>\n",
       "  </thead>\n",
       "  <tbody>\n",
       "    <tr>\n",
       "      <th>0</th>\n",
       "      <td>0.0</td>\n",
       "      <td>1.000</td>\n",
       "      <td>0.000</td>\n",
       "      <td>0.0000</td>\n",
       "      <td>2015-01-01 01:00:57</td>\n",
       "    </tr>\n",
       "    <tr>\n",
       "      <th>1</th>\n",
       "      <td>0.0</td>\n",
       "      <td>0.661</td>\n",
       "      <td>0.339</td>\n",
       "      <td>-0.8271</td>\n",
       "      <td>2015-01-01 01:01:36</td>\n",
       "    </tr>\n",
       "    <tr>\n",
       "      <th>2</th>\n",
       "      <td>0.0</td>\n",
       "      <td>1.000</td>\n",
       "      <td>0.000</td>\n",
       "      <td>0.0000</td>\n",
       "      <td>2015-01-01 01:10:05</td>\n",
       "    </tr>\n",
       "    <tr>\n",
       "      <th>3</th>\n",
       "      <td>0.0</td>\n",
       "      <td>1.000</td>\n",
       "      <td>0.000</td>\n",
       "      <td>0.0000</td>\n",
       "      <td>2015-01-01 01:10:05</td>\n",
       "    </tr>\n",
       "    <tr>\n",
       "      <th>4</th>\n",
       "      <td>0.0</td>\n",
       "      <td>1.000</td>\n",
       "      <td>0.000</td>\n",
       "      <td>0.0000</td>\n",
       "      <td>2015-01-01 01:10:05</td>\n",
       "    </tr>\n",
       "  </tbody>\n",
       "</table>\n",
       "</div>"
      ],
      "text/plain": [
       "   pos    neu    neg    comp                 date\n",
       "0  0.0  1.000  0.000  0.0000  2015-01-01 01:00:57\n",
       "1  0.0  0.661  0.339 -0.8271  2015-01-01 01:01:36\n",
       "2  0.0  1.000  0.000  0.0000  2015-01-01 01:10:05\n",
       "3  0.0  1.000  0.000  0.0000  2015-01-01 01:10:05\n",
       "4  0.0  1.000  0.000  0.0000  2015-01-01 01:10:05"
      ]
     },
     "execution_count": 15,
     "metadata": {},
     "output_type": "execute_result"
    }
   ],
   "source": [
    "sentiment_val['date'] = tweets['post_date']\n",
    "sentiment_val.head()"
   ]
  },
  {
   "cell_type": "markdown",
   "metadata": {},
   "source": [
    "### Aggregation"
   ]
  },
  {
   "cell_type": "code",
   "execution_count": 16,
   "metadata": {},
   "outputs": [],
   "source": [
    "# round down\n",
    "# problem moze sie pojawic w zaleznosci od tickow stokow\n",
    "# (jaki?) \n",
    "def prepare_time(col):\n",
    "    date, time = col.split(' ')\n",
    "    time = f'{time[0:2]}:00:00'\n",
    "    return date + ' ' + time\n",
    "    "
   ]
  },
  {
   "cell_type": "code",
   "execution_count": 17,
   "metadata": {},
   "outputs": [
    {
     "data": {
      "text/html": [
       "<div>\n",
       "<style scoped>\n",
       "    .dataframe tbody tr th:only-of-type {\n",
       "        vertical-align: middle;\n",
       "    }\n",
       "\n",
       "    .dataframe tbody tr th {\n",
       "        vertical-align: top;\n",
       "    }\n",
       "\n",
       "    .dataframe thead th {\n",
       "        text-align: right;\n",
       "    }\n",
       "</style>\n",
       "<table border=\"1\" class=\"dataframe\">\n",
       "  <thead>\n",
       "    <tr style=\"text-align: right;\">\n",
       "      <th></th>\n",
       "      <th>pos</th>\n",
       "      <th>neu</th>\n",
       "      <th>neg</th>\n",
       "      <th>comp</th>\n",
       "      <th>date</th>\n",
       "    </tr>\n",
       "  </thead>\n",
       "  <tbody>\n",
       "    <tr>\n",
       "      <th>0</th>\n",
       "      <td>0.0</td>\n",
       "      <td>1.000</td>\n",
       "      <td>0.000</td>\n",
       "      <td>0.0000</td>\n",
       "      <td>2015-01-01 01:00:00</td>\n",
       "    </tr>\n",
       "    <tr>\n",
       "      <th>1</th>\n",
       "      <td>0.0</td>\n",
       "      <td>0.661</td>\n",
       "      <td>0.339</td>\n",
       "      <td>-0.8271</td>\n",
       "      <td>2015-01-01 01:00:00</td>\n",
       "    </tr>\n",
       "    <tr>\n",
       "      <th>2</th>\n",
       "      <td>0.0</td>\n",
       "      <td>1.000</td>\n",
       "      <td>0.000</td>\n",
       "      <td>0.0000</td>\n",
       "      <td>2015-01-01 01:00:00</td>\n",
       "    </tr>\n",
       "    <tr>\n",
       "      <th>3</th>\n",
       "      <td>0.0</td>\n",
       "      <td>1.000</td>\n",
       "      <td>0.000</td>\n",
       "      <td>0.0000</td>\n",
       "      <td>2015-01-01 01:00:00</td>\n",
       "    </tr>\n",
       "    <tr>\n",
       "      <th>4</th>\n",
       "      <td>0.0</td>\n",
       "      <td>1.000</td>\n",
       "      <td>0.000</td>\n",
       "      <td>0.0000</td>\n",
       "      <td>2015-01-01 01:00:00</td>\n",
       "    </tr>\n",
       "  </tbody>\n",
       "</table>\n",
       "</div>"
      ],
      "text/plain": [
       "   pos    neu    neg    comp                 date\n",
       "0  0.0  1.000  0.000  0.0000  2015-01-01 01:00:00\n",
       "1  0.0  0.661  0.339 -0.8271  2015-01-01 01:00:00\n",
       "2  0.0  1.000  0.000  0.0000  2015-01-01 01:00:00\n",
       "3  0.0  1.000  0.000  0.0000  2015-01-01 01:00:00\n",
       "4  0.0  1.000  0.000  0.0000  2015-01-01 01:00:00"
      ]
     },
     "execution_count": 17,
     "metadata": {},
     "output_type": "execute_result"
    }
   ],
   "source": [
    "sentiment_val['date'] = sentiment_val['date'].apply(prepare_time)\n",
    "sentiment_val.head()"
   ]
  },
  {
   "cell_type": "code",
   "execution_count": 18,
   "metadata": {},
   "outputs": [],
   "source": [
    "# grupuje godzinowo\n",
    "#values=['comp','neg','neu','pos']\n",
    "test = pd.pivot_table(sentiment_val, index=['date'], aggfunc=['max', 'min', 'std', 'mean', 'median', 'count']).reset_index()"
   ]
  },
  {
   "cell_type": "code",
   "execution_count": 19,
   "metadata": {},
   "outputs": [],
   "source": [
    "test.columns = [f'{i}_{j}' for i,j in test.columns]\n",
    "test['count'] = test['count_pos']"
   ]
  },
  {
   "cell_type": "code",
   "execution_count": 20,
   "metadata": {},
   "outputs": [
    {
     "data": {
      "text/html": [
       "<div>\n",
       "<style scoped>\n",
       "    .dataframe tbody tr th:only-of-type {\n",
       "        vertical-align: middle;\n",
       "    }\n",
       "\n",
       "    .dataframe tbody tr th {\n",
       "        vertical-align: top;\n",
       "    }\n",
       "\n",
       "    .dataframe thead th {\n",
       "        text-align: right;\n",
       "    }\n",
       "</style>\n",
       "<table border=\"1\" class=\"dataframe\">\n",
       "  <thead>\n",
       "    <tr style=\"text-align: right;\">\n",
       "      <th></th>\n",
       "      <th>date_</th>\n",
       "      <th>max_comp</th>\n",
       "      <th>max_neg</th>\n",
       "      <th>max_neu</th>\n",
       "      <th>max_pos</th>\n",
       "      <th>min_comp</th>\n",
       "      <th>min_neg</th>\n",
       "      <th>min_neu</th>\n",
       "      <th>min_pos</th>\n",
       "      <th>std_comp</th>\n",
       "      <th>...</th>\n",
       "      <th>std_pos</th>\n",
       "      <th>mean_comp</th>\n",
       "      <th>mean_neg</th>\n",
       "      <th>mean_neu</th>\n",
       "      <th>mean_pos</th>\n",
       "      <th>median_comp</th>\n",
       "      <th>median_neg</th>\n",
       "      <th>median_neu</th>\n",
       "      <th>median_pos</th>\n",
       "      <th>count</th>\n",
       "    </tr>\n",
       "  </thead>\n",
       "  <tbody>\n",
       "    <tr>\n",
       "      <th>0</th>\n",
       "      <td>2015-01-01 01:00:00</td>\n",
       "      <td>0.6369</td>\n",
       "      <td>0.339</td>\n",
       "      <td>1.0</td>\n",
       "      <td>0.369</td>\n",
       "      <td>-0.8271</td>\n",
       "      <td>0.0</td>\n",
       "      <td>0.631</td>\n",
       "      <td>0.0</td>\n",
       "      <td>0.272298</td>\n",
       "      <td>...</td>\n",
       "      <td>0.096070</td>\n",
       "      <td>0.062482</td>\n",
       "      <td>0.023045</td>\n",
       "      <td>0.917818</td>\n",
       "      <td>0.059136</td>\n",
       "      <td>0.0000</td>\n",
       "      <td>0.000</td>\n",
       "      <td>1.0000</td>\n",
       "      <td>0.0</td>\n",
       "      <td>22</td>\n",
       "    </tr>\n",
       "    <tr>\n",
       "      <th>1</th>\n",
       "      <td>2015-01-01 02:00:00</td>\n",
       "      <td>0.7456</td>\n",
       "      <td>0.223</td>\n",
       "      <td>1.0</td>\n",
       "      <td>0.413</td>\n",
       "      <td>-0.5766</td>\n",
       "      <td>0.0</td>\n",
       "      <td>0.587</td>\n",
       "      <td>0.0</td>\n",
       "      <td>0.375012</td>\n",
       "      <td>...</td>\n",
       "      <td>0.124790</td>\n",
       "      <td>0.053925</td>\n",
       "      <td>0.053167</td>\n",
       "      <td>0.866500</td>\n",
       "      <td>0.080333</td>\n",
       "      <td>0.0000</td>\n",
       "      <td>0.000</td>\n",
       "      <td>0.8825</td>\n",
       "      <td>0.0</td>\n",
       "      <td>12</td>\n",
       "    </tr>\n",
       "    <tr>\n",
       "      <th>2</th>\n",
       "      <td>2015-01-01 03:00:00</td>\n",
       "      <td>0.8065</td>\n",
       "      <td>0.152</td>\n",
       "      <td>1.0</td>\n",
       "      <td>0.327</td>\n",
       "      <td>-0.3612</td>\n",
       "      <td>0.0</td>\n",
       "      <td>0.673</td>\n",
       "      <td>0.0</td>\n",
       "      <td>0.317696</td>\n",
       "      <td>...</td>\n",
       "      <td>0.117028</td>\n",
       "      <td>0.113570</td>\n",
       "      <td>0.015200</td>\n",
       "      <td>0.916700</td>\n",
       "      <td>0.068100</td>\n",
       "      <td>0.0000</td>\n",
       "      <td>0.000</td>\n",
       "      <td>1.0000</td>\n",
       "      <td>0.0</td>\n",
       "      <td>10</td>\n",
       "    </tr>\n",
       "    <tr>\n",
       "      <th>3</th>\n",
       "      <td>2015-01-01 04:00:00</td>\n",
       "      <td>0.4019</td>\n",
       "      <td>0.184</td>\n",
       "      <td>1.0</td>\n",
       "      <td>0.184</td>\n",
       "      <td>-0.2732</td>\n",
       "      <td>0.0</td>\n",
       "      <td>0.649</td>\n",
       "      <td>0.0</td>\n",
       "      <td>0.243724</td>\n",
       "      <td>...</td>\n",
       "      <td>0.086003</td>\n",
       "      <td>-0.070700</td>\n",
       "      <td>0.080000</td>\n",
       "      <td>0.869857</td>\n",
       "      <td>0.050286</td>\n",
       "      <td>-0.0772</td>\n",
       "      <td>0.123</td>\n",
       "      <td>0.8770</td>\n",
       "      <td>0.0</td>\n",
       "      <td>7</td>\n",
       "    </tr>\n",
       "    <tr>\n",
       "      <th>4</th>\n",
       "      <td>2015-01-01 05:00:00</td>\n",
       "      <td>0.5023</td>\n",
       "      <td>0.111</td>\n",
       "      <td>1.0</td>\n",
       "      <td>0.136</td>\n",
       "      <td>-0.2500</td>\n",
       "      <td>0.0</td>\n",
       "      <td>0.864</td>\n",
       "      <td>0.0</td>\n",
       "      <td>0.260410</td>\n",
       "      <td>...</td>\n",
       "      <td>0.062039</td>\n",
       "      <td>0.073563</td>\n",
       "      <td>0.023875</td>\n",
       "      <td>0.942625</td>\n",
       "      <td>0.033500</td>\n",
       "      <td>0.0000</td>\n",
       "      <td>0.000</td>\n",
       "      <td>0.9600</td>\n",
       "      <td>0.0</td>\n",
       "      <td>8</td>\n",
       "    </tr>\n",
       "  </tbody>\n",
       "</table>\n",
       "<p>5 rows × 22 columns</p>\n",
       "</div>"
      ],
      "text/plain": [
       "                 date_  max_comp  max_neg  max_neu  max_pos  min_comp  \\\n",
       "0  2015-01-01 01:00:00    0.6369    0.339      1.0    0.369   -0.8271   \n",
       "1  2015-01-01 02:00:00    0.7456    0.223      1.0    0.413   -0.5766   \n",
       "2  2015-01-01 03:00:00    0.8065    0.152      1.0    0.327   -0.3612   \n",
       "3  2015-01-01 04:00:00    0.4019    0.184      1.0    0.184   -0.2732   \n",
       "4  2015-01-01 05:00:00    0.5023    0.111      1.0    0.136   -0.2500   \n",
       "\n",
       "   min_neg  min_neu  min_pos  std_comp  ...   std_pos  mean_comp  mean_neg  \\\n",
       "0      0.0    0.631      0.0  0.272298  ...  0.096070   0.062482  0.023045   \n",
       "1      0.0    0.587      0.0  0.375012  ...  0.124790   0.053925  0.053167   \n",
       "2      0.0    0.673      0.0  0.317696  ...  0.117028   0.113570  0.015200   \n",
       "3      0.0    0.649      0.0  0.243724  ...  0.086003  -0.070700  0.080000   \n",
       "4      0.0    0.864      0.0  0.260410  ...  0.062039   0.073563  0.023875   \n",
       "\n",
       "   mean_neu  mean_pos  median_comp  median_neg  median_neu  median_pos  count  \n",
       "0  0.917818  0.059136       0.0000       0.000      1.0000         0.0     22  \n",
       "1  0.866500  0.080333       0.0000       0.000      0.8825         0.0     12  \n",
       "2  0.916700  0.068100       0.0000       0.000      1.0000         0.0     10  \n",
       "3  0.869857  0.050286      -0.0772       0.123      0.8770         0.0      7  \n",
       "4  0.942625  0.033500       0.0000       0.000      0.9600         0.0      8  \n",
       "\n",
       "[5 rows x 22 columns]"
      ]
     },
     "execution_count": 20,
     "metadata": {},
     "output_type": "execute_result"
    }
   ],
   "source": [
    "test.drop(['count_neg','count_neu','count_pos', 'count_comp'], axis=1, inplace=True)\n",
    "test.head()"
   ]
  },
  {
   "cell_type": "code",
   "execution_count": 29,
   "metadata": {},
   "outputs": [
    {
     "data": {
      "text/plain": [
       "<AxesSubplot:xlabel='date_', ylabel='mean_pos'>"
      ]
     },
     "execution_count": 29,
     "metadata": {},
     "output_type": "execute_result"
    },
    {
     "data": {
      "image/png": "[encoded data removed]",
      "text/plain": [
       "<Figure size 432x288 with 1 Axes>"
      ]
     },
     "metadata": {
      "needs_background": "light"
     },
     "output_type": "display_data"
    }
   ],
   "source": [
    "import seaborn as sns\n",
    "dupa = test[:100]\n",
    "sns.lineplot(data=dupa, x='date_', y='mean_pos')"
   ]
  }
 ],
 "metadata": {
  "interpreter": {
   "hash": "5afecddb898814c68502931846f5d995c552467ab2508dfd835e22d9de9f82eb"
  },
  "kernelspec": {
   "display_name": "Python 3.10.0 64-bit",
   "language": "python",
   "name": "python3"
  },
  "language_info": {
   "codemirror_mode": {
    "name": "ipython",
    "version": 3
   },
   "file_extension": ".py",
   "mimetype": "text/x-python",
   "name": "python",
   "nbconvert_exporter": "python",
   "pygments_lexer": "ipython3",
   "version": "3.10.4"
  },
  "orig_nbformat": 4
 },
 "nbformat": 4,
 "nbformat_minor": 2
}
