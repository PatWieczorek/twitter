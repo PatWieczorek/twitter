{
 "cells": [
  {
   "cell_type": "code",
   "execution_count": 56,
   "metadata": {},
   "outputs": [],
   "source": [
    "import pandas as pd\n",
    "from vaderSentiment.vaderSentiment import SentimentIntensityAnalyzer"
   ]
  },
  {
   "cell_type": "code",
   "execution_count": null,
   "metadata": {},
   "outputs": [],
   "source": [
    "analyzer = SentimentIntensityAnalyzer()"
   ]
  },
  {
   "cell_type": "code",
   "execution_count": 57,
   "metadata": {},
   "outputs": [],
   "source": [
    "# analiza sentymentu vader (najpierw sam)\n",
    "# podzielic tweety po firmie\n",
    "# aggregacja godzinowo po max, min, mean, median, std, count\n",
    "# "
   ]
  },
  {
   "cell_type": "code",
   "execution_count": 58,
   "metadata": {},
   "outputs": [],
   "source": [
    "tweets = pd.read_csv('company_tweets/apple_tweets.csv')\n",
    "tweets = tweets.sample(10_000).reset_index(drop=True)"
   ]
  },
  {
   "cell_type": "code",
   "execution_count": 59,
   "metadata": {},
   "outputs": [
    {
     "data": {
      "text/html": [
       "<div>\n",
       "<style scoped>\n",
       "    .dataframe tbody tr th:only-of-type {\n",
       "        vertical-align: middle;\n",
       "    }\n",
       "\n",
       "    .dataframe tbody tr th {\n",
       "        vertical-align: top;\n",
       "    }\n",
       "\n",
       "    .dataframe thead th {\n",
       "        text-align: right;\n",
       "    }\n",
       "</style>\n",
       "<table border=\"1\" class=\"dataframe\">\n",
       "  <thead>\n",
       "    <tr style=\"text-align: right;\">\n",
       "      <th></th>\n",
       "      <th>tweet_id</th>\n",
       "      <th>post_date</th>\n",
       "      <th>body</th>\n",
       "      <th>comment_num</th>\n",
       "      <th>retweet_num</th>\n",
       "      <th>like_num</th>\n",
       "      <th>ticker_symbol</th>\n",
       "      <th>company_name</th>\n",
       "    </tr>\n",
       "  </thead>\n",
       "  <tbody>\n",
       "    <tr>\n",
       "      <th>0</th>\n",
       "      <td>738794886732734464</td>\n",
       "      <td>2016-06-03 20:10:01</td>\n",
       "      <td>Anticipating #WWDC16: What’s in store for #iCl...</td>\n",
       "      <td>0</td>\n",
       "      <td>0</td>\n",
       "      <td>0</td>\n",
       "      <td>AAPL</td>\n",
       "      <td>apple</td>\n",
       "    </tr>\n",
       "    <tr>\n",
       "      <th>1</th>\n",
       "      <td>971617971834703872</td>\n",
       "      <td>2018-03-08 06:25:50</td>\n",
       "      <td>Thursday’s Watch1: $AMZN $ADBE $AAPL $AMD $BTC...</td>\n",
       "      <td>1</td>\n",
       "      <td>2</td>\n",
       "      <td>6</td>\n",
       "      <td>AAPL</td>\n",
       "      <td>apple</td>\n",
       "    </tr>\n",
       "    <tr>\n",
       "      <th>2</th>\n",
       "      <td>1055031174123393024</td>\n",
       "      <td>2018-10-24 11:40:08</td>\n",
       "      <td>Italy’s Antitrust To Fine Samsung, Apple Over ...</td>\n",
       "      <td>0</td>\n",
       "      <td>2</td>\n",
       "      <td>0</td>\n",
       "      <td>AAPL</td>\n",
       "      <td>apple</td>\n",
       "    </tr>\n",
       "    <tr>\n",
       "      <th>3</th>\n",
       "      <td>949348512885628928</td>\n",
       "      <td>2018-01-05 19:34:58</td>\n",
       "      <td>Apple App Store revenue grew 34.7% in 2017 $AA...</td>\n",
       "      <td>0</td>\n",
       "      <td>1</td>\n",
       "      <td>1</td>\n",
       "      <td>AAPL</td>\n",
       "      <td>apple</td>\n",
       "    </tr>\n",
       "    <tr>\n",
       "      <th>4</th>\n",
       "      <td>911243851880325120</td>\n",
       "      <td>2017-09-22 17:00:39</td>\n",
       "      <td>And who was the goofball telling me yesterday ...</td>\n",
       "      <td>0</td>\n",
       "      <td>0</td>\n",
       "      <td>1</td>\n",
       "      <td>AAPL</td>\n",
       "      <td>apple</td>\n",
       "    </tr>\n",
       "  </tbody>\n",
       "</table>\n",
       "</div>"
      ],
      "text/plain": [
       "              tweet_id            post_date  \\\n",
       "0   738794886732734464  2016-06-03 20:10:01   \n",
       "1   971617971834703872  2018-03-08 06:25:50   \n",
       "2  1055031174123393024  2018-10-24 11:40:08   \n",
       "3   949348512885628928  2018-01-05 19:34:58   \n",
       "4   911243851880325120  2017-09-22 17:00:39   \n",
       "\n",
       "                                                body  comment_num  \\\n",
       "0  Anticipating #WWDC16: What’s in store for #iCl...            0   \n",
       "1  Thursday’s Watch1: $AMZN $ADBE $AAPL $AMD $BTC...            1   \n",
       "2  Italy’s Antitrust To Fine Samsung, Apple Over ...            0   \n",
       "3  Apple App Store revenue grew 34.7% in 2017 $AA...            0   \n",
       "4  And who was the goofball telling me yesterday ...            0   \n",
       "\n",
       "   retweet_num  like_num ticker_symbol company_name  \n",
       "0            0         0          AAPL        apple  \n",
       "1            2         6          AAPL        apple  \n",
       "2            2         0          AAPL        apple  \n",
       "3            1         1          AAPL        apple  \n",
       "4            0         1          AAPL        apple  "
      ]
     },
     "execution_count": 59,
     "metadata": {},
     "output_type": "execute_result"
    }
   ],
   "source": [
    "tweets.head()"
   ]
  },
  {
   "cell_type": "code",
   "execution_count": 84,
   "metadata": {},
   "outputs": [],
   "source": [
    "def clean_body(col):\n",
    "    import re\n",
    "    # usun urle\n",
    "    # usun hashtagi \n",
    "    pattern = r'https?://[a-z.]+/[?a-z0-9./]+'\n",
    "    col = re.sub(pattern, '', col)\n",
    "    \n",
    "    return col"
   ]
  },
  {
   "cell_type": "code",
   "execution_count": 85,
   "metadata": {},
   "outputs": [
    {
     "data": {
      "text/plain": [
       "\"Join @RobinhoodApp and we'll both get a share of stock like $AAPL, $F, or $S for free. Make sure to use my link.\""
      ]
     },
     "execution_count": 85,
     "metadata": {},
     "output_type": "execute_result"
    }
   ],
   "source": [
    "xd = tweets['body'][37]\n",
    "clean_body(xd)"
   ]
  },
  {
   "cell_type": "code",
   "execution_count": 60,
   "metadata": {},
   "outputs": [],
   "source": []
  }
 ],
 "metadata": {
  "interpreter": {
   "hash": "5afecddb898814c68502931846f5d995c552467ab2508dfd835e22d9de9f82eb"
  },
  "kernelspec": {
   "display_name": "Python 3.10.0 64-bit",
   "language": "python",
   "name": "python3"
  },
  "language_info": {
   "codemirror_mode": {
    "name": "ipython",
    "version": 3
   },
   "file_extension": ".py",
   "mimetype": "text/x-python",
   "name": "python",
   "nbconvert_exporter": "python",
   "pygments_lexer": "ipython3",
   "version": "3.10.0"
  },
  "orig_nbformat": 4
 },
 "nbformat": 4,
 "nbformat_minor": 2
}
